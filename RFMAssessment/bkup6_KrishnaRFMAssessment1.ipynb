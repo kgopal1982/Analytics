{
 "cells": [
  {
   "cell_type": "markdown",
   "metadata": {},
   "source": [
    "\n"
   ]
  },
  {
   "cell_type": "code",
   "execution_count": 160,
   "metadata": {},
   "outputs": [],
   "source": [
    "import sqlite3\n",
    "import datetime as dt"
   ]
  },
  {
   "cell_type": "code",
   "execution_count": 161,
   "metadata": {},
   "outputs": [],
   "source": [
    "file = open(\"C:\\\\DataSets\\\\OnlineRetail2Sample.csv\")\n",
    "data1 = file.readlines()\n",
    "data = data1[1:]"
   ]
  },
  {
   "cell_type": "code",
   "execution_count": 162,
   "metadata": {},
   "outputs": [
    {
     "name": "stdout",
     "output_type": "stream",
     "text": [
      "Opened database successfully\n"
     ]
    }
   ],
   "source": [
    "conn = sqlite3.connect('C:\\\\DataSets\\\\RFMDB.db')\n",
    "print (\"Opened database successfully\")"
   ]
  },
  {
   "cell_type": "code",
   "execution_count": 158,
   "metadata": {},
   "outputs": [
    {
     "name": "stdout",
     "output_type": "stream",
     "text": [
      "Table created successfully\n"
     ]
    }
   ],
   "source": [
    "conn.execute('''CREATE TABLE RFMDM_TEMP (\n",
    "    InvoiceNo   CHAR (20),\n",
    "    StockCode   CHAR (20),\n",
    "    Quantity    INTEGER,\n",
    "    DoP         DATE,\n",
    "    UnitPrice   FLOAT,\n",
    "    CustomerID  CHAR (30));''')\n",
    "print (\"Table created successfully\")\n",
    "\n",
    "#conn.close()"
   ]
  },
  {
   "cell_type": "code",
   "execution_count": 163,
   "metadata": {},
   "outputs": [
    {
     "name": "stdout",
     "output_type": "stream",
     "text": [
      "Commit successful\n"
     ]
    }
   ],
   "source": [
    "for row in data:\n",
    "    #iData = data[row].split(sep = \",\")\n",
    "    iData = row.split(sep = \",\")\n",
    "    #print(iData)\n",
    "    InvoiceNo = iData[0]\n",
    "    StockCode = iData[1]\n",
    "    Quantity = iData[2]\n",
    "    DoP = iData[3]\n",
    "    UnitPrice = iData[4]\n",
    "    CustomerID = iData[5]\n",
    "\n",
    "    #print(InvoiceNo, StockCode, Quantity, DoP, UnitPrice, CustomerID)\n",
    "\n",
    "    #sql = 'INSERT INTO RFMDM (InvoiceNo,StockCode,Quantity,DoP,UnitPrice,CustomerID) \\\n",
    "    #      VALUES (' + 536365 , 71053, 6, \\'12/1/2010\\', 3.39, 17850)\"\n",
    "\n",
    "    sql = \"INSERT INTO RFMDM_TEMP (InvoiceNo,StockCode,Quantity,DoP,UnitPrice,CustomerID) \\\n",
    "          VALUES (\" + \"\\'\" + InvoiceNo + \"\\',\\'\"+ StockCode + \"\\',\"+ Quantity  + ','+ \"\\'\" + DoP + \"\\'\" +','+ UnitPrice +',' + CustomerID + \" )\"\n",
    "    #print(sql)\n",
    "    conn.execute(sql)\n",
    "conn.commit()    \n",
    "conn.close()\n",
    "print(\"Commit successful\")"
   ]
  },
  {
   "cell_type": "code",
   "execution_count": 164,
   "metadata": {},
   "outputs": [
    {
     "name": "stdout",
     "output_type": "stream",
     "text": [
      "Opened database successfully\n",
      "[('536365', '85123A', 6, '12/1/2010', 2.55, '17850'), ('536365', '71053', 6, '12/1/2010', 3.39, '17850'), ('536365', '84406B', 8, '12/1/2010', 2.75, '17850'), ('536365', '84029G', 6, '12/1/2010', 3.39, '17850'), ('536365', '84029E', 6, '12/1/2010', 3.39, '17850')]\n"
     ]
    }
   ],
   "source": [
    "conn = sqlite3.connect('C:\\\\DataSets\\\\RFMDB.db')\n",
    "print (\"Opened database successfully\")\n",
    "cur = conn.execute(\"select * from RFMDM_TEMP limit 5\")\n",
    "data = cur.fetchall()\n",
    "conn.close()\n",
    "print(data)"
   ]
  },
  {
   "cell_type": "markdown",
   "metadata": {},
   "source": [
    "#Run delete query in the table rfmdm\n",
    "select count(*) from RFMDM_TEMP\n",
    "-- 406829\n",
    "\n",
    "select count(*) from RFMDM_TEMP where StockCode in ('POST', 'D', 'BANK CHARGES', 'C2', 'CRUK', 'DOT', 'M', 'PADS')\n",
    "\n",
    "--1920\n",
    "\n",
    "delete from rfmdm where StockCode in ('POST', 'D', 'BANK CHARGES', 'C2', 'CRUK', 'DOT', 'M', 'PADS')\n",
    "select count(*) from RFMDM_TEMP where Quantity<0\n",
    "\n",
    "--8359 (2%)\n",
    "\n",
    "delete from RFMDM_TEMP where quantity <0"
   ]
  },
  {
   "cell_type": "code",
   "execution_count": null,
   "metadata": {},
   "outputs": [],
   "source": []
  },
  {
   "cell_type": "code",
   "execution_count": 165,
   "metadata": {},
   "outputs": [],
   "source": [
    "import pandas as pd"
   ]
  },
  {
   "cell_type": "code",
   "execution_count": 172,
   "metadata": {},
   "outputs": [
    {
     "name": "stdout",
     "output_type": "stream",
     "text": [
      "Opened database successfully\n",
      "records added to dataframe successfully\n"
     ]
    }
   ],
   "source": [
    "conn = sqlite3.connect('C:\\\\DataSets\\\\RFMDB.db')\n",
    "print (\"Opened database successfully\")\n",
    "rfmdm = pd.read_sql(\"select * from RFMDM_TEMP\",conn)\n",
    "print (\"records added to dataframe successfully\")\n",
    "conn.close()"
   ]
  },
  {
   "cell_type": "code",
   "execution_count": 173,
   "metadata": {},
   "outputs": [
    {
     "data": {
      "text/html": [
       "<div>\n",
       "<style scoped>\n",
       "    .dataframe tbody tr th:only-of-type {\n",
       "        vertical-align: middle;\n",
       "    }\n",
       "\n",
       "    .dataframe tbody tr th {\n",
       "        vertical-align: top;\n",
       "    }\n",
       "\n",
       "    .dataframe thead th {\n",
       "        text-align: right;\n",
       "    }\n",
       "</style>\n",
       "<table border=\"1\" class=\"dataframe\">\n",
       "  <thead>\n",
       "    <tr style=\"text-align: right;\">\n",
       "      <th></th>\n",
       "      <th>InvoiceNo</th>\n",
       "      <th>StockCode</th>\n",
       "      <th>Quantity</th>\n",
       "      <th>DoP</th>\n",
       "      <th>UnitPrice</th>\n",
       "      <th>CustomerID</th>\n",
       "    </tr>\n",
       "  </thead>\n",
       "  <tbody>\n",
       "    <tr>\n",
       "      <th>0</th>\n",
       "      <td>536365</td>\n",
       "      <td>85123A</td>\n",
       "      <td>6</td>\n",
       "      <td>12/1/2010</td>\n",
       "      <td>2.55</td>\n",
       "      <td>17850</td>\n",
       "    </tr>\n",
       "    <tr>\n",
       "      <th>1</th>\n",
       "      <td>536365</td>\n",
       "      <td>71053</td>\n",
       "      <td>6</td>\n",
       "      <td>12/1/2010</td>\n",
       "      <td>3.39</td>\n",
       "      <td>17850</td>\n",
       "    </tr>\n",
       "    <tr>\n",
       "      <th>2</th>\n",
       "      <td>536365</td>\n",
       "      <td>84406B</td>\n",
       "      <td>8</td>\n",
       "      <td>12/1/2010</td>\n",
       "      <td>2.75</td>\n",
       "      <td>17850</td>\n",
       "    </tr>\n",
       "    <tr>\n",
       "      <th>3</th>\n",
       "      <td>536365</td>\n",
       "      <td>84029G</td>\n",
       "      <td>6</td>\n",
       "      <td>12/1/2010</td>\n",
       "      <td>3.39</td>\n",
       "      <td>17850</td>\n",
       "    </tr>\n",
       "    <tr>\n",
       "      <th>4</th>\n",
       "      <td>536365</td>\n",
       "      <td>84029E</td>\n",
       "      <td>6</td>\n",
       "      <td>12/1/2010</td>\n",
       "      <td>3.39</td>\n",
       "      <td>17850</td>\n",
       "    </tr>\n",
       "  </tbody>\n",
       "</table>\n",
       "</div>"
      ],
      "text/plain": [
       "  InvoiceNo StockCode  Quantity        DoP  UnitPrice CustomerID\n",
       "0    536365    85123A         6  12/1/2010       2.55      17850\n",
       "1    536365     71053         6  12/1/2010       3.39      17850\n",
       "2    536365    84406B         8  12/1/2010       2.75      17850\n",
       "3    536365    84029G         6  12/1/2010       3.39      17850\n",
       "4    536365    84029E         6  12/1/2010       3.39      17850"
      ]
     },
     "execution_count": 173,
     "metadata": {},
     "output_type": "execute_result"
    }
   ],
   "source": [
    "rfmdm.head()"
   ]
  },
  {
   "cell_type": "code",
   "execution_count": 174,
   "metadata": {},
   "outputs": [
    {
     "data": {
      "text/plain": [
       "InvoiceNo      object\n",
       "StockCode      object\n",
       "Quantity        int64\n",
       "DoP            object\n",
       "UnitPrice     float64\n",
       "CustomerID     object\n",
       "dtype: object"
      ]
     },
     "execution_count": 174,
     "metadata": {},
     "output_type": "execute_result"
    }
   ],
   "source": [
    "rfmdm.dtypes"
   ]
  },
  {
   "cell_type": "code",
   "execution_count": 175,
   "metadata": {},
   "outputs": [
    {
     "name": "stdout",
     "output_type": "stream",
     "text": [
      "Opened database successfully\n",
      "[(396370,)]\n"
     ]
    }
   ],
   "source": [
    "conn = sqlite3.connect('C:\\\\DataSets\\\\RFMDB.db')\n",
    "print (\"Opened database successfully\")\n",
    "cur = conn.execute(\"select count(*) from RFMDM_TEMP\")\n",
    "data = cur.fetchall()\n",
    "conn.close()\n",
    "print(data)"
   ]
  },
  {
   "cell_type": "code",
   "execution_count": 176,
   "metadata": {},
   "outputs": [
    {
     "name": "stdout",
     "output_type": "stream",
     "text": [
      "Converted successfully\n"
     ]
    }
   ],
   "source": [
    "rfmdm['DoP'] = pd.to_datetime(rfmdm['DoP'])\n",
    "print(\"Converted successfully\")"
   ]
  },
  {
   "cell_type": "code",
   "execution_count": 177,
   "metadata": {},
   "outputs": [
    {
     "data": {
      "text/plain": [
       "InvoiceNo             object\n",
       "StockCode             object\n",
       "Quantity               int64\n",
       "DoP           datetime64[ns]\n",
       "UnitPrice            float64\n",
       "CustomerID            object\n",
       "dtype: object"
      ]
     },
     "execution_count": 177,
     "metadata": {},
     "output_type": "execute_result"
    }
   ],
   "source": [
    "rfmdm.dtypes"
   ]
  },
  {
   "cell_type": "code",
   "execution_count": null,
   "metadata": {},
   "outputs": [],
   "source": [
    "#Fix datetime format issue"
   ]
  },
  {
   "cell_type": "code",
   "execution_count": 180,
   "metadata": {},
   "outputs": [
    {
     "name": "stdout",
     "output_type": "stream",
     "text": [
      "Opened database successfully\n",
      "new table got created successfully\n"
     ]
    }
   ],
   "source": [
    "conn = sqlite3.connect('C:\\\\DataSets\\\\RFMDB.db')\n",
    "print (\"Opened database successfully\")\n",
    "cursor = conn.cursor()\n",
    "cursor.execute('''DROP TABLE RFMDM''')\n",
    "conn.commit()\n",
    "rfmdm.to_sql('rfmdm',conn,if_exists = 'replace')\n",
    "#rfmdm = pd.read_sql(\"select * from RFMDM\",conn)\n",
    "print (\"new table got created successfully\")\n",
    "conn.close()"
   ]
  },
  {
   "cell_type": "code",
   "execution_count": 181,
   "metadata": {},
   "outputs": [
    {
     "name": "stdout",
     "output_type": "stream",
     "text": [
      "Opened database successfully\n",
      "[('2010-12-01 00:00:00',), ('2010-12-02 00:00:00',), ('2010-12-03 00:00:00',), ('2010-12-05 00:00:00',), ('2010-12-06 00:00:00',)]\n"
     ]
    }
   ],
   "source": [
    "conn = sqlite3.connect('C:\\\\DataSets\\\\RFMDB.db')\n",
    "print (\"Opened database successfully\")\n",
    "cur = conn.execute(\"select distinct(DoP) from RFMDM limit 5\")\n",
    "data = cur.fetchall()\n",
    "conn.close()\n",
    "print(data)"
   ]
  },
  {
   "cell_type": "code",
   "execution_count": 202,
   "metadata": {},
   "outputs": [
    {
     "name": "stdout",
     "output_type": "stream",
     "text": [
      "Opened database successfully\n",
      "Table created successfully\n"
     ]
    }
   ],
   "source": [
    "conn = sqlite3.connect('C:\\\\DataSets\\\\RFMDB.db')\n",
    "print (\"Opened database successfully\")\n",
    "cursor = conn.cursor()\n",
    "#cursor.execute('''DROP TABLE RFMSEG_TEMP''')\n",
    "#conn.commit()\n",
    "#conn.execute('''drop table rfmseg''')\n",
    "conn.execute('''CREATE TABLE RFMSEG_TEMP (\n",
    "    CustomerID  CHAR (20),\n",
    "    RDate   DATE,\n",
    "    Frequency    INTEGER,\n",
    "    Product INTEGER,\n",
    "    TDate         DATE,\n",
    "    Monetary   FLOAT)''')\n",
    "print (\"Table created successfully\")\n",
    "\n",
    "conn.close()"
   ]
  },
  {
   "cell_type": "code",
   "execution_count": null,
   "metadata": {},
   "outputs": [],
   "source": [
    "insert data into rfmseg table using the following sql command\n",
    "    INSERT INTO RFMSEG_TEMP\n",
    "       SELECT CustomerID, max(DoP), count(distinct(InvoiceNo)), count(distinct(StockCode)), min(DoP), sum(quantity*unitprice)\n",
    "       FROM RFMDM\n",
    "       group by customerid"
   ]
  },
  {
   "cell_type": "code",
   "execution_count": 203,
   "metadata": {},
   "outputs": [
    {
     "name": "stdout",
     "output_type": "stream",
     "text": [
      "Opened database successfully\n",
      "[('12346', '2011-01-18 00:00:00', 1, 1, '2011-01-18 00:00:00', 77183.6), ('12347', '2011-12-07 00:00:00', 7, 103, '2010-12-07 00:00:00', 4309.999999999997), ('12348', '2011-09-25 00:00:00', 4, 21, '2010-12-16 00:00:00', 1437.24), ('12349', '2011-11-21 00:00:00', 1, 72, '2011-11-21 00:00:00', 1457.55), ('12350', '2011-02-02 00:00:00', 1, 16, '2011-02-02 00:00:00', 294.40000000000003)]\n"
     ]
    }
   ],
   "source": [
    "conn = sqlite3.connect('C:\\\\DataSets\\\\RFMDB.db')\n",
    "print (\"Opened database successfully\")\n",
    "cur = conn.execute(\"select * from RFMSEG_TEMP limit 5\")\n",
    "data = cur.fetchall()\n",
    "conn.close()\n",
    "print(data)"
   ]
  },
  {
   "cell_type": "code",
   "execution_count": 204,
   "metadata": {},
   "outputs": [
    {
     "name": "stdout",
     "output_type": "stream",
     "text": [
      "2011-12-09 00:00:00\n"
     ]
    }
   ],
   "source": [
    "print(max(rfmdm['DoP']))"
   ]
  },
  {
   "cell_type": "code",
   "execution_count": 205,
   "metadata": {},
   "outputs": [
    {
     "name": "stdout",
     "output_type": "stream",
     "text": [
      "2010-12-01 00:00:00\n"
     ]
    }
   ],
   "source": [
    "print(min(rfmdm['DoP']))"
   ]
  },
  {
   "cell_type": "code",
   "execution_count": 206,
   "metadata": {},
   "outputs": [
    {
     "name": "stdout",
     "output_type": "stream",
     "text": [
      "Opened database successfully\n",
      " alter table RFMSEG_TEMP             add column Recency INTEGER         \n",
      "Column added successfully\n"
     ]
    }
   ],
   "source": [
    "conn = sqlite3.connect('C:\\\\DataSets\\\\RFMDB.db')\n",
    "print (\"Opened database successfully\")\n",
    "\n",
    "sql = ''' alter table RFMSEG_TEMP \\\n",
    "            add column Recency INTEGER \\\n",
    "        '''\n",
    "print(sql)\n",
    "conn.execute(sql)\n",
    "conn.commit\n",
    "print (\"Column added successfully\")\n",
    "\n",
    "conn.close()"
   ]
  },
  {
   "cell_type": "code",
   "execution_count": 207,
   "metadata": {},
   "outputs": [
    {
     "name": "stdout",
     "output_type": "stream",
     "text": [
      "Opened database successfully\n",
      " alter table RFMSEG_TEMP             add column Tenure INTEGER         \n",
      "Column added successfully\n"
     ]
    }
   ],
   "source": [
    "conn = sqlite3.connect('C:\\\\DataSets\\\\RFMDB.db')\n",
    "print (\"Opened database successfully\")\n",
    "\n",
    "sql = ''' alter table RFMSEG_TEMP \\\n",
    "            add column Tenure INTEGER \\\n",
    "        '''\n",
    "print(sql)\n",
    "conn.execute(sql)\n",
    "conn.commit\n",
    "print (\"Column added successfully\")\n",
    "\n",
    "conn.close()"
   ]
  },
  {
   "cell_type": "code",
   "execution_count": 208,
   "metadata": {},
   "outputs": [
    {
     "name": "stdout",
     "output_type": "stream",
     "text": [
      "Opened database successfully\n",
      "records added to dataframe rfmseg successfully\n"
     ]
    }
   ],
   "source": [
    "conn = sqlite3.connect('C:\\\\DataSets\\\\RFMDB.db')\n",
    "print (\"Opened database successfully\")\n",
    "rfmseg = pd.read_sql(\"select * from RFMSEG_TEMP\",conn)\n",
    "print (\"records added to dataframe rfmseg successfully\")\n",
    "conn.close()"
   ]
  },
  {
   "cell_type": "code",
   "execution_count": 209,
   "metadata": {},
   "outputs": [
    {
     "data": {
      "text/html": [
       "<div>\n",
       "<style scoped>\n",
       "    .dataframe tbody tr th:only-of-type {\n",
       "        vertical-align: middle;\n",
       "    }\n",
       "\n",
       "    .dataframe tbody tr th {\n",
       "        vertical-align: top;\n",
       "    }\n",
       "\n",
       "    .dataframe thead th {\n",
       "        text-align: right;\n",
       "    }\n",
       "</style>\n",
       "<table border=\"1\" class=\"dataframe\">\n",
       "  <thead>\n",
       "    <tr style=\"text-align: right;\">\n",
       "      <th></th>\n",
       "      <th>CustomerID</th>\n",
       "      <th>RDate</th>\n",
       "      <th>Frequency</th>\n",
       "      <th>Product</th>\n",
       "      <th>TDate</th>\n",
       "      <th>Monetary</th>\n",
       "      <th>Recency</th>\n",
       "      <th>Tenure</th>\n",
       "    </tr>\n",
       "  </thead>\n",
       "  <tbody>\n",
       "    <tr>\n",
       "      <th>0</th>\n",
       "      <td>12346</td>\n",
       "      <td>2011-01-18 00:00:00</td>\n",
       "      <td>1</td>\n",
       "      <td>1</td>\n",
       "      <td>2011-01-18 00:00:00</td>\n",
       "      <td>77183.60</td>\n",
       "      <td>None</td>\n",
       "      <td>None</td>\n",
       "    </tr>\n",
       "    <tr>\n",
       "      <th>1</th>\n",
       "      <td>12347</td>\n",
       "      <td>2011-12-07 00:00:00</td>\n",
       "      <td>7</td>\n",
       "      <td>103</td>\n",
       "      <td>2010-12-07 00:00:00</td>\n",
       "      <td>4310.00</td>\n",
       "      <td>None</td>\n",
       "      <td>None</td>\n",
       "    </tr>\n",
       "    <tr>\n",
       "      <th>2</th>\n",
       "      <td>12348</td>\n",
       "      <td>2011-09-25 00:00:00</td>\n",
       "      <td>4</td>\n",
       "      <td>21</td>\n",
       "      <td>2010-12-16 00:00:00</td>\n",
       "      <td>1437.24</td>\n",
       "      <td>None</td>\n",
       "      <td>None</td>\n",
       "    </tr>\n",
       "    <tr>\n",
       "      <th>3</th>\n",
       "      <td>12349</td>\n",
       "      <td>2011-11-21 00:00:00</td>\n",
       "      <td>1</td>\n",
       "      <td>72</td>\n",
       "      <td>2011-11-21 00:00:00</td>\n",
       "      <td>1457.55</td>\n",
       "      <td>None</td>\n",
       "      <td>None</td>\n",
       "    </tr>\n",
       "    <tr>\n",
       "      <th>4</th>\n",
       "      <td>12350</td>\n",
       "      <td>2011-02-02 00:00:00</td>\n",
       "      <td>1</td>\n",
       "      <td>16</td>\n",
       "      <td>2011-02-02 00:00:00</td>\n",
       "      <td>294.40</td>\n",
       "      <td>None</td>\n",
       "      <td>None</td>\n",
       "    </tr>\n",
       "  </tbody>\n",
       "</table>\n",
       "</div>"
      ],
      "text/plain": [
       "  CustomerID                RDate  Frequency  Product                TDate  \\\n",
       "0      12346  2011-01-18 00:00:00          1        1  2011-01-18 00:00:00   \n",
       "1      12347  2011-12-07 00:00:00          7      103  2010-12-07 00:00:00   \n",
       "2      12348  2011-09-25 00:00:00          4       21  2010-12-16 00:00:00   \n",
       "3      12349  2011-11-21 00:00:00          1       72  2011-11-21 00:00:00   \n",
       "4      12350  2011-02-02 00:00:00          1       16  2011-02-02 00:00:00   \n",
       "\n",
       "   Monetary Recency Tenure  \n",
       "0  77183.60    None   None  \n",
       "1   4310.00    None   None  \n",
       "2   1437.24    None   None  \n",
       "3   1457.55    None   None  \n",
       "4    294.40    None   None  "
      ]
     },
     "execution_count": 209,
     "metadata": {},
     "output_type": "execute_result"
    }
   ],
   "source": [
    "rfmseg.head()\n",
    "#print(rfmseg['Recency'])"
   ]
  },
  {
   "cell_type": "code",
   "execution_count": 210,
   "metadata": {},
   "outputs": [
    {
     "name": "stdout",
     "output_type": "stream",
     "text": [
      "2011-12-10 00:00:00\n"
     ]
    }
   ],
   "source": [
    "\n",
    "NOW = dt.datetime(2011,12,10)\n",
    "print(NOW)"
   ]
  },
  {
   "cell_type": "code",
   "execution_count": 211,
   "metadata": {},
   "outputs": [
    {
     "data": {
      "text/html": [
       "<div>\n",
       "<style scoped>\n",
       "    .dataframe tbody tr th:only-of-type {\n",
       "        vertical-align: middle;\n",
       "    }\n",
       "\n",
       "    .dataframe tbody tr th {\n",
       "        vertical-align: top;\n",
       "    }\n",
       "\n",
       "    .dataframe thead th {\n",
       "        text-align: right;\n",
       "    }\n",
       "</style>\n",
       "<table border=\"1\" class=\"dataframe\">\n",
       "  <thead>\n",
       "    <tr style=\"text-align: right;\">\n",
       "      <th></th>\n",
       "      <th>CustomerID</th>\n",
       "      <th>RDate</th>\n",
       "      <th>Frequency</th>\n",
       "      <th>Product</th>\n",
       "      <th>TDate</th>\n",
       "      <th>Monetary</th>\n",
       "      <th>Recency</th>\n",
       "      <th>Tenure</th>\n",
       "      <th>NOW</th>\n",
       "    </tr>\n",
       "  </thead>\n",
       "  <tbody>\n",
       "    <tr>\n",
       "      <th>0</th>\n",
       "      <td>12346</td>\n",
       "      <td>2011-01-18 00:00:00</td>\n",
       "      <td>1</td>\n",
       "      <td>1</td>\n",
       "      <td>2011-01-18 00:00:00</td>\n",
       "      <td>77183.60</td>\n",
       "      <td>None</td>\n",
       "      <td>None</td>\n",
       "      <td>2011-12-10</td>\n",
       "    </tr>\n",
       "    <tr>\n",
       "      <th>1</th>\n",
       "      <td>12347</td>\n",
       "      <td>2011-12-07 00:00:00</td>\n",
       "      <td>7</td>\n",
       "      <td>103</td>\n",
       "      <td>2010-12-07 00:00:00</td>\n",
       "      <td>4310.00</td>\n",
       "      <td>None</td>\n",
       "      <td>None</td>\n",
       "      <td>2011-12-10</td>\n",
       "    </tr>\n",
       "    <tr>\n",
       "      <th>2</th>\n",
       "      <td>12348</td>\n",
       "      <td>2011-09-25 00:00:00</td>\n",
       "      <td>4</td>\n",
       "      <td>21</td>\n",
       "      <td>2010-12-16 00:00:00</td>\n",
       "      <td>1437.24</td>\n",
       "      <td>None</td>\n",
       "      <td>None</td>\n",
       "      <td>2011-12-10</td>\n",
       "    </tr>\n",
       "    <tr>\n",
       "      <th>3</th>\n",
       "      <td>12349</td>\n",
       "      <td>2011-11-21 00:00:00</td>\n",
       "      <td>1</td>\n",
       "      <td>72</td>\n",
       "      <td>2011-11-21 00:00:00</td>\n",
       "      <td>1457.55</td>\n",
       "      <td>None</td>\n",
       "      <td>None</td>\n",
       "      <td>2011-12-10</td>\n",
       "    </tr>\n",
       "    <tr>\n",
       "      <th>4</th>\n",
       "      <td>12350</td>\n",
       "      <td>2011-02-02 00:00:00</td>\n",
       "      <td>1</td>\n",
       "      <td>16</td>\n",
       "      <td>2011-02-02 00:00:00</td>\n",
       "      <td>294.40</td>\n",
       "      <td>None</td>\n",
       "      <td>None</td>\n",
       "      <td>2011-12-10</td>\n",
       "    </tr>\n",
       "  </tbody>\n",
       "</table>\n",
       "</div>"
      ],
      "text/plain": [
       "  CustomerID                RDate  Frequency  Product                TDate  \\\n",
       "0      12346  2011-01-18 00:00:00          1        1  2011-01-18 00:00:00   \n",
       "1      12347  2011-12-07 00:00:00          7      103  2010-12-07 00:00:00   \n",
       "2      12348  2011-09-25 00:00:00          4       21  2010-12-16 00:00:00   \n",
       "3      12349  2011-11-21 00:00:00          1       72  2011-11-21 00:00:00   \n",
       "4      12350  2011-02-02 00:00:00          1       16  2011-02-02 00:00:00   \n",
       "\n",
       "   Monetary Recency Tenure        NOW  \n",
       "0  77183.60    None   None 2011-12-10  \n",
       "1   4310.00    None   None 2011-12-10  \n",
       "2   1437.24    None   None 2011-12-10  \n",
       "3   1457.55    None   None 2011-12-10  \n",
       "4    294.40    None   None 2011-12-10  "
      ]
     },
     "execution_count": 211,
     "metadata": {},
     "output_type": "execute_result"
    }
   ],
   "source": [
    "rfmseg['NOW'] = NOW\n",
    "rfmseg.head()"
   ]
  },
  {
   "cell_type": "code",
   "execution_count": 212,
   "metadata": {},
   "outputs": [
    {
     "data": {
      "text/plain": [
       "CustomerID            object\n",
       "RDate                 object\n",
       "Frequency              int64\n",
       "Product                int64\n",
       "TDate                 object\n",
       "Monetary             float64\n",
       "Recency               object\n",
       "Tenure                object\n",
       "NOW           datetime64[ns]\n",
       "dtype: object"
      ]
     },
     "execution_count": 212,
     "metadata": {},
     "output_type": "execute_result"
    }
   ],
   "source": [
    "rfmseg.dtypes"
   ]
  },
  {
   "cell_type": "code",
   "execution_count": 213,
   "metadata": {},
   "outputs": [
    {
     "data": {
      "text/html": [
       "<div>\n",
       "<style scoped>\n",
       "    .dataframe tbody tr th:only-of-type {\n",
       "        vertical-align: middle;\n",
       "    }\n",
       "\n",
       "    .dataframe tbody tr th {\n",
       "        vertical-align: top;\n",
       "    }\n",
       "\n",
       "    .dataframe thead th {\n",
       "        text-align: right;\n",
       "    }\n",
       "</style>\n",
       "<table border=\"1\" class=\"dataframe\">\n",
       "  <thead>\n",
       "    <tr style=\"text-align: right;\">\n",
       "      <th></th>\n",
       "      <th>CustomerID</th>\n",
       "      <th>RDate</th>\n",
       "      <th>Frequency</th>\n",
       "      <th>Product</th>\n",
       "      <th>TDate</th>\n",
       "      <th>Monetary</th>\n",
       "      <th>Recency</th>\n",
       "      <th>Tenure</th>\n",
       "      <th>NOW</th>\n",
       "    </tr>\n",
       "  </thead>\n",
       "  <tbody>\n",
       "    <tr>\n",
       "      <th>0</th>\n",
       "      <td>12346</td>\n",
       "      <td>2011-01-18</td>\n",
       "      <td>1</td>\n",
       "      <td>1</td>\n",
       "      <td>2011-01-18</td>\n",
       "      <td>77183.60</td>\n",
       "      <td>None</td>\n",
       "      <td>None</td>\n",
       "      <td>2011-12-10</td>\n",
       "    </tr>\n",
       "    <tr>\n",
       "      <th>1</th>\n",
       "      <td>12347</td>\n",
       "      <td>2011-12-07</td>\n",
       "      <td>7</td>\n",
       "      <td>103</td>\n",
       "      <td>2010-12-07</td>\n",
       "      <td>4310.00</td>\n",
       "      <td>None</td>\n",
       "      <td>None</td>\n",
       "      <td>2011-12-10</td>\n",
       "    </tr>\n",
       "    <tr>\n",
       "      <th>2</th>\n",
       "      <td>12348</td>\n",
       "      <td>2011-09-25</td>\n",
       "      <td>4</td>\n",
       "      <td>21</td>\n",
       "      <td>2010-12-16</td>\n",
       "      <td>1437.24</td>\n",
       "      <td>None</td>\n",
       "      <td>None</td>\n",
       "      <td>2011-12-10</td>\n",
       "    </tr>\n",
       "    <tr>\n",
       "      <th>3</th>\n",
       "      <td>12349</td>\n",
       "      <td>2011-11-21</td>\n",
       "      <td>1</td>\n",
       "      <td>72</td>\n",
       "      <td>2011-11-21</td>\n",
       "      <td>1457.55</td>\n",
       "      <td>None</td>\n",
       "      <td>None</td>\n",
       "      <td>2011-12-10</td>\n",
       "    </tr>\n",
       "    <tr>\n",
       "      <th>4</th>\n",
       "      <td>12350</td>\n",
       "      <td>2011-02-02</td>\n",
       "      <td>1</td>\n",
       "      <td>16</td>\n",
       "      <td>2011-02-02</td>\n",
       "      <td>294.40</td>\n",
       "      <td>None</td>\n",
       "      <td>None</td>\n",
       "      <td>2011-12-10</td>\n",
       "    </tr>\n",
       "  </tbody>\n",
       "</table>\n",
       "</div>"
      ],
      "text/plain": [
       "  CustomerID      RDate  Frequency  Product      TDate  Monetary Recency  \\\n",
       "0      12346 2011-01-18          1        1 2011-01-18  77183.60    None   \n",
       "1      12347 2011-12-07          7      103 2010-12-07   4310.00    None   \n",
       "2      12348 2011-09-25          4       21 2010-12-16   1437.24    None   \n",
       "3      12349 2011-11-21          1       72 2011-11-21   1457.55    None   \n",
       "4      12350 2011-02-02          1       16 2011-02-02    294.40    None   \n",
       "\n",
       "  Tenure        NOW  \n",
       "0   None 2011-12-10  \n",
       "1   None 2011-12-10  \n",
       "2   None 2011-12-10  \n",
       "3   None 2011-12-10  \n",
       "4   None 2011-12-10  "
      ]
     },
     "execution_count": 213,
     "metadata": {},
     "output_type": "execute_result"
    }
   ],
   "source": [
    "#convert to datetime format\n",
    "#rfmseg['NOW'] = pd.to_datetime(rfmseg['NOW'])\n",
    "rfmseg['TDate'] = pd.to_datetime(rfmseg['TDate'])\n",
    "rfmseg['RDate'] = pd.to_datetime(rfmseg['RDate'])\n",
    "rfmseg.head()"
   ]
  },
  {
   "cell_type": "code",
   "execution_count": 214,
   "metadata": {},
   "outputs": [
    {
     "data": {
      "text/plain": [
       "CustomerID            object\n",
       "RDate         datetime64[ns]\n",
       "Frequency              int64\n",
       "Product                int64\n",
       "TDate         datetime64[ns]\n",
       "Monetary             float64\n",
       "Recency               object\n",
       "Tenure                object\n",
       "NOW           datetime64[ns]\n",
       "dtype: object"
      ]
     },
     "execution_count": 214,
     "metadata": {},
     "output_type": "execute_result"
    }
   ],
   "source": [
    "rfmseg.dtypes"
   ]
  },
  {
   "cell_type": "code",
   "execution_count": 215,
   "metadata": {},
   "outputs": [
    {
     "data": {
      "text/html": [
       "<div>\n",
       "<style scoped>\n",
       "    .dataframe tbody tr th:only-of-type {\n",
       "        vertical-align: middle;\n",
       "    }\n",
       "\n",
       "    .dataframe tbody tr th {\n",
       "        vertical-align: top;\n",
       "    }\n",
       "\n",
       "    .dataframe thead th {\n",
       "        text-align: right;\n",
       "    }\n",
       "</style>\n",
       "<table border=\"1\" class=\"dataframe\">\n",
       "  <thead>\n",
       "    <tr style=\"text-align: right;\">\n",
       "      <th></th>\n",
       "      <th>CustomerID</th>\n",
       "      <th>RDate</th>\n",
       "      <th>Frequency</th>\n",
       "      <th>Product</th>\n",
       "      <th>TDate</th>\n",
       "      <th>Monetary</th>\n",
       "      <th>Recency</th>\n",
       "      <th>Tenure</th>\n",
       "      <th>NOW</th>\n",
       "    </tr>\n",
       "  </thead>\n",
       "  <tbody>\n",
       "    <tr>\n",
       "      <th>0</th>\n",
       "      <td>12346</td>\n",
       "      <td>2011-01-18</td>\n",
       "      <td>1</td>\n",
       "      <td>1</td>\n",
       "      <td>2011-01-18</td>\n",
       "      <td>77183.60</td>\n",
       "      <td>326</td>\n",
       "      <td>326</td>\n",
       "      <td>2011-12-10</td>\n",
       "    </tr>\n",
       "    <tr>\n",
       "      <th>1</th>\n",
       "      <td>12347</td>\n",
       "      <td>2011-12-07</td>\n",
       "      <td>7</td>\n",
       "      <td>103</td>\n",
       "      <td>2010-12-07</td>\n",
       "      <td>4310.00</td>\n",
       "      <td>3</td>\n",
       "      <td>368</td>\n",
       "      <td>2011-12-10</td>\n",
       "    </tr>\n",
       "    <tr>\n",
       "      <th>2</th>\n",
       "      <td>12348</td>\n",
       "      <td>2011-09-25</td>\n",
       "      <td>4</td>\n",
       "      <td>21</td>\n",
       "      <td>2010-12-16</td>\n",
       "      <td>1437.24</td>\n",
       "      <td>76</td>\n",
       "      <td>359</td>\n",
       "      <td>2011-12-10</td>\n",
       "    </tr>\n",
       "    <tr>\n",
       "      <th>3</th>\n",
       "      <td>12349</td>\n",
       "      <td>2011-11-21</td>\n",
       "      <td>1</td>\n",
       "      <td>72</td>\n",
       "      <td>2011-11-21</td>\n",
       "      <td>1457.55</td>\n",
       "      <td>19</td>\n",
       "      <td>19</td>\n",
       "      <td>2011-12-10</td>\n",
       "    </tr>\n",
       "    <tr>\n",
       "      <th>4</th>\n",
       "      <td>12350</td>\n",
       "      <td>2011-02-02</td>\n",
       "      <td>1</td>\n",
       "      <td>16</td>\n",
       "      <td>2011-02-02</td>\n",
       "      <td>294.40</td>\n",
       "      <td>311</td>\n",
       "      <td>311</td>\n",
       "      <td>2011-12-10</td>\n",
       "    </tr>\n",
       "  </tbody>\n",
       "</table>\n",
       "</div>"
      ],
      "text/plain": [
       "  CustomerID      RDate  Frequency  Product      TDate  Monetary  Recency  \\\n",
       "0      12346 2011-01-18          1        1 2011-01-18  77183.60      326   \n",
       "1      12347 2011-12-07          7      103 2010-12-07   4310.00        3   \n",
       "2      12348 2011-09-25          4       21 2010-12-16   1437.24       76   \n",
       "3      12349 2011-11-21          1       72 2011-11-21   1457.55       19   \n",
       "4      12350 2011-02-02          1       16 2011-02-02    294.40      311   \n",
       "\n",
       "   Tenure        NOW  \n",
       "0     326 2011-12-10  \n",
       "1     368 2011-12-10  \n",
       "2     359 2011-12-10  \n",
       "3      19 2011-12-10  \n",
       "4     311 2011-12-10  "
      ]
     },
     "execution_count": 215,
     "metadata": {},
     "output_type": "execute_result"
    }
   ],
   "source": [
    "rfmseg['Recency'] = (rfmseg['NOW'] - rfmseg['RDate']).dt.days\n",
    "rfmseg['Tenure'] = (rfmseg['NOW'] - rfmseg['TDate']).dt.days\n",
    "rfmseg.head()"
   ]
  },
  {
   "cell_type": "code",
   "execution_count": 216,
   "metadata": {},
   "outputs": [
    {
     "data": {
      "text/html": [
       "<div>\n",
       "<style scoped>\n",
       "    .dataframe tbody tr th:only-of-type {\n",
       "        vertical-align: middle;\n",
       "    }\n",
       "\n",
       "    .dataframe tbody tr th {\n",
       "        vertical-align: top;\n",
       "    }\n",
       "\n",
       "    .dataframe thead th {\n",
       "        text-align: right;\n",
       "    }\n",
       "</style>\n",
       "<table border=\"1\" class=\"dataframe\">\n",
       "  <thead>\n",
       "    <tr style=\"text-align: right;\">\n",
       "      <th></th>\n",
       "      <th>CustomerID</th>\n",
       "      <th>RDate</th>\n",
       "      <th>Frequency</th>\n",
       "      <th>Product</th>\n",
       "      <th>TDate</th>\n",
       "      <th>Monetary</th>\n",
       "      <th>Recency</th>\n",
       "      <th>Tenure</th>\n",
       "    </tr>\n",
       "  </thead>\n",
       "  <tbody>\n",
       "    <tr>\n",
       "      <th>0</th>\n",
       "      <td>12346</td>\n",
       "      <td>2011-01-18</td>\n",
       "      <td>1</td>\n",
       "      <td>1</td>\n",
       "      <td>2011-01-18</td>\n",
       "      <td>77183.60</td>\n",
       "      <td>326</td>\n",
       "      <td>326</td>\n",
       "    </tr>\n",
       "    <tr>\n",
       "      <th>1</th>\n",
       "      <td>12347</td>\n",
       "      <td>2011-12-07</td>\n",
       "      <td>7</td>\n",
       "      <td>103</td>\n",
       "      <td>2010-12-07</td>\n",
       "      <td>4310.00</td>\n",
       "      <td>3</td>\n",
       "      <td>368</td>\n",
       "    </tr>\n",
       "    <tr>\n",
       "      <th>2</th>\n",
       "      <td>12348</td>\n",
       "      <td>2011-09-25</td>\n",
       "      <td>4</td>\n",
       "      <td>21</td>\n",
       "      <td>2010-12-16</td>\n",
       "      <td>1437.24</td>\n",
       "      <td>76</td>\n",
       "      <td>359</td>\n",
       "    </tr>\n",
       "    <tr>\n",
       "      <th>3</th>\n",
       "      <td>12349</td>\n",
       "      <td>2011-11-21</td>\n",
       "      <td>1</td>\n",
       "      <td>72</td>\n",
       "      <td>2011-11-21</td>\n",
       "      <td>1457.55</td>\n",
       "      <td>19</td>\n",
       "      <td>19</td>\n",
       "    </tr>\n",
       "    <tr>\n",
       "      <th>4</th>\n",
       "      <td>12350</td>\n",
       "      <td>2011-02-02</td>\n",
       "      <td>1</td>\n",
       "      <td>16</td>\n",
       "      <td>2011-02-02</td>\n",
       "      <td>294.40</td>\n",
       "      <td>311</td>\n",
       "      <td>311</td>\n",
       "    </tr>\n",
       "  </tbody>\n",
       "</table>\n",
       "</div>"
      ],
      "text/plain": [
       "  CustomerID      RDate  Frequency  Product      TDate  Monetary  Recency  \\\n",
       "0      12346 2011-01-18          1        1 2011-01-18  77183.60      326   \n",
       "1      12347 2011-12-07          7      103 2010-12-07   4310.00        3   \n",
       "2      12348 2011-09-25          4       21 2010-12-16   1437.24       76   \n",
       "3      12349 2011-11-21          1       72 2011-11-21   1457.55       19   \n",
       "4      12350 2011-02-02          1       16 2011-02-02    294.40      311   \n",
       "\n",
       "   Tenure  \n",
       "0     326  \n",
       "1     368  \n",
       "2     359  \n",
       "3      19  \n",
       "4     311  "
      ]
     },
     "execution_count": 216,
     "metadata": {},
     "output_type": "execute_result"
    }
   ],
   "source": [
    "del rfmseg['NOW']\n",
    "rfmseg.head()"
   ]
  },
  {
   "cell_type": "code",
   "execution_count": 220,
   "metadata": {},
   "outputs": [
    {
     "name": "stdout",
     "output_type": "stream",
     "text": [
      "Opened database successfully\n",
      "new table RFMSEG got created successfully\n"
     ]
    }
   ],
   "source": [
    "conn = sqlite3.connect('C:\\\\DataSets\\\\RFMDB.db')\n",
    "print (\"Opened database successfully\")\n",
    "#cursor = conn.cursor()\n",
    "#cursor.execute('''DROP TABLE RFMSEG''')\n",
    "#conn.commit()\n",
    "rfmseg.to_sql('RFMSEG',conn, if_exists = 'replace')\n",
    "#rfmdm = pd.read_sql(\"select * from RFMDM\",conn)\n",
    "print (\"new table RFMSEG got created successfully\")\n",
    "conn.close()"
   ]
  },
  {
   "cell_type": "code",
   "execution_count": 219,
   "metadata": {
    "scrolled": true
   },
   "outputs": [
    {
     "data": {
      "text/html": [
       "<div>\n",
       "<style scoped>\n",
       "    .dataframe tbody tr th:only-of-type {\n",
       "        vertical-align: middle;\n",
       "    }\n",
       "\n",
       "    .dataframe tbody tr th {\n",
       "        vertical-align: top;\n",
       "    }\n",
       "\n",
       "    .dataframe thead th {\n",
       "        text-align: right;\n",
       "    }\n",
       "</style>\n",
       "<table border=\"1\" class=\"dataframe\">\n",
       "  <thead>\n",
       "    <tr style=\"text-align: right;\">\n",
       "      <th></th>\n",
       "      <th>Frequency</th>\n",
       "      <th>Product</th>\n",
       "      <th>Monetary</th>\n",
       "      <th>Recency</th>\n",
       "      <th>Tenure</th>\n",
       "    </tr>\n",
       "  </thead>\n",
       "  <tbody>\n",
       "    <tr>\n",
       "      <th>count</th>\n",
       "      <td>4335.000000</td>\n",
       "      <td>4335.000000</td>\n",
       "      <td>4335.000000</td>\n",
       "      <td>4335.000000</td>\n",
       "      <td>4335.000000</td>\n",
       "    </tr>\n",
       "    <tr>\n",
       "      <th>mean</th>\n",
       "      <td>4.245675</td>\n",
       "      <td>61.413149</td>\n",
       "      <td>2021.007301</td>\n",
       "      <td>93.208535</td>\n",
       "      <td>223.785928</td>\n",
       "    </tr>\n",
       "    <tr>\n",
       "      <th>std</th>\n",
       "      <td>7.636337</td>\n",
       "      <td>85.304170</td>\n",
       "      <td>8906.526607</td>\n",
       "      <td>100.170816</td>\n",
       "      <td>117.867218</td>\n",
       "    </tr>\n",
       "    <tr>\n",
       "      <th>min</th>\n",
       "      <td>1.000000</td>\n",
       "      <td>1.000000</td>\n",
       "      <td>0.000000</td>\n",
       "      <td>1.000000</td>\n",
       "      <td>1.000000</td>\n",
       "    </tr>\n",
       "    <tr>\n",
       "      <th>25%</th>\n",
       "      <td>1.000000</td>\n",
       "      <td>16.000000</td>\n",
       "      <td>305.410000</td>\n",
       "      <td>18.000000</td>\n",
       "      <td>113.000000</td>\n",
       "    </tr>\n",
       "    <tr>\n",
       "      <th>50%</th>\n",
       "      <td>2.000000</td>\n",
       "      <td>35.000000</td>\n",
       "      <td>668.110000</td>\n",
       "      <td>51.000000</td>\n",
       "      <td>249.000000</td>\n",
       "    </tr>\n",
       "    <tr>\n",
       "      <th>75%</th>\n",
       "      <td>5.000000</td>\n",
       "      <td>77.000000</td>\n",
       "      <td>1631.475000</td>\n",
       "      <td>143.000000</td>\n",
       "      <td>327.000000</td>\n",
       "    </tr>\n",
       "    <tr>\n",
       "      <th>max</th>\n",
       "      <td>206.000000</td>\n",
       "      <td>1785.000000</td>\n",
       "      <td>279138.020000</td>\n",
       "      <td>374.000000</td>\n",
       "      <td>374.000000</td>\n",
       "    </tr>\n",
       "  </tbody>\n",
       "</table>\n",
       "</div>"
      ],
      "text/plain": [
       "         Frequency      Product       Monetary      Recency       Tenure\n",
       "count  4335.000000  4335.000000    4335.000000  4335.000000  4335.000000\n",
       "mean      4.245675    61.413149    2021.007301    93.208535   223.785928\n",
       "std       7.636337    85.304170    8906.526607   100.170816   117.867218\n",
       "min       1.000000     1.000000       0.000000     1.000000     1.000000\n",
       "25%       1.000000    16.000000     305.410000    18.000000   113.000000\n",
       "50%       2.000000    35.000000     668.110000    51.000000   249.000000\n",
       "75%       5.000000    77.000000    1631.475000   143.000000   327.000000\n",
       "max     206.000000  1785.000000  279138.020000   374.000000   374.000000"
      ]
     },
     "execution_count": 219,
     "metadata": {},
     "output_type": "execute_result"
    }
   ],
   "source": [
    "rfmseg.describe()"
   ]
  },
  {
   "cell_type": "code",
   "execution_count": 27,
   "metadata": {},
   "outputs": [
    {
     "data": {
      "text/plain": [
       "(4335, 8)"
      ]
     },
     "execution_count": 27,
     "metadata": {},
     "output_type": "execute_result"
    }
   ],
   "source": [
    "rfmseg.shape"
   ]
  },
  {
   "cell_type": "code",
   "execution_count": 28,
   "metadata": {},
   "outputs": [
    {
     "data": {
      "image/png": "[encoded data removed]",
      "text/plain": [
       "<matplotlib.figure.Figure at 0x1757b710>"
      ]
     },
     "metadata": {},
     "output_type": "display_data"
    }
   ],
   "source": [
    "import matplotlib.pyplot as plt\n",
    "rfmseg.hist(figsize = (10,20))\n",
    "plt.show()"
   ]
  },
  {
   "cell_type": "code",
   "execution_count": 184,
   "metadata": {},
   "outputs": [],
   "source": [
    "#plt.boxplot(rfmseg[\"Frequency\"])\n",
    "#plt.show()"
   ]
  },
  {
   "cell_type": "code",
   "execution_count": 19,
   "metadata": {},
   "outputs": [
    {
     "data": {
      "text/html": [
       "<div>\n",
       "<style scoped>\n",
       "    .dataframe tbody tr th:only-of-type {\n",
       "        vertical-align: middle;\n",
       "    }\n",
       "\n",
       "    .dataframe tbody tr th {\n",
       "        vertical-align: top;\n",
       "    }\n",
       "\n",
       "    .dataframe thead th {\n",
       "        text-align: right;\n",
       "    }\n",
       "</style>\n",
       "<table border=\"1\" class=\"dataframe\">\n",
       "  <thead>\n",
       "    <tr style=\"text-align: right;\">\n",
       "      <th></th>\n",
       "      <th>Frequency</th>\n",
       "      <th>Product</th>\n",
       "      <th>Monetary</th>\n",
       "      <th>Recency</th>\n",
       "      <th>Tenure</th>\n",
       "    </tr>\n",
       "  </thead>\n",
       "  <tbody>\n",
       "    <tr>\n",
       "      <th>count</th>\n",
       "      <td>4335.000000</td>\n",
       "      <td>4335.000000</td>\n",
       "      <td>4335.000000</td>\n",
       "      <td>4335.000000</td>\n",
       "      <td>4335.000000</td>\n",
       "    </tr>\n",
       "    <tr>\n",
       "      <th>mean</th>\n",
       "      <td>4.245675</td>\n",
       "      <td>61.413149</td>\n",
       "      <td>2021.007301</td>\n",
       "      <td>93.208535</td>\n",
       "      <td>223.785928</td>\n",
       "    </tr>\n",
       "    <tr>\n",
       "      <th>std</th>\n",
       "      <td>7.636337</td>\n",
       "      <td>85.304170</td>\n",
       "      <td>8906.526607</td>\n",
       "      <td>100.170816</td>\n",
       "      <td>117.867218</td>\n",
       "    </tr>\n",
       "    <tr>\n",
       "      <th>min</th>\n",
       "      <td>1.000000</td>\n",
       "      <td>1.000000</td>\n",
       "      <td>0.000000</td>\n",
       "      <td>1.000000</td>\n",
       "      <td>1.000000</td>\n",
       "    </tr>\n",
       "    <tr>\n",
       "      <th>25%</th>\n",
       "      <td>1.000000</td>\n",
       "      <td>16.000000</td>\n",
       "      <td>305.410000</td>\n",
       "      <td>18.000000</td>\n",
       "      <td>113.000000</td>\n",
       "    </tr>\n",
       "    <tr>\n",
       "      <th>50%</th>\n",
       "      <td>2.000000</td>\n",
       "      <td>35.000000</td>\n",
       "      <td>668.110000</td>\n",
       "      <td>51.000000</td>\n",
       "      <td>249.000000</td>\n",
       "    </tr>\n",
       "    <tr>\n",
       "      <th>75%</th>\n",
       "      <td>5.000000</td>\n",
       "      <td>77.000000</td>\n",
       "      <td>1631.475000</td>\n",
       "      <td>143.000000</td>\n",
       "      <td>327.000000</td>\n",
       "    </tr>\n",
       "    <tr>\n",
       "      <th>max</th>\n",
       "      <td>206.000000</td>\n",
       "      <td>1785.000000</td>\n",
       "      <td>279138.020000</td>\n",
       "      <td>374.000000</td>\n",
       "      <td>374.000000</td>\n",
       "    </tr>\n",
       "  </tbody>\n",
       "</table>\n",
       "</div>"
      ],
      "text/plain": [
       "         Frequency      Product       Monetary      Recency       Tenure\n",
       "count  4335.000000  4335.000000    4335.000000  4335.000000  4335.000000\n",
       "mean      4.245675    61.413149    2021.007301    93.208535   223.785928\n",
       "std       7.636337    85.304170    8906.526607   100.170816   117.867218\n",
       "min       1.000000     1.000000       0.000000     1.000000     1.000000\n",
       "25%       1.000000    16.000000     305.410000    18.000000   113.000000\n",
       "50%       2.000000    35.000000     668.110000    51.000000   249.000000\n",
       "75%       5.000000    77.000000    1631.475000   143.000000   327.000000\n",
       "max     206.000000  1785.000000  279138.020000   374.000000   374.000000"
      ]
     },
     "execution_count": 19,
     "metadata": {},
     "output_type": "execute_result"
    }
   ],
   "source": [
    "rfmseg.describe()"
   ]
  },
  {
   "cell_type": "code",
   "execution_count": 20,
   "metadata": {},
   "outputs": [
    {
     "data": {
      "text/html": [
       "<div>\n",
       "<style scoped>\n",
       "    .dataframe tbody tr th:only-of-type {\n",
       "        vertical-align: middle;\n",
       "    }\n",
       "\n",
       "    .dataframe tbody tr th {\n",
       "        vertical-align: top;\n",
       "    }\n",
       "\n",
       "    .dataframe thead th {\n",
       "        text-align: right;\n",
       "    }\n",
       "</style>\n",
       "<table border=\"1\" class=\"dataframe\">\n",
       "  <thead>\n",
       "    <tr style=\"text-align: right;\">\n",
       "      <th></th>\n",
       "      <th>Frequency</th>\n",
       "      <th>Product</th>\n",
       "      <th>Monetary</th>\n",
       "      <th>Recency</th>\n",
       "      <th>Tenure</th>\n",
       "    </tr>\n",
       "  </thead>\n",
       "  <tbody>\n",
       "    <tr>\n",
       "      <th>0.2</th>\n",
       "      <td>1.0</td>\n",
       "      <td>13.0</td>\n",
       "      <td>248.356</td>\n",
       "      <td>15.0</td>\n",
       "      <td>81.0</td>\n",
       "    </tr>\n",
       "    <tr>\n",
       "      <th>0.4</th>\n",
       "      <td>2.0</td>\n",
       "      <td>26.0</td>\n",
       "      <td>484.644</td>\n",
       "      <td>33.0</td>\n",
       "      <td>206.0</td>\n",
       "    </tr>\n",
       "    <tr>\n",
       "      <th>0.6</th>\n",
       "      <td>3.0</td>\n",
       "      <td>48.0</td>\n",
       "      <td>925.050</td>\n",
       "      <td>72.0</td>\n",
       "      <td>282.0</td>\n",
       "    </tr>\n",
       "    <tr>\n",
       "      <th>0.8</th>\n",
       "      <td>5.0</td>\n",
       "      <td>92.0</td>\n",
       "      <td>2043.328</td>\n",
       "      <td>180.0</td>\n",
       "      <td>354.0</td>\n",
       "    </tr>\n",
       "  </tbody>\n",
       "</table>\n",
       "</div>"
      ],
      "text/plain": [
       "     Frequency  Product  Monetary  Recency  Tenure\n",
       "0.2        1.0     13.0   248.356     15.0    81.0\n",
       "0.4        2.0     26.0   484.644     33.0   206.0\n",
       "0.6        3.0     48.0   925.050     72.0   282.0\n",
       "0.8        5.0     92.0  2043.328    180.0   354.0"
      ]
     },
     "execution_count": 20,
     "metadata": {},
     "output_type": "execute_result"
    }
   ],
   "source": [
    "quantiles = rfmseg.quantile(q=[0.2,0.4,0.6,0.8])\n",
    "quantiles"
   ]
  },
  {
   "cell_type": "code",
   "execution_count": 21,
   "metadata": {},
   "outputs": [
    {
     "data": {
      "text/plain": [
       "{'Frequency': {0.2: 1.0, 0.4: 2.0, 0.6: 3.0, 0.8: 5.0},\n",
       " 'Monetary': {0.2: 248.356,\n",
       "  0.4: 484.644,\n",
       "  0.6: 925.0500000000001,\n",
       "  0.8: 2043.3279999999997},\n",
       " 'Product': {0.2: 13.0, 0.4: 26.0, 0.6: 48.0, 0.8: 92.0},\n",
       " 'Recency': {0.2: 15.0, 0.4: 33.0, 0.6: 72.0, 0.8: 180.0},\n",
       " 'Tenure': {0.2: 81.0, 0.4: 206.0, 0.6: 282.0, 0.8: 354.0}}"
      ]
     },
     "execution_count": 21,
     "metadata": {},
     "output_type": "execute_result"
    }
   ],
   "source": [
    "quantiles = quantiles.to_dict()\n",
    "quantiles"
   ]
  },
  {
   "cell_type": "code",
   "execution_count": 22,
   "metadata": {},
   "outputs": [],
   "source": [
    "rfmSegmentation = rfmseg\n",
    "#rfmSegmentation.head()"
   ]
  },
  {
   "cell_type": "code",
   "execution_count": 23,
   "metadata": {},
   "outputs": [],
   "source": [
    "# Arguments (x = value, p = recency, monetary_value, frequency, k = quartiles dict)\n",
    "def RClass(x,p,d):\n",
    "    if x <= d[p][0.2]:\n",
    "        return 5\n",
    "    elif x <= d[p][0.4]:\n",
    "        return 4\n",
    "    elif x <= d[p][0.6]: \n",
    "        return 3\n",
    "    elif x <= d[p][0.8]: \n",
    "        return 2\n",
    "    else:\n",
    "        return 1\n",
    "    \n",
    "# Arguments (x = value, p = recency, monetary_value, frequency, k = quartiles dict)\n",
    "def FMClass(x,p,d):\n",
    "    if x <= d[p][0.2]:\n",
    "        return 1\n",
    "    elif x <= d[p][0.4]:\n",
    "        return 2\n",
    "    elif x <= d[p][0.6]: \n",
    "        return 3\n",
    "    elif x <= d[p][0.8]: \n",
    "        return 4\n",
    "    else:\n",
    "        return 5"
   ]
  },
  {
   "cell_type": "code",
   "execution_count": 24,
   "metadata": {},
   "outputs": [],
   "source": [
    "rfmSegmentation['R_Quartile'] = rfmSegmentation['Recency'].apply(RClass, args=('Recency',quantiles,))\n",
    "rfmSegmentation['F_Quartile'] = rfmSegmentation['Frequency'].apply(FMClass, args=('Frequency',quantiles,))\n",
    "rfmSegmentation['M_Quartile'] = rfmSegmentation['Monetary'].apply(FMClass, args=('Monetary',quantiles,))"
   ]
  },
  {
   "cell_type": "code",
   "execution_count": 25,
   "metadata": {
    "scrolled": true
   },
   "outputs": [],
   "source": [
    "rfmSegmentation['RFMClass'] = rfmSegmentation.R_Quartile.map(str) \\\n",
    "                            + rfmSegmentation.F_Quartile.map(str) \\\n",
    "                            + rfmSegmentation.M_Quartile.map(str)"
   ]
  },
  {
   "cell_type": "code",
   "execution_count": 26,
   "metadata": {},
   "outputs": [
    {
     "data": {
      "text/html": [
       "<div>\n",
       "<style scoped>\n",
       "    .dataframe tbody tr th:only-of-type {\n",
       "        vertical-align: middle;\n",
       "    }\n",
       "\n",
       "    .dataframe tbody tr th {\n",
       "        vertical-align: top;\n",
       "    }\n",
       "\n",
       "    .dataframe thead th {\n",
       "        text-align: right;\n",
       "    }\n",
       "</style>\n",
       "<table border=\"1\" class=\"dataframe\">\n",
       "  <thead>\n",
       "    <tr style=\"text-align: right;\">\n",
       "      <th></th>\n",
       "      <th>CustomerID</th>\n",
       "      <th>RDate</th>\n",
       "      <th>Frequency</th>\n",
       "      <th>Product</th>\n",
       "      <th>TDate</th>\n",
       "      <th>Monetary</th>\n",
       "      <th>Recency</th>\n",
       "      <th>Tenure</th>\n",
       "      <th>R_Quartile</th>\n",
       "      <th>F_Quartile</th>\n",
       "      <th>M_Quartile</th>\n",
       "      <th>RFMClass</th>\n",
       "    </tr>\n",
       "  </thead>\n",
       "  <tbody>\n",
       "    <tr>\n",
       "      <th>0</th>\n",
       "      <td>12346</td>\n",
       "      <td>2011-01-18</td>\n",
       "      <td>1</td>\n",
       "      <td>1</td>\n",
       "      <td>2011-01-18</td>\n",
       "      <td>77183.60</td>\n",
       "      <td>326</td>\n",
       "      <td>326</td>\n",
       "      <td>1</td>\n",
       "      <td>1</td>\n",
       "      <td>5</td>\n",
       "      <td>115</td>\n",
       "    </tr>\n",
       "    <tr>\n",
       "      <th>1</th>\n",
       "      <td>12347</td>\n",
       "      <td>2011-12-07</td>\n",
       "      <td>7</td>\n",
       "      <td>103</td>\n",
       "      <td>2010-12-07</td>\n",
       "      <td>4310.00</td>\n",
       "      <td>3</td>\n",
       "      <td>368</td>\n",
       "      <td>5</td>\n",
       "      <td>5</td>\n",
       "      <td>5</td>\n",
       "      <td>555</td>\n",
       "    </tr>\n",
       "    <tr>\n",
       "      <th>2</th>\n",
       "      <td>12348</td>\n",
       "      <td>2011-09-25</td>\n",
       "      <td>4</td>\n",
       "      <td>21</td>\n",
       "      <td>2010-12-16</td>\n",
       "      <td>1437.24</td>\n",
       "      <td>76</td>\n",
       "      <td>359</td>\n",
       "      <td>2</td>\n",
       "      <td>4</td>\n",
       "      <td>4</td>\n",
       "      <td>244</td>\n",
       "    </tr>\n",
       "    <tr>\n",
       "      <th>3</th>\n",
       "      <td>12349</td>\n",
       "      <td>2011-11-21</td>\n",
       "      <td>1</td>\n",
       "      <td>72</td>\n",
       "      <td>2011-11-21</td>\n",
       "      <td>1457.55</td>\n",
       "      <td>19</td>\n",
       "      <td>19</td>\n",
       "      <td>4</td>\n",
       "      <td>1</td>\n",
       "      <td>4</td>\n",
       "      <td>414</td>\n",
       "    </tr>\n",
       "    <tr>\n",
       "      <th>4</th>\n",
       "      <td>12350</td>\n",
       "      <td>2011-02-02</td>\n",
       "      <td>1</td>\n",
       "      <td>16</td>\n",
       "      <td>2011-02-02</td>\n",
       "      <td>294.40</td>\n",
       "      <td>311</td>\n",
       "      <td>311</td>\n",
       "      <td>1</td>\n",
       "      <td>1</td>\n",
       "      <td>2</td>\n",
       "      <td>112</td>\n",
       "    </tr>\n",
       "  </tbody>\n",
       "</table>\n",
       "</div>"
      ],
      "text/plain": [
       "  CustomerID      RDate  Frequency  Product      TDate  Monetary  Recency  \\\n",
       "0      12346 2011-01-18          1        1 2011-01-18  77183.60      326   \n",
       "1      12347 2011-12-07          7      103 2010-12-07   4310.00        3   \n",
       "2      12348 2011-09-25          4       21 2010-12-16   1437.24       76   \n",
       "3      12349 2011-11-21          1       72 2011-11-21   1457.55       19   \n",
       "4      12350 2011-02-02          1       16 2011-02-02    294.40      311   \n",
       "\n",
       "   Tenure  R_Quartile  F_Quartile  M_Quartile RFMClass  \n",
       "0     326           1           1           5      115  \n",
       "1     368           5           5           5      555  \n",
       "2     359           2           4           4      244  \n",
       "3      19           4           1           4      414  \n",
       "4     311           1           1           2      112  "
      ]
     },
     "execution_count": 26,
     "metadata": {},
     "output_type": "execute_result"
    }
   ],
   "source": [
    "rfmSegmentation.head()"
   ]
  },
  {
   "cell_type": "markdown",
   "metadata": {},
   "source": [
    "#refer to http://www.blastam.com/blog/rfm-analysis-boosts-sales\n",
    "https://www.putler.com/rfm-analysis/\n",
    "https://medium.com/@jackiekhuu.work/customer-segmentation-rfm-analysis-8007d62101cc"
   ]
  },
  {
   "cell_type": "code",
   "execution_count": null,
   "metadata": {},
   "outputs": [],
   "source": []
  },
  {
   "cell_type": "code",
   "execution_count": 50,
   "metadata": {},
   "outputs": [
    {
     "name": "stdout",
     "output_type": "stream",
     "text": [
      "Opened database successfully\n",
      "new table got created successfully\n"
     ]
    }
   ],
   "source": [
    "conn = sqlite3.connect('C:\\\\DataSets\\\\RFMDB.db')\n",
    "print (\"Opened database successfully\")\n",
    "rfmSegmentation.to_sql('rfmsegmentation',conn, if_exists = 'replace')\n",
    "#rfmdm = pd.read_sql(\"select * from RFMDM\",conn)\n",
    "print (\"new table got created successfully\")\n",
    "conn.close()"
   ]
  },
  {
   "cell_type": "code",
   "execution_count": 51,
   "metadata": {},
   "outputs": [
    {
     "name": "stdout",
     "output_type": "stream",
     "text": [
      "Opened database successfully\n",
      " alter table rfmsegmentation             add column Segment VARCHAR(50)         \n",
      "Column added successfully\n"
     ]
    }
   ],
   "source": [
    "conn = sqlite3.connect('C:\\\\DataSets\\\\RFMDB.db')\n",
    "print (\"Opened database successfully\")\n",
    "\n",
    "sql = ''' alter table rfmsegmentation \\\n",
    "            add column Segment VARCHAR(50) \\\n",
    "        '''\n",
    "print(sql)\n",
    "conn.execute(sql)\n",
    "conn.commit\n",
    "print (\"Column added successfully\")\n",
    "\n",
    "conn.close()"
   ]
  },
  {
   "cell_type": "code",
   "execution_count": null,
   "metadata": {},
   "outputs": [],
   "source": []
  },
  {
   "cell_type": "markdown",
   "metadata": {},
   "source": [
    "<img src=\"C:\\\\DataSets\\\\RFM_Segmentation.png\">"
   ]
  },
  {
   "cell_type": "markdown",
   "metadata": {},
   "source": [
    "#run the following sql queries\n",
    "\n",
    "\n",
    "update rfmsegmentation set Segment = \"Champions\" where R_Quartile in (4,5) and F_Quartile in (4,5) and M_Quartile in (4,5)\n",
    "\n",
    "update rfmsegmentation set Segment = \"Loyal Customers\" where R_Quartile in (2,3,4,5) and F_Quartile in (3,4,5) and M_Quartile in (3,4,5)\n",
    "\n",
    "update rfmsegmentation set Segment = \"Potential Loyalist\" where R_Quartile in (3,4,5) and F_Quartile in (1,2,3) and M_Quartile in (1,2,3)\n",
    "\n",
    "\n",
    "update rfmsegmentation set Segment = \"New Customers\" where R_Quartile in (4,5) and F_Quartile = 1 and M_Quartile = 1\n",
    "\n",
    "update rfmsegmentation set Segment = \"Promising\" where R_Quartile in (2,4) and F_Quartile = 1 and M_Quartile = 1\n",
    "\n",
    "update rfmsegmentation set Segment = \"Customer Needing Attention\" where R_Quartile in (2,3) and F_Quartile in (2,3) and M_Quartile in (2,3)\n",
    "\n",
    "update rfmsegmentation set Segment = \"About To Sleep\" where R_Quartile in (2,3) and F_Quartile in (1,2) and M_Quartile in (1,2)\n",
    "\n",
    "update rfmsegmentation set Segment = \"At Risk\" where R_Quartile in (1,2) and F_Quartile in (2,3,4,5) and M_Quartile in (2,3,4,5)\n",
    "\n",
    "update rfmsegmentation set Segment = \"Can't Lose Them\" where R_Quartile = 1 and F_Quartile in (4,5) and M_Quartile in (4,5)\n",
    "\n",
    "update rfmsegmentation set Segment = \"Lost\" where R_Quartile in (1,2) and F_Quartile in (1,2) and M_Quartile in (1,2)\n",
    "\n",
    "select count(*) from rfmsegmentation where Segment is null -- 319"
   ]
  },
  {
   "cell_type": "code",
   "execution_count": 27,
   "metadata": {},
   "outputs": [
    {
     "name": "stdout",
     "output_type": "stream",
     "text": [
      "Opened database successfully\n",
      "[(0, 0, '12346', '2011-01-18 00:00:00', 1, 1, '2011-01-18 00:00:00', 77183.6, 326, 326, 1, 1, 5, '115', None), (1, 1, '12347', '2011-12-07 00:00:00', 7, 103, '2010-12-07 00:00:00', 4309.999999999997, 3, 368, 5, 5, 5, '555', 'Loyal Customers'), (2, 2, '12348', '2011-09-25 00:00:00', 4, 21, '2010-12-16 00:00:00', 1437.24, 76, 359, 2, 4, 4, '244', 'At Risk'), (3, 3, '12349', '2011-11-21 00:00:00', 1, 72, '2011-11-21 00:00:00', 1457.55, 19, 19, 4, 1, 4, '414', None), (4, 4, '12350', '2011-02-02 00:00:00', 1, 16, '2011-02-02 00:00:00', 294.40000000000003, 311, 311, 1, 1, 2, '112', 'Lost')]\n"
     ]
    }
   ],
   "source": [
    "conn = sqlite3.connect('C:\\\\DataSets\\\\RFMDB.db')\n",
    "print (\"Opened database successfully\")\n",
    "cur = conn.execute(\"select * from rfmsegmentation limit 5\")\n",
    "data = cur.fetchall()\n",
    "conn.close()\n",
    "print(data)"
   ]
  },
  {
   "cell_type": "code",
   "execution_count": 28,
   "metadata": {},
   "outputs": [
    {
     "data": {
      "text/plain": [
       "<bound method NDFrame.drop of      CustomerID      RDate  Frequency  Product      TDate  Monetary  Recency  \\\n",
       "0         12346 2011-01-18          1        1 2011-01-18  77183.60      326   \n",
       "1         12347 2011-12-07          7      103 2010-12-07   4310.00        3   \n",
       "2         12348 2011-09-25          4       21 2010-12-16   1437.24       76   \n",
       "3         12349 2011-11-21          1       72 2011-11-21   1457.55       19   \n",
       "4         12350 2011-02-02          1       16 2011-02-02    294.40      311   \n",
       "5         12352 2011-11-03          7       57 2011-02-16   1385.74       37   \n",
       "6         12353 2011-05-19          1        4 2011-05-19     89.00      205   \n",
       "7         12354 2011-04-21          1       58 2011-04-21   1079.40      233   \n",
       "8         12355 2011-05-09          1       13 2011-05-09    459.40      215   \n",
       "9         12356 2011-11-17          3       52 2011-01-18   2487.43       23   \n",
       "10        12357 2011-11-06          1      131 2011-11-06   6207.67       34   \n",
       "11        12358 2011-12-08          2       12 2011-07-12    928.06        2   \n",
       "12        12359 2011-10-13          4      214 2011-01-12   6372.58       58   \n",
       "13        12360 2011-10-18          3      104 2011-05-23   2302.06       53   \n",
       "14        12361 2011-02-25          1        9 2011-02-25    174.90      288   \n",
       "15        12362 2011-12-06         10      200 2011-02-17   4737.23        4   \n",
       "16        12363 2011-08-22          2       23 2011-04-11    552.00      110   \n",
       "17        12364 2011-12-02          4       69 2011-08-19   1208.10        8   \n",
       "18        12365 2011-02-21          1       21 2011-02-21    320.69      292   \n",
       "19        12367 2011-12-05          1       10 2011-12-05    150.90        5   \n",
       "20        12370 2011-10-19          4      142 2010-12-14   3425.69       52   \n",
       "21        12371 2011-10-11          1       62 2011-10-11   1527.96       60   \n",
       "22        12372 2011-09-29          3       33 2011-02-16   1196.04       72   \n",
       "23        12373 2011-02-01          1       13 2011-02-01    324.60      312   \n",
       "24        12374 2011-11-14          1       32 2011-11-14    622.93       26   \n",
       "25        12375 2011-11-29          2       13 2011-09-02    377.50       11   \n",
       "26        12377 2011-01-28          2       71 2010-12-20   1548.12      316   \n",
       "27        12378 2011-08-02          1      219 2011-08-02   4008.62      130   \n",
       "28        12379 2011-09-19          2       38 2011-06-22    777.24       82   \n",
       "29        12380 2011-11-18          4       76 2011-06-07   2427.81       22   \n",
       "...         ...        ...        ...      ...        ...       ...      ...   \n",
       "4305      18242 2011-09-28          4       72 2011-05-10   2232.49       73   \n",
       "4306      18245 2011-12-02          7      153 2010-12-19   2567.06        8   \n",
       "4307      18246 2011-11-16          2        3 2011-04-20    596.10       24   \n",
       "4308      18248 2011-08-09          2       39 2011-06-06    804.02      123   \n",
       "4309      18249 2011-11-22          1        8 2011-11-22     95.34       18   \n",
       "4310      18250 2011-02-02          1       21 2011-02-02    349.27      311   \n",
       "4311      18251 2011-09-13          1       16 2011-09-13   4314.72       88   \n",
       "4312      18252 2011-10-20          2       90 2011-06-21    526.67       51   \n",
       "4313      18255 2011-09-11          1        6 2011-09-11    103.30       90   \n",
       "4314      18257 2011-10-31          8       97 2011-02-16   2337.63       40   \n",
       "4315      18259 2011-11-15          3       27 2010-12-08   2338.60       25   \n",
       "4316      18260 2011-06-20          6       86 2010-12-16   2643.20      173   \n",
       "4317      18261 2011-10-27          2       19 2011-09-05    324.24       44   \n",
       "4318      18262 2011-07-22          1       13 2011-07-22    149.48      141   \n",
       "4319      18263 2011-11-14          3       59 2011-04-01   1213.16       26   \n",
       "4320      18265 2011-09-28          2       44 2011-07-04    801.51       73   \n",
       "4321      18268 2011-07-28          1        1 2011-07-28     25.50      135   \n",
       "4322      18269 2010-12-08          1        7 2010-12-08    168.60      367   \n",
       "4323      18270 2011-11-01          2       11 2011-03-18    283.15       39   \n",
       "4324      18272 2011-12-07          6       99 2011-04-07   3078.58        3   \n",
       "4325      18273 2011-12-07          3        1 2011-03-27    204.00        3   \n",
       "4326      18274 2011-11-09          1       11 2011-11-09    175.92       31   \n",
       "4327      18276 2011-10-27          1       14 2011-10-27    335.86       44   \n",
       "4328      18277 2011-10-12          1        8 2011-10-12    110.38       59   \n",
       "4329      18278 2011-09-27          1        9 2011-09-27    173.90       74   \n",
       "4330      18280 2011-03-07          1       10 2011-03-07    180.60      278   \n",
       "4331      18281 2011-06-12          1        7 2011-06-12     80.82      181   \n",
       "4332      18282 2011-12-02          2       12 2011-08-05    178.05        8   \n",
       "4333      18283 2011-12-06         16      262 2011-01-06   2088.93        4   \n",
       "4334      18287 2011-10-28          3       59 2011-05-22   1837.28       43   \n",
       "\n",
       "      Tenure  R_Quartile  F_Quartile  M_Quartile RFMClass  \n",
       "0        326           1           1           5      115  \n",
       "1        368           5           5           5      555  \n",
       "2        359           2           4           4      244  \n",
       "3         19           4           1           4      414  \n",
       "4        311           1           1           2      112  \n",
       "5        297           3           5           4      354  \n",
       "6        205           1           1           1      111  \n",
       "7        233           1           1           4      114  \n",
       "8        215           1           1           2      112  \n",
       "9        326           4           3           5      435  \n",
       "10        34           3           1           5      315  \n",
       "11       151           5           2           4      524  \n",
       "12       332           3           4           5      345  \n",
       "13       201           3           3           5      335  \n",
       "14       288           1           1           1      111  \n",
       "15       296           5           5           5      555  \n",
       "16       243           2           2           3      223  \n",
       "17       113           5           4           4      544  \n",
       "18       292           1           1           2      112  \n",
       "19         5           5           1           1      511  \n",
       "20       361           3           4           5      345  \n",
       "21        60           3           1           4      314  \n",
       "22       297           3           3           4      334  \n",
       "23       312           1           1           2      112  \n",
       "24        26           4           1           3      413  \n",
       "25        99           5           2           2      522  \n",
       "26       355           1           2           4      124  \n",
       "27       130           2           1           5      215  \n",
       "28       171           2           2           3      223  \n",
       "29       186           4           4           5      445  \n",
       "...      ...         ...         ...         ...      ...  \n",
       "4305     214           2           4           5      245  \n",
       "4306     356           5           5           5      555  \n",
       "4307     234           4           2           3      423  \n",
       "4308     187           2           2           3      223  \n",
       "4309      18           4           1           1      411  \n",
       "4310     311           1           1           2      112  \n",
       "4311      88           2           1           5      215  \n",
       "4312     172           3           2           3      323  \n",
       "4313      90           2           1           1      211  \n",
       "4314     297           3           5           5      355  \n",
       "4315     367           4           3           5      435  \n",
       "4316     359           2           5           5      255  \n",
       "4317      96           3           2           2      322  \n",
       "4318     141           2           1           1      211  \n",
       "4319     253           4           3           4      434  \n",
       "4320     159           2           2           3      223  \n",
       "4321     135           2           1           1      211  \n",
       "4322     367           1           1           1      111  \n",
       "4323     267           3           2           2      322  \n",
       "4324     247           5           5           5      555  \n",
       "4325     258           5           3           1      531  \n",
       "4326      31           4           1           1      411  \n",
       "4327      44           3           1           2      312  \n",
       "4328      59           3           1           1      311  \n",
       "4329      74           2           1           1      211  \n",
       "4330     278           1           1           1      111  \n",
       "4331     181           1           1           1      111  \n",
       "4332     127           5           2           1      521  \n",
       "4333     338           5           5           5      555  \n",
       "4334     202           3           3           4      334  \n",
       "\n",
       "[4335 rows x 12 columns]>"
      ]
     },
     "execution_count": 28,
     "metadata": {},
     "output_type": "execute_result"
    }
   ],
   "source": [
    "#drop the df and create again\n",
    "rfmSegmentation.drop"
   ]
  },
  {
   "cell_type": "code",
   "execution_count": 29,
   "metadata": {},
   "outputs": [
    {
     "name": "stdout",
     "output_type": "stream",
     "text": [
      "Opened database successfully\n",
      "records added to dataframe successfully\n"
     ]
    }
   ],
   "source": [
    "conn = sqlite3.connect('C:\\\\DataSets\\\\RFMDB.db')\n",
    "print (\"Opened database successfully\")\n",
    "rfmSegmentation = pd.read_sql(\"select * from rfmsegmentation\",conn)\n",
    "print (\"records added to dataframe successfully\")\n",
    "conn.close()"
   ]
  },
  {
   "cell_type": "code",
   "execution_count": 221,
   "metadata": {},
   "outputs": [
    {
     "data": {
      "text/html": [
       "<div>\n",
       "<style scoped>\n",
       "    .dataframe tbody tr th:only-of-type {\n",
       "        vertical-align: middle;\n",
       "    }\n",
       "\n",
       "    .dataframe tbody tr th {\n",
       "        vertical-align: top;\n",
       "    }\n",
       "\n",
       "    .dataframe thead th {\n",
       "        text-align: right;\n",
       "    }\n",
       "</style>\n",
       "<table border=\"1\" class=\"dataframe\">\n",
       "  <thead>\n",
       "    <tr style=\"text-align: right;\">\n",
       "      <th></th>\n",
       "      <th>CustomerID</th>\n",
       "      <th>RDate</th>\n",
       "      <th>Frequency</th>\n",
       "      <th>Product</th>\n",
       "      <th>TDate</th>\n",
       "      <th>Monetary</th>\n",
       "      <th>Recency</th>\n",
       "      <th>Tenure</th>\n",
       "      <th>R_Quartile</th>\n",
       "      <th>F_Quartile</th>\n",
       "      <th>M_Quartile</th>\n",
       "      <th>RFMClass</th>\n",
       "      <th>Segment</th>\n",
       "    </tr>\n",
       "  </thead>\n",
       "  <tbody>\n",
       "    <tr>\n",
       "      <th>0</th>\n",
       "      <td>12346</td>\n",
       "      <td>2011-01-18 00:00:00</td>\n",
       "      <td>1</td>\n",
       "      <td>1</td>\n",
       "      <td>2011-01-18 00:00:00</td>\n",
       "      <td>77183.60</td>\n",
       "      <td>326</td>\n",
       "      <td>326</td>\n",
       "      <td>1</td>\n",
       "      <td>1</td>\n",
       "      <td>5</td>\n",
       "      <td>115</td>\n",
       "      <td>None</td>\n",
       "    </tr>\n",
       "    <tr>\n",
       "      <th>1</th>\n",
       "      <td>12347</td>\n",
       "      <td>2011-12-07 00:00:00</td>\n",
       "      <td>7</td>\n",
       "      <td>103</td>\n",
       "      <td>2010-12-07 00:00:00</td>\n",
       "      <td>4310.00</td>\n",
       "      <td>3</td>\n",
       "      <td>368</td>\n",
       "      <td>5</td>\n",
       "      <td>5</td>\n",
       "      <td>5</td>\n",
       "      <td>555</td>\n",
       "      <td>Loyal Customers</td>\n",
       "    </tr>\n",
       "    <tr>\n",
       "      <th>2</th>\n",
       "      <td>12348</td>\n",
       "      <td>2011-09-25 00:00:00</td>\n",
       "      <td>4</td>\n",
       "      <td>21</td>\n",
       "      <td>2010-12-16 00:00:00</td>\n",
       "      <td>1437.24</td>\n",
       "      <td>76</td>\n",
       "      <td>359</td>\n",
       "      <td>2</td>\n",
       "      <td>4</td>\n",
       "      <td>4</td>\n",
       "      <td>244</td>\n",
       "      <td>At Risk</td>\n",
       "    </tr>\n",
       "    <tr>\n",
       "      <th>3</th>\n",
       "      <td>12349</td>\n",
       "      <td>2011-11-21 00:00:00</td>\n",
       "      <td>1</td>\n",
       "      <td>72</td>\n",
       "      <td>2011-11-21 00:00:00</td>\n",
       "      <td>1457.55</td>\n",
       "      <td>19</td>\n",
       "      <td>19</td>\n",
       "      <td>4</td>\n",
       "      <td>1</td>\n",
       "      <td>4</td>\n",
       "      <td>414</td>\n",
       "      <td>None</td>\n",
       "    </tr>\n",
       "    <tr>\n",
       "      <th>4</th>\n",
       "      <td>12350</td>\n",
       "      <td>2011-02-02 00:00:00</td>\n",
       "      <td>1</td>\n",
       "      <td>16</td>\n",
       "      <td>2011-02-02 00:00:00</td>\n",
       "      <td>294.40</td>\n",
       "      <td>311</td>\n",
       "      <td>311</td>\n",
       "      <td>1</td>\n",
       "      <td>1</td>\n",
       "      <td>2</td>\n",
       "      <td>112</td>\n",
       "      <td>Lost</td>\n",
       "    </tr>\n",
       "  </tbody>\n",
       "</table>\n",
       "</div>"
      ],
      "text/plain": [
       "  CustomerID                RDate  Frequency  Product                TDate  \\\n",
       "0      12346  2011-01-18 00:00:00          1        1  2011-01-18 00:00:00   \n",
       "1      12347  2011-12-07 00:00:00          7      103  2010-12-07 00:00:00   \n",
       "2      12348  2011-09-25 00:00:00          4       21  2010-12-16 00:00:00   \n",
       "3      12349  2011-11-21 00:00:00          1       72  2011-11-21 00:00:00   \n",
       "4      12350  2011-02-02 00:00:00          1       16  2011-02-02 00:00:00   \n",
       "\n",
       "   Monetary  Recency  Tenure  R_Quartile  F_Quartile  M_Quartile RFMClass  \\\n",
       "0  77183.60      326     326           1           1           5      115   \n",
       "1   4310.00        3     368           5           5           5      555   \n",
       "2   1437.24       76     359           2           4           4      244   \n",
       "3   1457.55       19      19           4           1           4      414   \n",
       "4    294.40      311     311           1           1           2      112   \n",
       "\n",
       "           Segment  \n",
       "0             None  \n",
       "1  Loyal Customers  \n",
       "2          At Risk  \n",
       "3             None  \n",
       "4             Lost  "
      ]
     },
     "execution_count": 221,
     "metadata": {},
     "output_type": "execute_result"
    }
   ],
   "source": [
    "del rfmSegmentation['level_0']\n",
    "del rfmSegmentation['index']\n",
    "rfmSegmentation.head()"
   ]
  },
  {
   "cell_type": "code",
   "execution_count": 31,
   "metadata": {},
   "outputs": [
    {
     "data": {
      "text/plain": [
       "Segment\n",
       "About To Sleep                 311\n",
       "At Risk                        561\n",
       "Can't Lose Them                 18\n",
       "Customer Needing Attention     131\n",
       "Lost                           957\n",
       "Loyal Customers               1421\n",
       "New Customers                   43\n",
       "Potential Loyalist             489\n",
       "Promising                       85\n",
       "Name: CustomerID, dtype: int64"
      ]
     },
     "execution_count": 31,
     "metadata": {},
     "output_type": "execute_result"
    }
   ],
   "source": [
    "import matplotlib.pyplot as plt\n",
    "rfmSegmentation.groupby(['Segment'])['CustomerID'].count()"
   ]
  },
  {
   "cell_type": "code",
   "execution_count": 32,
   "metadata": {},
   "outputs": [],
   "source": [
    "#create time dimention table"
   ]
  },
  {
   "cell_type": "code",
   "execution_count": 142,
   "metadata": {},
   "outputs": [
    {
     "data": {
      "text/html": [
       "<div>\n",
       "<style scoped>\n",
       "    .dataframe tbody tr th:only-of-type {\n",
       "        vertical-align: middle;\n",
       "    }\n",
       "\n",
       "    .dataframe tbody tr th {\n",
       "        vertical-align: top;\n",
       "    }\n",
       "\n",
       "    .dataframe thead th {\n",
       "        text-align: right;\n",
       "    }\n",
       "</style>\n",
       "<table border=\"1\" class=\"dataframe\">\n",
       "  <thead>\n",
       "    <tr style=\"text-align: right;\">\n",
       "      <th></th>\n",
       "      <th>DoP</th>\n",
       "    </tr>\n",
       "  </thead>\n",
       "  <tbody>\n",
       "    <tr>\n",
       "      <th>0</th>\n",
       "      <td>2010-12-01</td>\n",
       "    </tr>\n",
       "    <tr>\n",
       "      <th>1</th>\n",
       "      <td>2010-12-01</td>\n",
       "    </tr>\n",
       "    <tr>\n",
       "      <th>2</th>\n",
       "      <td>2010-12-01</td>\n",
       "    </tr>\n",
       "    <tr>\n",
       "      <th>3</th>\n",
       "      <td>2010-12-01</td>\n",
       "    </tr>\n",
       "    <tr>\n",
       "      <th>4</th>\n",
       "      <td>2010-12-01</td>\n",
       "    </tr>\n",
       "  </tbody>\n",
       "</table>\n",
       "</div>"
      ],
      "text/plain": [
       "         DoP\n",
       "0 2010-12-01\n",
       "1 2010-12-01\n",
       "2 2010-12-01\n",
       "3 2010-12-01\n",
       "4 2010-12-01"
      ]
     },
     "execution_count": 142,
     "metadata": {},
     "output_type": "execute_result"
    }
   ],
   "source": [
    "df1 = rfmdm.filter(['DoP'], axis=1)\n",
    "df1.head()"
   ]
  },
  {
   "cell_type": "code",
   "execution_count": 143,
   "metadata": {},
   "outputs": [
    {
     "data": {
      "text/html": [
       "<div>\n",
       "<style scoped>\n",
       "    .dataframe tbody tr th:only-of-type {\n",
       "        vertical-align: middle;\n",
       "    }\n",
       "\n",
       "    .dataframe tbody tr th {\n",
       "        vertical-align: top;\n",
       "    }\n",
       "\n",
       "    .dataframe thead th {\n",
       "        text-align: right;\n",
       "    }\n",
       "</style>\n",
       "<table border=\"1\" class=\"dataframe\">\n",
       "  <thead>\n",
       "    <tr style=\"text-align: right;\">\n",
       "      <th></th>\n",
       "      <th>DoP</th>\n",
       "    </tr>\n",
       "  </thead>\n",
       "  <tbody>\n",
       "    <tr>\n",
       "      <th>0</th>\n",
       "      <td>2010-12-01</td>\n",
       "    </tr>\n",
       "    <tr>\n",
       "      <th>1936</th>\n",
       "      <td>2010-12-02</td>\n",
       "    </tr>\n",
       "    <tr>\n",
       "      <th>3934</th>\n",
       "      <td>2010-12-03</td>\n",
       "    </tr>\n",
       "    <tr>\n",
       "      <th>5027</th>\n",
       "      <td>2010-12-05</td>\n",
       "    </tr>\n",
       "    <tr>\n",
       "      <th>7723</th>\n",
       "      <td>2010-12-06</td>\n",
       "    </tr>\n",
       "  </tbody>\n",
       "</table>\n",
       "</div>"
      ],
      "text/plain": [
       "            DoP\n",
       "0    2010-12-01\n",
       "1936 2010-12-02\n",
       "3934 2010-12-03\n",
       "5027 2010-12-05\n",
       "7723 2010-12-06"
      ]
     },
     "execution_count": 143,
     "metadata": {},
     "output_type": "execute_result"
    }
   ],
   "source": [
    "df2 = df1.drop_duplicates('DoP')\n",
    "#df1.index = range(len(df1.index))\n",
    "df2.head()"
   ]
  },
  {
   "cell_type": "code",
   "execution_count": 144,
   "metadata": {},
   "outputs": [
    {
     "name": "stderr",
     "output_type": "stream",
     "text": [
      "C:\\Anaconda3\\lib\\site-packages\\ipykernel_launcher.py:2: SettingWithCopyWarning: \n",
      "A value is trying to be set on a copy of a slice from a DataFrame.\n",
      "Try using .loc[row_indexer,col_indexer] = value instead\n",
      "\n",
      "See the caveats in the documentation: http://pandas.pydata.org/pandas-docs/stable/indexing.html#indexing-view-versus-copy\n",
      "  \n"
     ]
    },
    {
     "data": {
      "text/html": [
       "<div>\n",
       "<style scoped>\n",
       "    .dataframe tbody tr th:only-of-type {\n",
       "        vertical-align: middle;\n",
       "    }\n",
       "\n",
       "    .dataframe tbody tr th {\n",
       "        vertical-align: top;\n",
       "    }\n",
       "\n",
       "    .dataframe thead th {\n",
       "        text-align: right;\n",
       "    }\n",
       "</style>\n",
       "<table border=\"1\" class=\"dataframe\">\n",
       "  <thead>\n",
       "    <tr style=\"text-align: right;\">\n",
       "      <th></th>\n",
       "      <th>index</th>\n",
       "      <th>DoP</th>\n",
       "      <th>Time_Id</th>\n",
       "    </tr>\n",
       "  </thead>\n",
       "  <tbody>\n",
       "    <tr>\n",
       "      <th>0</th>\n",
       "      <td>0</td>\n",
       "      <td>2010-12-01</td>\n",
       "      <td>0</td>\n",
       "    </tr>\n",
       "    <tr>\n",
       "      <th>1</th>\n",
       "      <td>1936</td>\n",
       "      <td>2010-12-02</td>\n",
       "      <td>1</td>\n",
       "    </tr>\n",
       "    <tr>\n",
       "      <th>2</th>\n",
       "      <td>3934</td>\n",
       "      <td>2010-12-03</td>\n",
       "      <td>2</td>\n",
       "    </tr>\n",
       "    <tr>\n",
       "      <th>3</th>\n",
       "      <td>5027</td>\n",
       "      <td>2010-12-05</td>\n",
       "      <td>3</td>\n",
       "    </tr>\n",
       "    <tr>\n",
       "      <th>4</th>\n",
       "      <td>7723</td>\n",
       "      <td>2010-12-06</td>\n",
       "      <td>4</td>\n",
       "    </tr>\n",
       "  </tbody>\n",
       "</table>\n",
       "</div>"
      ],
      "text/plain": [
       "   index        DoP  Time_Id\n",
       "0      0 2010-12-01        0\n",
       "1   1936 2010-12-02        1\n",
       "2   3934 2010-12-03        2\n",
       "3   5027 2010-12-05        3\n",
       "4   7723 2010-12-06        4"
      ]
     },
     "execution_count": 144,
     "metadata": {},
     "output_type": "execute_result"
    }
   ],
   "source": [
    "df2.reset_index(inplace=True)\n",
    "df2['Time_Id'] = df2.index\n",
    "df2.head()"
   ]
  },
  {
   "cell_type": "code",
   "execution_count": 145,
   "metadata": {},
   "outputs": [
    {
     "data": {
      "text/html": [
       "<div>\n",
       "<style scoped>\n",
       "    .dataframe tbody tr th:only-of-type {\n",
       "        vertical-align: middle;\n",
       "    }\n",
       "\n",
       "    .dataframe tbody tr th {\n",
       "        vertical-align: top;\n",
       "    }\n",
       "\n",
       "    .dataframe thead th {\n",
       "        text-align: right;\n",
       "    }\n",
       "</style>\n",
       "<table border=\"1\" class=\"dataframe\">\n",
       "  <thead>\n",
       "    <tr style=\"text-align: right;\">\n",
       "      <th></th>\n",
       "      <th>DoP</th>\n",
       "      <th>Time_Id</th>\n",
       "    </tr>\n",
       "  </thead>\n",
       "  <tbody>\n",
       "    <tr>\n",
       "      <th>396365</th>\n",
       "      <td>2011-12-09</td>\n",
       "      <td>304</td>\n",
       "    </tr>\n",
       "    <tr>\n",
       "      <th>396366</th>\n",
       "      <td>2011-12-09</td>\n",
       "      <td>304</td>\n",
       "    </tr>\n",
       "    <tr>\n",
       "      <th>396367</th>\n",
       "      <td>2011-12-09</td>\n",
       "      <td>304</td>\n",
       "    </tr>\n",
       "    <tr>\n",
       "      <th>396368</th>\n",
       "      <td>2011-12-09</td>\n",
       "      <td>304</td>\n",
       "    </tr>\n",
       "    <tr>\n",
       "      <th>396369</th>\n",
       "      <td>2011-12-09</td>\n",
       "      <td>304</td>\n",
       "    </tr>\n",
       "  </tbody>\n",
       "</table>\n",
       "</div>"
      ],
      "text/plain": [
       "              DoP  Time_Id\n",
       "396365 2011-12-09      304\n",
       "396366 2011-12-09      304\n",
       "396367 2011-12-09      304\n",
       "396368 2011-12-09      304\n",
       "396369 2011-12-09      304"
      ]
     },
     "execution_count": 145,
     "metadata": {},
     "output_type": "execute_result"
    }
   ],
   "source": [
    "df3 = pd.merge(df1, df2, on='DoP', how='left')\n",
    "time_dimension = df3.filter(['DoP','Time_Id'], axis = 1)\n",
    "time_dimension.tail()\n",
    "\n",
    "#df3.tail()"
   ]
  },
  {
   "cell_type": "code",
   "execution_count": 110,
   "metadata": {},
   "outputs": [],
   "source": [
    "#time_dimension.insert(0, 'Time_ID', range(1,1+len(time_dimension_df)))\n",
    "#time_dimension.head()"
   ]
  },
  {
   "cell_type": "code",
   "execution_count": 146,
   "metadata": {},
   "outputs": [
    {
     "data": {
      "text/html": [
       "<div>\n",
       "<style scoped>\n",
       "    .dataframe tbody tr th:only-of-type {\n",
       "        vertical-align: middle;\n",
       "    }\n",
       "\n",
       "    .dataframe tbody tr th {\n",
       "        vertical-align: top;\n",
       "    }\n",
       "\n",
       "    .dataframe thead th {\n",
       "        text-align: right;\n",
       "    }\n",
       "</style>\n",
       "<table border=\"1\" class=\"dataframe\">\n",
       "  <thead>\n",
       "    <tr style=\"text-align: right;\">\n",
       "      <th></th>\n",
       "      <th>DoP</th>\n",
       "      <th>Time_Id</th>\n",
       "      <th>Year</th>\n",
       "      <th>Month</th>\n",
       "      <th>Qtr</th>\n",
       "    </tr>\n",
       "  </thead>\n",
       "  <tbody>\n",
       "    <tr>\n",
       "      <th>0</th>\n",
       "      <td>2010-12-01</td>\n",
       "      <td>0</td>\n",
       "      <td>2010</td>\n",
       "      <td>12</td>\n",
       "      <td>4</td>\n",
       "    </tr>\n",
       "    <tr>\n",
       "      <th>1</th>\n",
       "      <td>2010-12-01</td>\n",
       "      <td>0</td>\n",
       "      <td>2010</td>\n",
       "      <td>12</td>\n",
       "      <td>4</td>\n",
       "    </tr>\n",
       "    <tr>\n",
       "      <th>2</th>\n",
       "      <td>2010-12-01</td>\n",
       "      <td>0</td>\n",
       "      <td>2010</td>\n",
       "      <td>12</td>\n",
       "      <td>4</td>\n",
       "    </tr>\n",
       "    <tr>\n",
       "      <th>3</th>\n",
       "      <td>2010-12-01</td>\n",
       "      <td>0</td>\n",
       "      <td>2010</td>\n",
       "      <td>12</td>\n",
       "      <td>4</td>\n",
       "    </tr>\n",
       "    <tr>\n",
       "      <th>4</th>\n",
       "      <td>2010-12-01</td>\n",
       "      <td>0</td>\n",
       "      <td>2010</td>\n",
       "      <td>12</td>\n",
       "      <td>4</td>\n",
       "    </tr>\n",
       "  </tbody>\n",
       "</table>\n",
       "</div>"
      ],
      "text/plain": [
       "         DoP  Time_Id  Year  Month  Qtr\n",
       "0 2010-12-01        0  2010     12    4\n",
       "1 2010-12-01        0  2010     12    4\n",
       "2 2010-12-01        0  2010     12    4\n",
       "3 2010-12-01        0  2010     12    4\n",
       "4 2010-12-01        0  2010     12    4"
      ]
     },
     "execution_count": 146,
     "metadata": {},
     "output_type": "execute_result"
    }
   ],
   "source": [
    "time_dimension['Year'] = time_dimension['DoP'].dt.year\n",
    "time_dimension['Month'] = time_dimension['DoP'].dt.month\n",
    "time_dimension['Qtr'] = time_dimension['DoP'].dt.quarter\n",
    "time_dimension.head()"
   ]
  },
  {
   "cell_type": "code",
   "execution_count": 147,
   "metadata": {},
   "outputs": [
    {
     "name": "stdout",
     "output_type": "stream",
     "text": [
      "Opened database successfully\n",
      "new table got created successfully\n"
     ]
    }
   ],
   "source": [
    "conn = sqlite3.connect('C:\\\\DataSets\\\\RFMDB.db')\n",
    "print (\"Opened database successfully\")\n",
    "time_dimension.to_sql('time_dimension',conn, if_exists = 'replace')\n",
    "#rfmdm = pd.read_sql(\"select * from RFMDM\",conn)\n",
    "print (\"new table got created successfully\")\n",
    "conn.close()"
   ]
  },
  {
   "cell_type": "markdown",
   "metadata": {},
   "source": [
    "#sql query is not working\n",
    "UPDATE pardm SET Time_ID = (SELECT time_dimension.Time_ID FROM time_dimension where pardm.DoP = time_dimension.DoP)"
   ]
  },
  {
   "cell_type": "code",
   "execution_count": 49,
   "metadata": {},
   "outputs": [],
   "source": [
    "#create Product Analytical Data Mart (PARDM)"
   ]
  },
  {
   "cell_type": "code",
   "execution_count": 152,
   "metadata": {},
   "outputs": [
    {
     "data": {
      "text/html": [
       "<div>\n",
       "<style scoped>\n",
       "    .dataframe tbody tr th:only-of-type {\n",
       "        vertical-align: middle;\n",
       "    }\n",
       "\n",
       "    .dataframe tbody tr th {\n",
       "        vertical-align: top;\n",
       "    }\n",
       "\n",
       "    .dataframe thead th {\n",
       "        text-align: right;\n",
       "    }\n",
       "</style>\n",
       "<table border=\"1\" class=\"dataframe\">\n",
       "  <thead>\n",
       "    <tr style=\"text-align: right;\">\n",
       "      <th></th>\n",
       "      <th>InvoiceNo</th>\n",
       "      <th>StockCode</th>\n",
       "      <th>DoP</th>\n",
       "    </tr>\n",
       "  </thead>\n",
       "  <tbody>\n",
       "    <tr>\n",
       "      <th>0</th>\n",
       "      <td>536365</td>\n",
       "      <td>85123A</td>\n",
       "      <td>2010-12-01</td>\n",
       "    </tr>\n",
       "    <tr>\n",
       "      <th>1</th>\n",
       "      <td>536365</td>\n",
       "      <td>71053</td>\n",
       "      <td>2010-12-01</td>\n",
       "    </tr>\n",
       "    <tr>\n",
       "      <th>2</th>\n",
       "      <td>536365</td>\n",
       "      <td>84406B</td>\n",
       "      <td>2010-12-01</td>\n",
       "    </tr>\n",
       "    <tr>\n",
       "      <th>3</th>\n",
       "      <td>536365</td>\n",
       "      <td>84029G</td>\n",
       "      <td>2010-12-01</td>\n",
       "    </tr>\n",
       "    <tr>\n",
       "      <th>4</th>\n",
       "      <td>536365</td>\n",
       "      <td>84029E</td>\n",
       "      <td>2010-12-01</td>\n",
       "    </tr>\n",
       "  </tbody>\n",
       "</table>\n",
       "</div>"
      ],
      "text/plain": [
       "  InvoiceNo StockCode        DoP\n",
       "0    536365    85123A 2010-12-01\n",
       "1    536365     71053 2010-12-01\n",
       "2    536365    84406B 2010-12-01\n",
       "3    536365    84029G 2010-12-01\n",
       "4    536365    84029E 2010-12-01"
      ]
     },
     "execution_count": 152,
     "metadata": {},
     "output_type": "execute_result"
    }
   ],
   "source": [
    "df4 = rfmdm.filter(['InvoiceNo','StockCode','DoP'], axis = 1)\n",
    "df4.head()"
   ]
  },
  {
   "cell_type": "code",
   "execution_count": 154,
   "metadata": {},
   "outputs": [
    {
     "data": {
      "text/html": [
       "<div>\n",
       "<style scoped>\n",
       "    .dataframe tbody tr th:only-of-type {\n",
       "        vertical-align: middle;\n",
       "    }\n",
       "\n",
       "    .dataframe tbody tr th {\n",
       "        vertical-align: top;\n",
       "    }\n",
       "\n",
       "    .dataframe thead th {\n",
       "        text-align: right;\n",
       "    }\n",
       "</style>\n",
       "<table border=\"1\" class=\"dataframe\">\n",
       "  <thead>\n",
       "    <tr style=\"text-align: right;\">\n",
       "      <th></th>\n",
       "      <th>InvoiceNo</th>\n",
       "      <th>StockCode</th>\n",
       "      <th>Time_Id</th>\n",
       "    </tr>\n",
       "  </thead>\n",
       "  <tbody>\n",
       "    <tr>\n",
       "      <th>0</th>\n",
       "      <td>536365</td>\n",
       "      <td>85123A</td>\n",
       "      <td>0</td>\n",
       "    </tr>\n",
       "    <tr>\n",
       "      <th>1</th>\n",
       "      <td>536365</td>\n",
       "      <td>71053</td>\n",
       "      <td>0</td>\n",
       "    </tr>\n",
       "    <tr>\n",
       "      <th>2</th>\n",
       "      <td>536365</td>\n",
       "      <td>84406B</td>\n",
       "      <td>0</td>\n",
       "    </tr>\n",
       "    <tr>\n",
       "      <th>3</th>\n",
       "      <td>536365</td>\n",
       "      <td>84029G</td>\n",
       "      <td>0</td>\n",
       "    </tr>\n",
       "    <tr>\n",
       "      <th>4</th>\n",
       "      <td>536365</td>\n",
       "      <td>84029E</td>\n",
       "      <td>0</td>\n",
       "    </tr>\n",
       "  </tbody>\n",
       "</table>\n",
       "</div>"
      ],
      "text/plain": [
       "  InvoiceNo StockCode  Time_Id\n",
       "0    536365    85123A        0\n",
       "1    536365     71053        0\n",
       "2    536365    84406B        0\n",
       "3    536365    84029G        0\n",
       "4    536365    84029E        0"
      ]
     },
     "execution_count": 154,
     "metadata": {},
     "output_type": "execute_result"
    }
   ],
   "source": [
    "df5 = pd.merge(df4, df2, on='DoP', how='left')\n",
    "#df5.head()\n",
    "pardm = df5.filter(['InvoiceNo','StockCode','Time_Id'], axis = 1)\n",
    "pardm.head()"
   ]
  },
  {
   "cell_type": "code",
   "execution_count": 155,
   "metadata": {},
   "outputs": [
    {
     "name": "stdout",
     "output_type": "stream",
     "text": [
      "Opened database successfully\n",
      "new table got created successfully\n"
     ]
    }
   ],
   "source": [
    "conn = sqlite3.connect('C:\\\\DataSets\\\\RFMDB.db')\n",
    "print (\"Opened database successfully\")\n",
    "pardm.to_sql('pardm',conn, if_exists = 'replace')\n",
    "#rfmdm = pd.read_sql(\"select * from RFMDM\",conn)\n",
    "print (\"new table got created successfully\")\n",
    "conn.close()"
   ]
  },
  {
   "cell_type": "code",
   "execution_count": 150,
   "metadata": {},
   "outputs": [
    {
     "name": "stdout",
     "output_type": "stream",
     "text": [
      "Opened database successfully\n",
      " alter table pardm             add column Time_ID VARCHAR(50)         \n",
      "Column added successfully\n"
     ]
    }
   ],
   "source": [
    "conn = sqlite3.connect('C:\\\\DataSets\\\\RFMDB.db')\n",
    "print (\"Opened database successfully\")\n",
    "\n",
    "sql = ''' alter table pardm \\\n",
    "            add column Time_ID VARCHAR(50) \\\n",
    "        '''\n",
    "print(sql)\n",
    "conn.execute(sql)\n",
    "conn.commit\n",
    "print (\"Column added successfully\")\n",
    "\n",
    "conn.close()"
   ]
  },
  {
   "cell_type": "markdown",
   "metadata": {},
   "source": []
  },
  {
   "cell_type": "code",
   "execution_count": null,
   "metadata": {},
   "outputs": [],
   "source": []
  }
 ],
 "metadata": {
  "kernelspec": {
   "display_name": "Python 3",
   "language": "python",
   "name": "python3"
  },
  "language_info": {
   "codemirror_mode": {
    "name": "ipython",
    "version": 3
   },
   "file_extension": ".py",
   "mimetype": "text/x-python",
   "name": "python",
   "nbconvert_exporter": "python",
   "pygments_lexer": "ipython3",
   "version": "3.6.2"
  }
 },
 "nbformat": 4,
 "nbformat_minor": 2
}
