{
 "cells": [
  {
   "cell_type": "markdown",
   "metadata": {},
   "source": [
    "# There are 8000 records which are less than 0\n",
    "# there are 40 items = 0\n"
   ]
  },
  {
   "cell_type": "code",
   "execution_count": 148,
   "metadata": {},
   "outputs": [],
   "source": [
    "import sqlite3\n",
    "import datetime as dt"
   ]
  },
  {
   "cell_type": "code",
   "execution_count": 149,
   "metadata": {},
   "outputs": [],
   "source": [
    "file = open(\"C:\\\\DataSets\\\\OnlineRetail2Sample.csv\")\n",
    "data1 = file.readlines()\n",
    "data = data1[1:]"
   ]
  },
  {
   "cell_type": "code",
   "execution_count": 150,
   "metadata": {},
   "outputs": [
    {
     "name": "stdout",
     "output_type": "stream",
     "text": [
      "Opened database successfully\n"
     ]
    }
   ],
   "source": [
    "conn = sqlite3.connect('C:\\\\DataSets\\\\RFMDB.db')\n",
    "print (\"Opened database successfully\")"
   ]
  },
  {
   "cell_type": "code",
   "execution_count": 151,
   "metadata": {},
   "outputs": [
    {
     "name": "stdout",
     "output_type": "stream",
     "text": [
      "Table created successfully\n"
     ]
    }
   ],
   "source": [
    "conn.execute('''CREATE TABLE RFMDM (\n",
    "    InvoiceNo   CHAR (20),\n",
    "    StockCode   CHAR (20),\n",
    "    Quantity    INTEGER,\n",
    "    DoP         DATE,\n",
    "    UnitPrice   FLOAT,\n",
    "    CustomerID  CHAR (30));''')\n",
    "print (\"Table created successfully\")\n",
    "\n",
    "#conn.close()"
   ]
  },
  {
   "cell_type": "code",
   "execution_count": 152,
   "metadata": {},
   "outputs": [
    {
     "name": "stdout",
     "output_type": "stream",
     "text": [
      "Commit successful\n"
     ]
    }
   ],
   "source": [
    "for row in data:\n",
    "    #iData = data[row].split(sep = \",\")\n",
    "    iData = row.split(sep = \",\")\n",
    "    #print(iData)\n",
    "    InvoiceNo = iData[0]\n",
    "    StockCode = iData[1]\n",
    "    Quantity = iData[2]\n",
    "    DoP = iData[3]\n",
    "    UnitPrice = iData[4]\n",
    "    CustomerID = iData[5]\n",
    "\n",
    "    #print(InvoiceNo, StockCode, Quantity, DoP, UnitPrice, CustomerID)\n",
    "\n",
    "    #sql = 'INSERT INTO RFMDM (InvoiceNo,StockCode,Quantity,DoP,UnitPrice,CustomerID) \\\n",
    "    #      VALUES (' + 536365 , 71053, 6, \\'12/1/2010\\', 3.39, 17850)\"\n",
    "\n",
    "    sql = \"INSERT INTO RFMDM (InvoiceNo,StockCode,Quantity,DoP,UnitPrice,CustomerID) \\\n",
    "          VALUES (\" + \"\\'\" + InvoiceNo + \"\\',\\'\"+ StockCode + \"\\',\"+ Quantity  + ','+ \"\\'\" + DoP + \"\\'\" +','+ UnitPrice +',' + CustomerID + \" )\"\n",
    "    #print(sql)\n",
    "    conn.execute(sql)\n",
    "conn.commit()    \n",
    "conn.close()\n",
    "print(\"Commit successful\")"
   ]
  },
  {
   "cell_type": "code",
   "execution_count": 153,
   "metadata": {},
   "outputs": [
    {
     "name": "stdout",
     "output_type": "stream",
     "text": [
      "Opened database successfully\n",
      "[('536365', '85123A', 6, '12/1/2010', 2.55, '17850'), ('536365', '71053', 6, '12/1/2010', 3.39, '17850'), ('536365', '84406B', 8, '12/1/2010', 2.75, '17850'), ('536365', '84029G', 6, '12/1/2010', 3.39, '17850'), ('536365', '84029E', 6, '12/1/2010', 3.39, '17850')]\n"
     ]
    }
   ],
   "source": [
    "conn = sqlite3.connect('C:\\\\DataSets\\\\RFMDB.db')\n",
    "print (\"Opened database successfully\")\n",
    "cur = conn.execute(\"select * from RFMDM limit 5\")\n",
    "data = cur.fetchall()\n",
    "conn.close()\n",
    "print(data)"
   ]
  },
  {
   "cell_type": "markdown",
   "metadata": {},
   "source": [
    "#Run delete query in the table rfmdm\n",
    "select count(*) from RFMDM\n",
    "-- 406829\n",
    "\n",
    "select count(*) from rfmdm where StockCode in ('POST', 'D', 'BANK CHARGES', 'C2', 'CRUK', 'DOT', 'M', 'PADS')\n",
    "\n",
    "--1920\n",
    "\n",
    "delete from rfmdm where StockCode in ('POST', 'D', 'BANK CHARGES', 'C2', 'CRUK', 'DOT', 'M', 'PADS')\n",
    "select count(*) from RFMDM where Quantity<0\n",
    "\n",
    "--8359 (2%)\n",
    "\n",
    "delete from rfmdm where quantity <0"
   ]
  },
  {
   "cell_type": "code",
   "execution_count": 154,
   "metadata": {},
   "outputs": [
    {
     "name": "stdout",
     "output_type": "stream",
     "text": [
      "Opened database successfully\n",
      "Table created successfully\n"
     ]
    }
   ],
   "source": [
    "conn = sqlite3.connect('C:\\\\DataSets\\\\RFMDB.db')\n",
    "print (\"Opened database successfully\")\n",
    "\n",
    "#conn.execute('''drop table rfmseg''')\n",
    "conn.execute('''CREATE TABLE RFMSeg (\n",
    "    CustomerID  CHAR (20),\n",
    "    RDate   DATE,\n",
    "    Frequency    INTEGER,\n",
    "    Product INTEGER,\n",
    "    TDate         DATE,\n",
    "    Monetary   FLOAT)''')\n",
    "print (\"Table created successfully\")\n",
    "\n",
    "conn.close() "
   ]
  },
  {
   "cell_type": "code",
   "execution_count": 155,
   "metadata": {},
   "outputs": [],
   "source": [
    "import pandas as pd"
   ]
  },
  {
   "cell_type": "code",
   "execution_count": 156,
   "metadata": {},
   "outputs": [
    {
     "name": "stdout",
     "output_type": "stream",
     "text": [
      "Opened database successfully\n",
      "records added to dataframe successfully\n"
     ]
    }
   ],
   "source": [
    "conn = sqlite3.connect('C:\\\\DataSets\\\\RFMDB.db')\n",
    "print (\"Opened database successfully\")\n",
    "rfmdm = pd.read_sql(\"select * from RFMDM\",conn)\n",
    "print (\"records added to dataframe successfully\")\n",
    "conn.close()"
   ]
  },
  {
   "cell_type": "code",
   "execution_count": 157,
   "metadata": {},
   "outputs": [
    {
     "data": {
      "text/html": [
       "<div>\n",
       "<style scoped>\n",
       "    .dataframe tbody tr th:only-of-type {\n",
       "        vertical-align: middle;\n",
       "    }\n",
       "\n",
       "    .dataframe tbody tr th {\n",
       "        vertical-align: top;\n",
       "    }\n",
       "\n",
       "    .dataframe thead th {\n",
       "        text-align: right;\n",
       "    }\n",
       "</style>\n",
       "<table border=\"1\" class=\"dataframe\">\n",
       "  <thead>\n",
       "    <tr style=\"text-align: right;\">\n",
       "      <th></th>\n",
       "      <th>InvoiceNo</th>\n",
       "      <th>StockCode</th>\n",
       "      <th>Quantity</th>\n",
       "      <th>DoP</th>\n",
       "      <th>UnitPrice</th>\n",
       "      <th>CustomerID</th>\n",
       "    </tr>\n",
       "  </thead>\n",
       "  <tbody>\n",
       "    <tr>\n",
       "      <th>0</th>\n",
       "      <td>536365</td>\n",
       "      <td>85123A</td>\n",
       "      <td>6</td>\n",
       "      <td>12/1/2010</td>\n",
       "      <td>2.55</td>\n",
       "      <td>17850</td>\n",
       "    </tr>\n",
       "    <tr>\n",
       "      <th>1</th>\n",
       "      <td>536365</td>\n",
       "      <td>71053</td>\n",
       "      <td>6</td>\n",
       "      <td>12/1/2010</td>\n",
       "      <td>3.39</td>\n",
       "      <td>17850</td>\n",
       "    </tr>\n",
       "    <tr>\n",
       "      <th>2</th>\n",
       "      <td>536365</td>\n",
       "      <td>84406B</td>\n",
       "      <td>8</td>\n",
       "      <td>12/1/2010</td>\n",
       "      <td>2.75</td>\n",
       "      <td>17850</td>\n",
       "    </tr>\n",
       "    <tr>\n",
       "      <th>3</th>\n",
       "      <td>536365</td>\n",
       "      <td>84029G</td>\n",
       "      <td>6</td>\n",
       "      <td>12/1/2010</td>\n",
       "      <td>3.39</td>\n",
       "      <td>17850</td>\n",
       "    </tr>\n",
       "    <tr>\n",
       "      <th>4</th>\n",
       "      <td>536365</td>\n",
       "      <td>84029E</td>\n",
       "      <td>6</td>\n",
       "      <td>12/1/2010</td>\n",
       "      <td>3.39</td>\n",
       "      <td>17850</td>\n",
       "    </tr>\n",
       "  </tbody>\n",
       "</table>\n",
       "</div>"
      ],
      "text/plain": [
       "  InvoiceNo StockCode  Quantity        DoP  UnitPrice CustomerID\n",
       "0    536365    85123A         6  12/1/2010       2.55      17850\n",
       "1    536365     71053         6  12/1/2010       3.39      17850\n",
       "2    536365    84406B         8  12/1/2010       2.75      17850\n",
       "3    536365    84029G         6  12/1/2010       3.39      17850\n",
       "4    536365    84029E         6  12/1/2010       3.39      17850"
      ]
     },
     "execution_count": 157,
     "metadata": {},
     "output_type": "execute_result"
    }
   ],
   "source": [
    "rfmdm.head()"
   ]
  },
  {
   "cell_type": "code",
   "execution_count": 158,
   "metadata": {},
   "outputs": [
    {
     "data": {
      "text/plain": [
       "InvoiceNo      object\n",
       "StockCode      object\n",
       "Quantity        int64\n",
       "DoP            object\n",
       "UnitPrice     float64\n",
       "CustomerID     object\n",
       "dtype: object"
      ]
     },
     "execution_count": 158,
     "metadata": {},
     "output_type": "execute_result"
    }
   ],
   "source": [
    "rfmdm.dtypes"
   ]
  },
  {
   "cell_type": "code",
   "execution_count": 159,
   "metadata": {},
   "outputs": [
    {
     "name": "stdout",
     "output_type": "stream",
     "text": [
      "Opened database successfully\n",
      "[('12/1/2010',), ('12/2/2010',), ('12/3/2010',), ('12/5/2010',), ('12/6/2010',)]\n"
     ]
    }
   ],
   "source": [
    "conn = sqlite3.connect('C:\\\\DataSets\\\\RFMDB.db')\n",
    "print (\"Opened database successfully\")\n",
    "cur = conn.execute(\"select distinct(DoP) from RFMDM limit 5\")\n",
    "data = cur.fetchall()\n",
    "conn.close()\n",
    "print(data)"
   ]
  },
  {
   "cell_type": "code",
   "execution_count": 160,
   "metadata": {},
   "outputs": [
    {
     "name": "stdout",
     "output_type": "stream",
     "text": [
      "Opened database successfully\n",
      "[(396370,)]\n"
     ]
    }
   ],
   "source": [
    "conn = sqlite3.connect('C:\\\\DataSets\\\\RFMDB.db')\n",
    "print (\"Opened database successfully\")\n",
    "cur = conn.execute(\"select count(*) from RFMDM\")\n",
    "data = cur.fetchall()\n",
    "conn.close()\n",
    "print(data)"
   ]
  },
  {
   "cell_type": "code",
   "execution_count": 161,
   "metadata": {},
   "outputs": [
    {
     "name": "stdout",
     "output_type": "stream",
     "text": [
      "Converted successfully\n"
     ]
    }
   ],
   "source": [
    "rfmdm['DoP'] = pd.to_datetime(rfmdm['DoP'])\n",
    "print(\"Converted successfully\")"
   ]
  },
  {
   "cell_type": "code",
   "execution_count": 162,
   "metadata": {},
   "outputs": [
    {
     "data": {
      "text/plain": [
       "InvoiceNo             object\n",
       "StockCode             object\n",
       "Quantity               int64\n",
       "DoP           datetime64[ns]\n",
       "UnitPrice            float64\n",
       "CustomerID            object\n",
       "dtype: object"
      ]
     },
     "execution_count": 162,
     "metadata": {},
     "output_type": "execute_result"
    }
   ],
   "source": [
    "rfmdm.dtypes"
   ]
  },
  {
   "cell_type": "code",
   "execution_count": null,
   "metadata": {},
   "outputs": [],
   "source": [
    "#Fix datetime format issue"
   ]
  },
  {
   "cell_type": "code",
   "execution_count": 163,
   "metadata": {},
   "outputs": [
    {
     "name": "stdout",
     "output_type": "stream",
     "text": [
      "Opened database successfully\n",
      "new table got created successfully\n"
     ]
    }
   ],
   "source": [
    "conn = sqlite3.connect('C:\\\\DataSets\\\\RFMDB.db')\n",
    "print (\"Opened database successfully\")\n",
    "rfmdm.to_sql('rfmdm_final',conn, if_exists = 'replace')\n",
    "#rfmdm = pd.read_sql(\"select * from RFMDM\",conn)\n",
    "print (\"new table got created successfully\")\n",
    "conn.close()"
   ]
  },
  {
   "cell_type": "code",
   "execution_count": 164,
   "metadata": {},
   "outputs": [
    {
     "name": "stdout",
     "output_type": "stream",
     "text": [
      "Opened database successfully\n",
      "[('2010-12-01 00:00:00',), ('2010-12-02 00:00:00',), ('2010-12-03 00:00:00',), ('2010-12-05 00:00:00',), ('2010-12-06 00:00:00',)]\n"
     ]
    }
   ],
   "source": [
    "conn = sqlite3.connect('C:\\\\DataSets\\\\RFMDB.db')\n",
    "print (\"Opened database successfully\")\n",
    "cur = conn.execute(\"select distinct(DoP) from RFMDM_final limit 5\")\n",
    "data = cur.fetchall()\n",
    "conn.close()\n",
    "print(data)"
   ]
  },
  {
   "cell_type": "code",
   "execution_count": null,
   "metadata": {},
   "outputs": [],
   "source": [
    "insert data into rfmseg table using sql\n",
    "    INSERT INTO RFMSeg\n",
    "       SELECT CustomerID, max(DoP), count(distinct(InvoiceNo)), count(distinct(StockCode)), min(DoP), sum(quantity*unitprice)\n",
    "       FROM RFMDM_final\n",
    "       group by customerid"
   ]
  },
  {
   "cell_type": "code",
   "execution_count": 165,
   "metadata": {},
   "outputs": [
    {
     "name": "stdout",
     "output_type": "stream",
     "text": [
      "Opened database successfully\n",
      "[('12346', '2011-01-18 00:00:00', 1, 1, '2011-01-18 00:00:00', 77183.6), ('12347', '2011-12-07 00:00:00', 7, 103, '2010-12-07 00:00:00', 4309.999999999997), ('12348', '2011-09-25 00:00:00', 4, 21, '2010-12-16 00:00:00', 1437.24), ('12349', '2011-11-21 00:00:00', 1, 72, '2011-11-21 00:00:00', 1457.55), ('12350', '2011-02-02 00:00:00', 1, 16, '2011-02-02 00:00:00', 294.40000000000003)]\n"
     ]
    }
   ],
   "source": [
    "conn = sqlite3.connect('C:\\\\DataSets\\\\RFMDB.db')\n",
    "print (\"Opened database successfully\")\n",
    "cur = conn.execute(\"select * from RFMSEG limit 5\")\n",
    "data = cur.fetchall()\n",
    "conn.close()\n",
    "print(data)"
   ]
  },
  {
   "cell_type": "code",
   "execution_count": 166,
   "metadata": {},
   "outputs": [
    {
     "name": "stdout",
     "output_type": "stream",
     "text": [
      "2011-12-09 00:00:00\n"
     ]
    }
   ],
   "source": [
    "print(max(rfmdm['DoP']))"
   ]
  },
  {
   "cell_type": "code",
   "execution_count": 167,
   "metadata": {},
   "outputs": [
    {
     "name": "stdout",
     "output_type": "stream",
     "text": [
      "2010-12-01 00:00:00\n"
     ]
    }
   ],
   "source": [
    "print(min(rfmdm['DoP']))"
   ]
  },
  {
   "cell_type": "code",
   "execution_count": null,
   "metadata": {},
   "outputs": [],
   "source": []
  },
  {
   "cell_type": "code",
   "execution_count": 168,
   "metadata": {},
   "outputs": [
    {
     "name": "stdout",
     "output_type": "stream",
     "text": [
      "Opened database successfully\n",
      " alter table rfmseg             add column Recency INTEGER         \n",
      "Column added successfully\n"
     ]
    }
   ],
   "source": [
    "conn = sqlite3.connect('C:\\\\DataSets\\\\RFMDB.db')\n",
    "print (\"Opened database successfully\")\n",
    "\n",
    "sql = ''' alter table rfmseg \\\n",
    "            add column Recency INTEGER \\\n",
    "        '''\n",
    "print(sql)\n",
    "conn.execute(sql)\n",
    "conn.commit\n",
    "print (\"Column added successfully\")\n",
    "\n",
    "conn.close()"
   ]
  },
  {
   "cell_type": "code",
   "execution_count": 169,
   "metadata": {},
   "outputs": [
    {
     "name": "stdout",
     "output_type": "stream",
     "text": [
      "Opened database successfully\n",
      " alter table rfmseg             add column Tenure INTEGER         \n",
      "Column added successfully\n"
     ]
    }
   ],
   "source": [
    "conn = sqlite3.connect('C:\\\\DataSets\\\\RFMDB.db')\n",
    "print (\"Opened database successfully\")\n",
    "\n",
    "sql = ''' alter table rfmseg \\\n",
    "            add column Tenure INTEGER \\\n",
    "        '''\n",
    "print(sql)\n",
    "conn.execute(sql)\n",
    "conn.commit\n",
    "print (\"Column added successfully\")\n",
    "\n",
    "conn.close()"
   ]
  },
  {
   "cell_type": "code",
   "execution_count": 170,
   "metadata": {},
   "outputs": [
    {
     "name": "stdout",
     "output_type": "stream",
     "text": [
      "Opened database successfully\n",
      "records added to dataframe rfmseg successfully\n"
     ]
    }
   ],
   "source": [
    "conn = sqlite3.connect('C:\\\\DataSets\\\\RFMDB.db')\n",
    "print (\"Opened database successfully\")\n",
    "rfmseg = pd.read_sql(\"select * from RFMSEG\",conn)\n",
    "print (\"records added to dataframe rfmseg successfully\")\n",
    "conn.close()"
   ]
  },
  {
   "cell_type": "code",
   "execution_count": 171,
   "metadata": {},
   "outputs": [
    {
     "data": {
      "text/html": [
       "<div>\n",
       "<style scoped>\n",
       "    .dataframe tbody tr th:only-of-type {\n",
       "        vertical-align: middle;\n",
       "    }\n",
       "\n",
       "    .dataframe tbody tr th {\n",
       "        vertical-align: top;\n",
       "    }\n",
       "\n",
       "    .dataframe thead th {\n",
       "        text-align: right;\n",
       "    }\n",
       "</style>\n",
       "<table border=\"1\" class=\"dataframe\">\n",
       "  <thead>\n",
       "    <tr style=\"text-align: right;\">\n",
       "      <th></th>\n",
       "      <th>CustomerID</th>\n",
       "      <th>RDate</th>\n",
       "      <th>Frequency</th>\n",
       "      <th>Product</th>\n",
       "      <th>TDate</th>\n",
       "      <th>Monetary</th>\n",
       "      <th>Recency</th>\n",
       "      <th>Tenure</th>\n",
       "    </tr>\n",
       "  </thead>\n",
       "  <tbody>\n",
       "    <tr>\n",
       "      <th>0</th>\n",
       "      <td>12346</td>\n",
       "      <td>2011-01-18 00:00:00</td>\n",
       "      <td>1</td>\n",
       "      <td>1</td>\n",
       "      <td>2011-01-18 00:00:00</td>\n",
       "      <td>77183.60</td>\n",
       "      <td>None</td>\n",
       "      <td>None</td>\n",
       "    </tr>\n",
       "    <tr>\n",
       "      <th>1</th>\n",
       "      <td>12347</td>\n",
       "      <td>2011-12-07 00:00:00</td>\n",
       "      <td>7</td>\n",
       "      <td>103</td>\n",
       "      <td>2010-12-07 00:00:00</td>\n",
       "      <td>4310.00</td>\n",
       "      <td>None</td>\n",
       "      <td>None</td>\n",
       "    </tr>\n",
       "    <tr>\n",
       "      <th>2</th>\n",
       "      <td>12348</td>\n",
       "      <td>2011-09-25 00:00:00</td>\n",
       "      <td>4</td>\n",
       "      <td>21</td>\n",
       "      <td>2010-12-16 00:00:00</td>\n",
       "      <td>1437.24</td>\n",
       "      <td>None</td>\n",
       "      <td>None</td>\n",
       "    </tr>\n",
       "    <tr>\n",
       "      <th>3</th>\n",
       "      <td>12349</td>\n",
       "      <td>2011-11-21 00:00:00</td>\n",
       "      <td>1</td>\n",
       "      <td>72</td>\n",
       "      <td>2011-11-21 00:00:00</td>\n",
       "      <td>1457.55</td>\n",
       "      <td>None</td>\n",
       "      <td>None</td>\n",
       "    </tr>\n",
       "    <tr>\n",
       "      <th>4</th>\n",
       "      <td>12350</td>\n",
       "      <td>2011-02-02 00:00:00</td>\n",
       "      <td>1</td>\n",
       "      <td>16</td>\n",
       "      <td>2011-02-02 00:00:00</td>\n",
       "      <td>294.40</td>\n",
       "      <td>None</td>\n",
       "      <td>None</td>\n",
       "    </tr>\n",
       "  </tbody>\n",
       "</table>\n",
       "</div>"
      ],
      "text/plain": [
       "  CustomerID                RDate  Frequency  Product                TDate  \\\n",
       "0      12346  2011-01-18 00:00:00          1        1  2011-01-18 00:00:00   \n",
       "1      12347  2011-12-07 00:00:00          7      103  2010-12-07 00:00:00   \n",
       "2      12348  2011-09-25 00:00:00          4       21  2010-12-16 00:00:00   \n",
       "3      12349  2011-11-21 00:00:00          1       72  2011-11-21 00:00:00   \n",
       "4      12350  2011-02-02 00:00:00          1       16  2011-02-02 00:00:00   \n",
       "\n",
       "   Monetary Recency Tenure  \n",
       "0  77183.60    None   None  \n",
       "1   4310.00    None   None  \n",
       "2   1437.24    None   None  \n",
       "3   1457.55    None   None  \n",
       "4    294.40    None   None  "
      ]
     },
     "execution_count": 171,
     "metadata": {},
     "output_type": "execute_result"
    }
   ],
   "source": [
    "rfmseg.head()\n",
    "#print(rfmseg['Recency'])"
   ]
  },
  {
   "cell_type": "code",
   "execution_count": 172,
   "metadata": {},
   "outputs": [
    {
     "name": "stdout",
     "output_type": "stream",
     "text": [
      "2011-12-15 00:00:00\n"
     ]
    }
   ],
   "source": [
    "\n",
    "NOW = dt.datetime(2011,12,15)\n",
    "print(NOW)"
   ]
  },
  {
   "cell_type": "code",
   "execution_count": 173,
   "metadata": {},
   "outputs": [
    {
     "data": {
      "text/html": [
       "<div>\n",
       "<style scoped>\n",
       "    .dataframe tbody tr th:only-of-type {\n",
       "        vertical-align: middle;\n",
       "    }\n",
       "\n",
       "    .dataframe tbody tr th {\n",
       "        vertical-align: top;\n",
       "    }\n",
       "\n",
       "    .dataframe thead th {\n",
       "        text-align: right;\n",
       "    }\n",
       "</style>\n",
       "<table border=\"1\" class=\"dataframe\">\n",
       "  <thead>\n",
       "    <tr style=\"text-align: right;\">\n",
       "      <th></th>\n",
       "      <th>CustomerID</th>\n",
       "      <th>RDate</th>\n",
       "      <th>Frequency</th>\n",
       "      <th>Product</th>\n",
       "      <th>TDate</th>\n",
       "      <th>Monetary</th>\n",
       "      <th>Recency</th>\n",
       "      <th>Tenure</th>\n",
       "      <th>NOW</th>\n",
       "    </tr>\n",
       "  </thead>\n",
       "  <tbody>\n",
       "    <tr>\n",
       "      <th>0</th>\n",
       "      <td>12346</td>\n",
       "      <td>2011-01-18 00:00:00</td>\n",
       "      <td>1</td>\n",
       "      <td>1</td>\n",
       "      <td>2011-01-18 00:00:00</td>\n",
       "      <td>77183.60</td>\n",
       "      <td>None</td>\n",
       "      <td>None</td>\n",
       "      <td>2011-12-15</td>\n",
       "    </tr>\n",
       "    <tr>\n",
       "      <th>1</th>\n",
       "      <td>12347</td>\n",
       "      <td>2011-12-07 00:00:00</td>\n",
       "      <td>7</td>\n",
       "      <td>103</td>\n",
       "      <td>2010-12-07 00:00:00</td>\n",
       "      <td>4310.00</td>\n",
       "      <td>None</td>\n",
       "      <td>None</td>\n",
       "      <td>2011-12-15</td>\n",
       "    </tr>\n",
       "    <tr>\n",
       "      <th>2</th>\n",
       "      <td>12348</td>\n",
       "      <td>2011-09-25 00:00:00</td>\n",
       "      <td>4</td>\n",
       "      <td>21</td>\n",
       "      <td>2010-12-16 00:00:00</td>\n",
       "      <td>1437.24</td>\n",
       "      <td>None</td>\n",
       "      <td>None</td>\n",
       "      <td>2011-12-15</td>\n",
       "    </tr>\n",
       "    <tr>\n",
       "      <th>3</th>\n",
       "      <td>12349</td>\n",
       "      <td>2011-11-21 00:00:00</td>\n",
       "      <td>1</td>\n",
       "      <td>72</td>\n",
       "      <td>2011-11-21 00:00:00</td>\n",
       "      <td>1457.55</td>\n",
       "      <td>None</td>\n",
       "      <td>None</td>\n",
       "      <td>2011-12-15</td>\n",
       "    </tr>\n",
       "    <tr>\n",
       "      <th>4</th>\n",
       "      <td>12350</td>\n",
       "      <td>2011-02-02 00:00:00</td>\n",
       "      <td>1</td>\n",
       "      <td>16</td>\n",
       "      <td>2011-02-02 00:00:00</td>\n",
       "      <td>294.40</td>\n",
       "      <td>None</td>\n",
       "      <td>None</td>\n",
       "      <td>2011-12-15</td>\n",
       "    </tr>\n",
       "  </tbody>\n",
       "</table>\n",
       "</div>"
      ],
      "text/plain": [
       "  CustomerID                RDate  Frequency  Product                TDate  \\\n",
       "0      12346  2011-01-18 00:00:00          1        1  2011-01-18 00:00:00   \n",
       "1      12347  2011-12-07 00:00:00          7      103  2010-12-07 00:00:00   \n",
       "2      12348  2011-09-25 00:00:00          4       21  2010-12-16 00:00:00   \n",
       "3      12349  2011-11-21 00:00:00          1       72  2011-11-21 00:00:00   \n",
       "4      12350  2011-02-02 00:00:00          1       16  2011-02-02 00:00:00   \n",
       "\n",
       "   Monetary Recency Tenure        NOW  \n",
       "0  77183.60    None   None 2011-12-15  \n",
       "1   4310.00    None   None 2011-12-15  \n",
       "2   1437.24    None   None 2011-12-15  \n",
       "3   1457.55    None   None 2011-12-15  \n",
       "4    294.40    None   None 2011-12-15  "
      ]
     },
     "execution_count": 173,
     "metadata": {},
     "output_type": "execute_result"
    }
   ],
   "source": [
    "rfmseg['NOW'] = NOW\n",
    "rfmseg.head()"
   ]
  },
  {
   "cell_type": "code",
   "execution_count": 174,
   "metadata": {},
   "outputs": [
    {
     "data": {
      "text/html": [
       "<div>\n",
       "<style scoped>\n",
       "    .dataframe tbody tr th:only-of-type {\n",
       "        vertical-align: middle;\n",
       "    }\n",
       "\n",
       "    .dataframe tbody tr th {\n",
       "        vertical-align: top;\n",
       "    }\n",
       "\n",
       "    .dataframe thead th {\n",
       "        text-align: right;\n",
       "    }\n",
       "</style>\n",
       "<table border=\"1\" class=\"dataframe\">\n",
       "  <thead>\n",
       "    <tr style=\"text-align: right;\">\n",
       "      <th></th>\n",
       "      <th>CustomerID</th>\n",
       "      <th>RDate</th>\n",
       "      <th>Frequency</th>\n",
       "      <th>Product</th>\n",
       "      <th>TDate</th>\n",
       "      <th>Monetary</th>\n",
       "      <th>Recency</th>\n",
       "      <th>Tenure</th>\n",
       "      <th>NOW</th>\n",
       "    </tr>\n",
       "  </thead>\n",
       "  <tbody>\n",
       "    <tr>\n",
       "      <th>0</th>\n",
       "      <td>12346</td>\n",
       "      <td>2011-01-18</td>\n",
       "      <td>1</td>\n",
       "      <td>1</td>\n",
       "      <td>2011-01-18</td>\n",
       "      <td>77183.60</td>\n",
       "      <td>None</td>\n",
       "      <td>None</td>\n",
       "      <td>2011-12-15</td>\n",
       "    </tr>\n",
       "    <tr>\n",
       "      <th>1</th>\n",
       "      <td>12347</td>\n",
       "      <td>2011-12-07</td>\n",
       "      <td>7</td>\n",
       "      <td>103</td>\n",
       "      <td>2010-12-07</td>\n",
       "      <td>4310.00</td>\n",
       "      <td>None</td>\n",
       "      <td>None</td>\n",
       "      <td>2011-12-15</td>\n",
       "    </tr>\n",
       "    <tr>\n",
       "      <th>2</th>\n",
       "      <td>12348</td>\n",
       "      <td>2011-09-25</td>\n",
       "      <td>4</td>\n",
       "      <td>21</td>\n",
       "      <td>2010-12-16</td>\n",
       "      <td>1437.24</td>\n",
       "      <td>None</td>\n",
       "      <td>None</td>\n",
       "      <td>2011-12-15</td>\n",
       "    </tr>\n",
       "    <tr>\n",
       "      <th>3</th>\n",
       "      <td>12349</td>\n",
       "      <td>2011-11-21</td>\n",
       "      <td>1</td>\n",
       "      <td>72</td>\n",
       "      <td>2011-11-21</td>\n",
       "      <td>1457.55</td>\n",
       "      <td>None</td>\n",
       "      <td>None</td>\n",
       "      <td>2011-12-15</td>\n",
       "    </tr>\n",
       "    <tr>\n",
       "      <th>4</th>\n",
       "      <td>12350</td>\n",
       "      <td>2011-02-02</td>\n",
       "      <td>1</td>\n",
       "      <td>16</td>\n",
       "      <td>2011-02-02</td>\n",
       "      <td>294.40</td>\n",
       "      <td>None</td>\n",
       "      <td>None</td>\n",
       "      <td>2011-12-15</td>\n",
       "    </tr>\n",
       "  </tbody>\n",
       "</table>\n",
       "</div>"
      ],
      "text/plain": [
       "  CustomerID      RDate  Frequency  Product      TDate  Monetary Recency  \\\n",
       "0      12346 2011-01-18          1        1 2011-01-18  77183.60    None   \n",
       "1      12347 2011-12-07          7      103 2010-12-07   4310.00    None   \n",
       "2      12348 2011-09-25          4       21 2010-12-16   1437.24    None   \n",
       "3      12349 2011-11-21          1       72 2011-11-21   1457.55    None   \n",
       "4      12350 2011-02-02          1       16 2011-02-02    294.40    None   \n",
       "\n",
       "  Tenure        NOW  \n",
       "0   None 2011-12-15  \n",
       "1   None 2011-12-15  \n",
       "2   None 2011-12-15  \n",
       "3   None 2011-12-15  \n",
       "4   None 2011-12-15  "
      ]
     },
     "execution_count": 174,
     "metadata": {},
     "output_type": "execute_result"
    }
   ],
   "source": [
    "rfmseg['NOW'] = pd.to_datetime(rfmseg['NOW'])\n",
    "rfmseg['TDate'] = pd.to_datetime(rfmseg['TDate'])\n",
    "rfmseg['RDate'] = pd.to_datetime(rfmseg['RDate'])\n",
    "rfmseg.head()"
   ]
  },
  {
   "cell_type": "code",
   "execution_count": 175,
   "metadata": {},
   "outputs": [
    {
     "data": {
      "text/plain": [
       "CustomerID            object\n",
       "RDate         datetime64[ns]\n",
       "Frequency              int64\n",
       "Product                int64\n",
       "TDate         datetime64[ns]\n",
       "Monetary             float64\n",
       "Recency               object\n",
       "Tenure                object\n",
       "NOW           datetime64[ns]\n",
       "dtype: object"
      ]
     },
     "execution_count": 175,
     "metadata": {},
     "output_type": "execute_result"
    }
   ],
   "source": [
    "rfmseg.dtypes"
   ]
  },
  {
   "cell_type": "code",
   "execution_count": 176,
   "metadata": {},
   "outputs": [
    {
     "data": {
      "text/html": [
       "<div>\n",
       "<style scoped>\n",
       "    .dataframe tbody tr th:only-of-type {\n",
       "        vertical-align: middle;\n",
       "    }\n",
       "\n",
       "    .dataframe tbody tr th {\n",
       "        vertical-align: top;\n",
       "    }\n",
       "\n",
       "    .dataframe thead th {\n",
       "        text-align: right;\n",
       "    }\n",
       "</style>\n",
       "<table border=\"1\" class=\"dataframe\">\n",
       "  <thead>\n",
       "    <tr style=\"text-align: right;\">\n",
       "      <th></th>\n",
       "      <th>CustomerID</th>\n",
       "      <th>RDate</th>\n",
       "      <th>Frequency</th>\n",
       "      <th>Product</th>\n",
       "      <th>TDate</th>\n",
       "      <th>Monetary</th>\n",
       "      <th>Recency</th>\n",
       "      <th>Tenure</th>\n",
       "      <th>NOW</th>\n",
       "    </tr>\n",
       "  </thead>\n",
       "  <tbody>\n",
       "    <tr>\n",
       "      <th>0</th>\n",
       "      <td>12346</td>\n",
       "      <td>2011-01-18</td>\n",
       "      <td>1</td>\n",
       "      <td>1</td>\n",
       "      <td>2011-01-18</td>\n",
       "      <td>77183.60</td>\n",
       "      <td>331</td>\n",
       "      <td>331</td>\n",
       "      <td>2011-12-15</td>\n",
       "    </tr>\n",
       "    <tr>\n",
       "      <th>1</th>\n",
       "      <td>12347</td>\n",
       "      <td>2011-12-07</td>\n",
       "      <td>7</td>\n",
       "      <td>103</td>\n",
       "      <td>2010-12-07</td>\n",
       "      <td>4310.00</td>\n",
       "      <td>8</td>\n",
       "      <td>373</td>\n",
       "      <td>2011-12-15</td>\n",
       "    </tr>\n",
       "    <tr>\n",
       "      <th>2</th>\n",
       "      <td>12348</td>\n",
       "      <td>2011-09-25</td>\n",
       "      <td>4</td>\n",
       "      <td>21</td>\n",
       "      <td>2010-12-16</td>\n",
       "      <td>1437.24</td>\n",
       "      <td>81</td>\n",
       "      <td>364</td>\n",
       "      <td>2011-12-15</td>\n",
       "    </tr>\n",
       "    <tr>\n",
       "      <th>3</th>\n",
       "      <td>12349</td>\n",
       "      <td>2011-11-21</td>\n",
       "      <td>1</td>\n",
       "      <td>72</td>\n",
       "      <td>2011-11-21</td>\n",
       "      <td>1457.55</td>\n",
       "      <td>24</td>\n",
       "      <td>24</td>\n",
       "      <td>2011-12-15</td>\n",
       "    </tr>\n",
       "    <tr>\n",
       "      <th>4</th>\n",
       "      <td>12350</td>\n",
       "      <td>2011-02-02</td>\n",
       "      <td>1</td>\n",
       "      <td>16</td>\n",
       "      <td>2011-02-02</td>\n",
       "      <td>294.40</td>\n",
       "      <td>316</td>\n",
       "      <td>316</td>\n",
       "      <td>2011-12-15</td>\n",
       "    </tr>\n",
       "  </tbody>\n",
       "</table>\n",
       "</div>"
      ],
      "text/plain": [
       "  CustomerID      RDate  Frequency  Product      TDate  Monetary  Recency  \\\n",
       "0      12346 2011-01-18          1        1 2011-01-18  77183.60      331   \n",
       "1      12347 2011-12-07          7      103 2010-12-07   4310.00        8   \n",
       "2      12348 2011-09-25          4       21 2010-12-16   1437.24       81   \n",
       "3      12349 2011-11-21          1       72 2011-11-21   1457.55       24   \n",
       "4      12350 2011-02-02          1       16 2011-02-02    294.40      316   \n",
       "\n",
       "   Tenure        NOW  \n",
       "0     331 2011-12-15  \n",
       "1     373 2011-12-15  \n",
       "2     364 2011-12-15  \n",
       "3      24 2011-12-15  \n",
       "4     316 2011-12-15  "
      ]
     },
     "execution_count": 176,
     "metadata": {},
     "output_type": "execute_result"
    }
   ],
   "source": [
    "rfmseg['Recency'] = (rfmseg['NOW'] - rfmseg['RDate']).dt.days\n",
    "rfmseg['Tenure'] = (rfmseg['NOW'] - rfmseg['TDate']).dt.days\n",
    "rfmseg.head()"
   ]
  },
  {
   "cell_type": "code",
   "execution_count": 177,
   "metadata": {},
   "outputs": [
    {
     "name": "stdout",
     "output_type": "stream",
     "text": [
      "Opened database successfully\n",
      "new table got created successfully\n"
     ]
    }
   ],
   "source": [
    "conn = sqlite3.connect('C:\\\\DataSets\\\\RFMDB.db')\n",
    "print (\"Opened database successfully\")\n",
    "rfmseg.to_sql('rfmseg_final',conn, if_exists = 'replace')\n",
    "#rfmdm = pd.read_sql(\"select * from RFMDM\",conn)\n",
    "print (\"new table got created successfully\")\n",
    "conn.close()"
   ]
  },
  {
   "cell_type": "code",
   "execution_count": 178,
   "metadata": {
    "scrolled": true
   },
   "outputs": [
    {
     "data": {
      "text/html": [
       "<div>\n",
       "<style scoped>\n",
       "    .dataframe tbody tr th:only-of-type {\n",
       "        vertical-align: middle;\n",
       "    }\n",
       "\n",
       "    .dataframe tbody tr th {\n",
       "        vertical-align: top;\n",
       "    }\n",
       "\n",
       "    .dataframe thead th {\n",
       "        text-align: right;\n",
       "    }\n",
       "</style>\n",
       "<table border=\"1\" class=\"dataframe\">\n",
       "  <thead>\n",
       "    <tr style=\"text-align: right;\">\n",
       "      <th></th>\n",
       "      <th>Frequency</th>\n",
       "      <th>Product</th>\n",
       "      <th>Monetary</th>\n",
       "      <th>Recency</th>\n",
       "      <th>Tenure</th>\n",
       "    </tr>\n",
       "  </thead>\n",
       "  <tbody>\n",
       "    <tr>\n",
       "      <th>count</th>\n",
       "      <td>4335.000000</td>\n",
       "      <td>4335.000000</td>\n",
       "      <td>4335.000000</td>\n",
       "      <td>4335.000000</td>\n",
       "      <td>4335.000000</td>\n",
       "    </tr>\n",
       "    <tr>\n",
       "      <th>mean</th>\n",
       "      <td>4.245675</td>\n",
       "      <td>61.413149</td>\n",
       "      <td>2021.007301</td>\n",
       "      <td>98.208535</td>\n",
       "      <td>228.785928</td>\n",
       "    </tr>\n",
       "    <tr>\n",
       "      <th>std</th>\n",
       "      <td>7.636337</td>\n",
       "      <td>85.304170</td>\n",
       "      <td>8906.526607</td>\n",
       "      <td>100.170816</td>\n",
       "      <td>117.867218</td>\n",
       "    </tr>\n",
       "    <tr>\n",
       "      <th>min</th>\n",
       "      <td>1.000000</td>\n",
       "      <td>1.000000</td>\n",
       "      <td>0.000000</td>\n",
       "      <td>6.000000</td>\n",
       "      <td>6.000000</td>\n",
       "    </tr>\n",
       "    <tr>\n",
       "      <th>25%</th>\n",
       "      <td>1.000000</td>\n",
       "      <td>16.000000</td>\n",
       "      <td>305.410000</td>\n",
       "      <td>23.000000</td>\n",
       "      <td>118.000000</td>\n",
       "    </tr>\n",
       "    <tr>\n",
       "      <th>50%</th>\n",
       "      <td>2.000000</td>\n",
       "      <td>35.000000</td>\n",
       "      <td>668.110000</td>\n",
       "      <td>56.000000</td>\n",
       "      <td>254.000000</td>\n",
       "    </tr>\n",
       "    <tr>\n",
       "      <th>75%</th>\n",
       "      <td>5.000000</td>\n",
       "      <td>77.000000</td>\n",
       "      <td>1631.475000</td>\n",
       "      <td>148.000000</td>\n",
       "      <td>332.000000</td>\n",
       "    </tr>\n",
       "    <tr>\n",
       "      <th>max</th>\n",
       "      <td>206.000000</td>\n",
       "      <td>1785.000000</td>\n",
       "      <td>279138.020000</td>\n",
       "      <td>379.000000</td>\n",
       "      <td>379.000000</td>\n",
       "    </tr>\n",
       "  </tbody>\n",
       "</table>\n",
       "</div>"
      ],
      "text/plain": [
       "         Frequency      Product       Monetary      Recency       Tenure\n",
       "count  4335.000000  4335.000000    4335.000000  4335.000000  4335.000000\n",
       "mean      4.245675    61.413149    2021.007301    98.208535   228.785928\n",
       "std       7.636337    85.304170    8906.526607   100.170816   117.867218\n",
       "min       1.000000     1.000000       0.000000     6.000000     6.000000\n",
       "25%       1.000000    16.000000     305.410000    23.000000   118.000000\n",
       "50%       2.000000    35.000000     668.110000    56.000000   254.000000\n",
       "75%       5.000000    77.000000    1631.475000   148.000000   332.000000\n",
       "max     206.000000  1785.000000  279138.020000   379.000000   379.000000"
      ]
     },
     "execution_count": 178,
     "metadata": {},
     "output_type": "execute_result"
    }
   ],
   "source": [
    "rfmseg.describe()"
   ]
  },
  {
   "cell_type": "code",
   "execution_count": 179,
   "metadata": {},
   "outputs": [
    {
     "data": {
      "text/plain": [
       "(4335, 9)"
      ]
     },
     "execution_count": 179,
     "metadata": {},
     "output_type": "execute_result"
    }
   ],
   "source": [
    "rfmseg.shape"
   ]
  },
  {
   "cell_type": "code",
   "execution_count": 181,
   "metadata": {},
   "outputs": [
    {
     "data": {
      "image/png": "[encoded data removed]",
      "text/plain": [
       "<matplotlib.figure.Figure at 0x1f721e80>"
      ]
     },
     "metadata": {},
     "output_type": "display_data"
    }
   ],
   "source": [
    "import matplotlib.pyplot as plt\n",
    "rfmseg.hist(figsize = (10,20))\n",
    "plt.show()"
   ]
  },
  {
   "cell_type": "code",
   "execution_count": null,
   "metadata": {},
   "outputs": [],
   "source": []
  },
  {
   "cell_type": "code",
   "execution_count": 141,
   "metadata": {},
   "outputs": [
    {
     "data": {
      "image/png": "[encoded data removed]",
      "text/plain": [
       "<matplotlib.figure.Figure at 0x2fb0e9b0>"
      ]
     },
     "metadata": {},
     "output_type": "display_data"
    }
   ],
   "source": [
    "plt.boxplot(rfmseg[\"Frequency\"])\n",
    "plt.show()"
   ]
  },
  {
   "cell_type": "code",
   "execution_count": 142,
   "metadata": {},
   "outputs": [
    {
     "data": {
      "image/png": "[encoded data removed]",
      "text/plain": [
       "<matplotlib.figure.Figure at 0x3080f518>"
      ]
     },
     "metadata": {},
     "output_type": "display_data"
    }
   ],
   "source": [
    "plt.boxplot(rfmseg[\"Monetary\"])\n",
    "plt.show()"
   ]
  },
  {
   "cell_type": "code",
   "execution_count": 143,
   "metadata": {},
   "outputs": [
    {
     "data": {
      "image/png": "[encoded data removed]",
      "text/plain": [
       "<matplotlib.figure.Figure at 0x2fb99a58>"
      ]
     },
     "metadata": {},
     "output_type": "display_data"
    }
   ],
   "source": [
    "plt.boxplot(rfmseg[\"Product\"])\n",
    "plt.show()"
   ]
  },
  {
   "cell_type": "code",
   "execution_count": 144,
   "metadata": {},
   "outputs": [
    {
     "data": {
      "image/png": "[encoded data removed]",
      "text/plain": [
       "<matplotlib.figure.Figure at 0x281cfe48>"
      ]
     },
     "metadata": {},
     "output_type": "display_data"
    }
   ],
   "source": [
    "plt.boxplot(rfmseg[\"Recency\"])\n",
    "plt.show()"
   ]
  },
  {
   "cell_type": "code",
   "execution_count": 145,
   "metadata": {},
   "outputs": [
    {
     "data": {
      "image/png": "[encoded data removed]",
      "text/plain": [
       "<matplotlib.figure.Figure at 0x26b13e48>"
      ]
     },
     "metadata": {},
     "output_type": "display_data"
    }
   ],
   "source": [
    "plt.boxplot(rfmseg[\"Tenure\"])\n",
    "plt.show()"
   ]
  },
  {
   "cell_type": "code",
   "execution_count": 147,
   "metadata": {},
   "outputs": [],
   "source": [
    "import seaborn as sns\n",
    "#sns.pairplot(rfmseg, hue = None, size=3)\n",
    "#plt.show()"
   ]
  },
  {
   "cell_type": "code",
   "execution_count": null,
   "metadata": {},
   "outputs": [],
   "source": []
  }
 ],
 "metadata": {
  "kernelspec": {
   "display_name": "Python 3",
   "language": "python",
   "name": "python3"
  },
  "language_info": {
   "codemirror_mode": {
    "name": "ipython",
    "version": 3
   },
   "file_extension": ".py",
   "mimetype": "text/x-python",
   "name": "python",
   "nbconvert_exporter": "python",
   "pygments_lexer": "ipython3",
   "version": "3.6.2"
  }
 },
 "nbformat": 4,
 "nbformat_minor": 2
}
