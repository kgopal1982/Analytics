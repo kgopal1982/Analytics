{
 "cells": [
  {
   "cell_type": "markdown",
   "metadata": {},
   "source": [
    "\n"
   ]
  },
  {
   "cell_type": "markdown",
   "metadata": {},
   "source": [
    "# RFM Analysis on Online Retail Data Set - With Monthly Aggregate View"
   ]
  },
  {
   "cell_type": "code",
   "execution_count": 1,
   "metadata": {},
   "outputs": [],
   "source": [
    "import sqlite3\n",
    "import datetime as dt\n",
    "import seaborn as sns\n",
    "import matplotlib.pyplot as plt\n",
    "import pandas as pd\n",
    "#print multiple statement in the same line\n",
    "from IPython.core.interactiveshell import InteractiveShell\n",
    "InteractiveShell.ast_node_interactivity = \"all\""
   ]
  },
  {
   "cell_type": "code",
   "execution_count": 2,
   "metadata": {},
   "outputs": [
    {
     "data": {
      "text/html": [
       "<div>\n",
       "<style scoped>\n",
       "    .dataframe tbody tr th:only-of-type {\n",
       "        vertical-align: middle;\n",
       "    }\n",
       "\n",
       "    .dataframe tbody tr th {\n",
       "        vertical-align: top;\n",
       "    }\n",
       "\n",
       "    .dataframe thead th {\n",
       "        text-align: right;\n",
       "    }\n",
       "</style>\n",
       "<table border=\"1\" class=\"dataframe\">\n",
       "  <thead>\n",
       "    <tr style=\"text-align: right;\">\n",
       "      <th></th>\n",
       "      <th>InvoiceNo</th>\n",
       "      <th>StockCode</th>\n",
       "      <th>Quantity</th>\n",
       "      <th>DoP</th>\n",
       "      <th>UnitPrice</th>\n",
       "      <th>CustomerID</th>\n",
       "      <th>Country</th>\n",
       "    </tr>\n",
       "  </thead>\n",
       "  <tbody>\n",
       "    <tr>\n",
       "      <th>0</th>\n",
       "      <td>536365</td>\n",
       "      <td>85123A</td>\n",
       "      <td>6</td>\n",
       "      <td>12/1/2010</td>\n",
       "      <td>2.55</td>\n",
       "      <td>17850</td>\n",
       "      <td>United Kingdom</td>\n",
       "    </tr>\n",
       "    <tr>\n",
       "      <th>1</th>\n",
       "      <td>536365</td>\n",
       "      <td>71053</td>\n",
       "      <td>6</td>\n",
       "      <td>12/1/2010</td>\n",
       "      <td>3.39</td>\n",
       "      <td>17850</td>\n",
       "      <td>United Kingdom</td>\n",
       "    </tr>\n",
       "    <tr>\n",
       "      <th>2</th>\n",
       "      <td>536365</td>\n",
       "      <td>84406B</td>\n",
       "      <td>8</td>\n",
       "      <td>12/1/2010</td>\n",
       "      <td>2.75</td>\n",
       "      <td>17850</td>\n",
       "      <td>United Kingdom</td>\n",
       "    </tr>\n",
       "    <tr>\n",
       "      <th>3</th>\n",
       "      <td>536365</td>\n",
       "      <td>84029G</td>\n",
       "      <td>6</td>\n",
       "      <td>12/1/2010</td>\n",
       "      <td>3.39</td>\n",
       "      <td>17850</td>\n",
       "      <td>United Kingdom</td>\n",
       "    </tr>\n",
       "    <tr>\n",
       "      <th>4</th>\n",
       "      <td>536365</td>\n",
       "      <td>84029E</td>\n",
       "      <td>6</td>\n",
       "      <td>12/1/2010</td>\n",
       "      <td>3.39</td>\n",
       "      <td>17850</td>\n",
       "      <td>United Kingdom</td>\n",
       "    </tr>\n",
       "  </tbody>\n",
       "</table>\n",
       "</div>"
      ],
      "text/plain": [
       "  InvoiceNo StockCode  Quantity        DoP  UnitPrice  CustomerID  \\\n",
       "0    536365    85123A         6  12/1/2010       2.55       17850   \n",
       "1    536365     71053         6  12/1/2010       3.39       17850   \n",
       "2    536365    84406B         8  12/1/2010       2.75       17850   \n",
       "3    536365    84029G         6  12/1/2010       3.39       17850   \n",
       "4    536365    84029E         6  12/1/2010       3.39       17850   \n",
       "\n",
       "          Country  \n",
       "0  United Kingdom  \n",
       "1  United Kingdom  \n",
       "2  United Kingdom  \n",
       "3  United Kingdom  \n",
       "4  United Kingdom  "
      ]
     },
     "execution_count": 2,
     "metadata": {},
     "output_type": "execute_result"
    }
   ],
   "source": [
    "#load the csv into dataframe\n",
    "orig_retail_df = pd.read_csv(\"C:\\\\DataSets\\\\OnlineRetail2Sample.csv\")\n",
    "orig_retail_df.head()"
   ]
  },
  {
   "cell_type": "code",
   "execution_count": 3,
   "metadata": {},
   "outputs": [
    {
     "data": {
      "text/plain": [
       "InvoiceNo     False\n",
       "StockCode     False\n",
       "Quantity      False\n",
       "DoP           False\n",
       "UnitPrice     False\n",
       "CustomerID    False\n",
       "Country       False\n",
       "dtype: bool"
      ]
     },
     "execution_count": 3,
     "metadata": {},
     "output_type": "execute_result"
    },
    {
     "data": {
      "text/plain": [
       "InvoiceNo     0\n",
       "StockCode     0\n",
       "Quantity      0\n",
       "DoP           0\n",
       "UnitPrice     0\n",
       "CustomerID    0\n",
       "Country       0\n",
       "dtype: int64"
      ]
     },
     "execution_count": 3,
     "metadata": {},
     "output_type": "execute_result"
    }
   ],
   "source": [
    "#check for missing values\n",
    "pd.isnull(orig_retail_df).any()\n",
    "pd.isnull(orig_retail_df).sum()"
   ]
  },
  {
   "cell_type": "code",
   "execution_count": 4,
   "metadata": {},
   "outputs": [
    {
     "name": "stdout",
     "output_type": "stream",
     "text": [
      "Opened database successfully\n"
     ]
    },
    {
     "data": {
      "text/plain": [
       "<sqlite3.Cursor at 0x1384d490>"
      ]
     },
     "execution_count": 4,
     "metadata": {},
     "output_type": "execute_result"
    },
    {
     "name": "stdout",
     "output_type": "stream",
     "text": [
      "new table got created successfully\n"
     ]
    }
   ],
   "source": [
    "#create the table RFMDM_TEMP\n",
    "conn = sqlite3.connect('C:\\\\DataSets\\\\RFMDB.db')\n",
    "print (\"Opened database successfully\")\n",
    "cursor = conn.cursor()\n",
    "cursor.execute('''DROP TABLE IF EXISTS RFMDM_TEMP''')\n",
    "conn.commit()\n",
    "orig_retail_df.to_sql('RFMDM_TEMP',conn,if_exists = 'replace')\n",
    "#rfmdm = pd.read_sql(\"select * from RFMDM\",conn)\n",
    "print (\"new table got created successfully\")\n",
    "conn.close()"
   ]
  },
  {
   "cell_type": "code",
   "execution_count": 4,
   "metadata": {},
   "outputs": [
    {
     "name": "stdout",
     "output_type": "stream",
     "text": [
      "Opened database successfully\n",
      "[(404909,)]\n"
     ]
    }
   ],
   "source": [
    "#check record exists in table\n",
    "conn = sqlite3.connect('C:\\\\DataSets\\\\RFMDB.db')\n",
    "print (\"Opened database successfully\")\n",
    "cur = conn.execute(\"select count(*) from RFMDM_TEMP\")\n",
    "data = cur.fetchall()\n",
    "conn.close()\n",
    "print(data)"
   ]
  },
  {
   "cell_type": "code",
   "execution_count": 6,
   "metadata": {},
   "outputs": [
    {
     "name": "stdout",
     "output_type": "stream",
     "text": [
      "Opened database successfully\n",
      "[(1920,)]\n"
     ]
    }
   ],
   "source": [
    "#clean the data\n",
    "#select count(*) from RFMDM_TEMP where StockCode in ('POST', 'D', 'BANK CHARGES', 'C2', 'CRUK', 'DOT', 'M', 'PADS')\n",
    "\n",
    "#--1920\n",
    "\n",
    "#delete from rfmdm_temp where StockCode in ('POST', 'D', 'BANK CHARGES', 'C2', 'CRUK', 'DOT', 'M', 'PADS')\n",
    "\n",
    "conn = sqlite3.connect('C:\\\\DataSets\\\\RFMDB.db')\n",
    "print (\"Opened database successfully\")\n",
    "cur = conn.execute(\"select count(*) from RFMDM_TEMP where StockCode in ('POST', 'D', 'BANK CHARGES', 'C2', 'CRUK', 'DOT', 'M', 'PADS')\")\n",
    "data = cur.fetchall()\n",
    "conn.close()\n",
    "print(data)"
   ]
  },
  {
   "cell_type": "code",
   "execution_count": 7,
   "metadata": {},
   "outputs": [
    {
     "name": "stdout",
     "output_type": "stream",
     "text": [
      "Opened database successfully\n"
     ]
    },
    {
     "data": {
      "text/plain": [
       "<sqlite3.Cursor at 0x13ebd810>"
      ]
     },
     "execution_count": 7,
     "metadata": {},
     "output_type": "execute_result"
    },
    {
     "name": "stdout",
     "output_type": "stream",
     "text": [
      "records got deleted successfully\n"
     ]
    }
   ],
   "source": [
    "conn = sqlite3.connect('C:\\\\DataSets\\\\RFMDB.db')\n",
    "print (\"Opened database successfully\")\n",
    "conn.execute(\"delete from RFMDM_TEMP where StockCode in ('POST', 'D', 'BANK CHARGES', 'C2', 'CRUK', 'DOT', 'M', 'PADS')\")\n",
    "conn.commit()\n",
    "conn.close()\n",
    "print(\"records got deleted successfully\")"
   ]
  },
  {
   "cell_type": "code",
   "execution_count": 4,
   "metadata": {},
   "outputs": [
    {
     "name": "stdout",
     "output_type": "stream",
     "text": [
      "Opened database successfully\n",
      "records added to dataframe successfully\n"
     ]
    }
   ],
   "source": [
    "#create the dataframe\n",
    "conn = sqlite3.connect('C:\\\\DataSets\\\\RFMDB.db')\n",
    "print (\"Opened database successfully\")\n",
    "rfmdm = pd.read_sql(\"select * from RFMDM_TEMP\",conn)\n",
    "print (\"records added to dataframe successfully\")\n",
    "conn.close()"
   ]
  },
  {
   "cell_type": "code",
   "execution_count": 5,
   "metadata": {},
   "outputs": [
    {
     "data": {
      "text/plain": [
       "index           int64\n",
       "InvoiceNo      object\n",
       "StockCode      object\n",
       "Quantity        int64\n",
       "DoP            object\n",
       "UnitPrice     float64\n",
       "CustomerID      int64\n",
       "Country        object\n",
       "dtype: object"
      ]
     },
     "execution_count": 5,
     "metadata": {},
     "output_type": "execute_result"
    }
   ],
   "source": [
    "rfmdm.dtypes"
   ]
  },
  {
   "cell_type": "code",
   "execution_count": 6,
   "metadata": {},
   "outputs": [
    {
     "name": "stdout",
     "output_type": "stream",
     "text": [
      "Converted successfully\n"
     ]
    }
   ],
   "source": [
    "#convert DoP to dattime object\n",
    "rfmdm['DoP'] = pd.to_datetime(rfmdm['DoP'])\n",
    "print(\"Converted successfully\")"
   ]
  },
  {
   "cell_type": "code",
   "execution_count": 7,
   "metadata": {},
   "outputs": [
    {
     "data": {
      "text/plain": [
       "index                  int64\n",
       "InvoiceNo             object\n",
       "StockCode             object\n",
       "Quantity               int64\n",
       "DoP           datetime64[ns]\n",
       "UnitPrice            float64\n",
       "CustomerID             int64\n",
       "Country               object\n",
       "dtype: object"
      ]
     },
     "execution_count": 7,
     "metadata": {},
     "output_type": "execute_result"
    }
   ],
   "source": [
    "#check data type\n",
    "rfmdm.dtypes"
   ]
  },
  {
   "cell_type": "code",
   "execution_count": 8,
   "metadata": {},
   "outputs": [
    {
     "data": {
      "text/html": [
       "<div>\n",
       "<style scoped>\n",
       "    .dataframe tbody tr th:only-of-type {\n",
       "        vertical-align: middle;\n",
       "    }\n",
       "\n",
       "    .dataframe tbody tr th {\n",
       "        vertical-align: top;\n",
       "    }\n",
       "\n",
       "    .dataframe thead th {\n",
       "        text-align: right;\n",
       "    }\n",
       "</style>\n",
       "<table border=\"1\" class=\"dataframe\">\n",
       "  <thead>\n",
       "    <tr style=\"text-align: right;\">\n",
       "      <th></th>\n",
       "      <th>index</th>\n",
       "      <th>InvoiceNo</th>\n",
       "      <th>StockCode</th>\n",
       "      <th>Quantity</th>\n",
       "      <th>DoP</th>\n",
       "      <th>UnitPrice</th>\n",
       "      <th>CustomerID</th>\n",
       "      <th>Country</th>\n",
       "      <th>Year</th>\n",
       "      <th>Month</th>\n",
       "      <th>TM_Id</th>\n",
       "      <th>Revenue</th>\n",
       "    </tr>\n",
       "  </thead>\n",
       "  <tbody>\n",
       "    <tr>\n",
       "      <th>404904</th>\n",
       "      <td>406824</td>\n",
       "      <td>581587</td>\n",
       "      <td>22613</td>\n",
       "      <td>12</td>\n",
       "      <td>2011-12-09</td>\n",
       "      <td>0.85</td>\n",
       "      <td>12680</td>\n",
       "      <td>France</td>\n",
       "      <td>2011</td>\n",
       "      <td>12</td>\n",
       "      <td>2011_12</td>\n",
       "      <td>10.20</td>\n",
       "    </tr>\n",
       "    <tr>\n",
       "      <th>404905</th>\n",
       "      <td>406825</td>\n",
       "      <td>581587</td>\n",
       "      <td>22899</td>\n",
       "      <td>6</td>\n",
       "      <td>2011-12-09</td>\n",
       "      <td>2.10</td>\n",
       "      <td>12680</td>\n",
       "      <td>France</td>\n",
       "      <td>2011</td>\n",
       "      <td>12</td>\n",
       "      <td>2011_12</td>\n",
       "      <td>12.60</td>\n",
       "    </tr>\n",
       "    <tr>\n",
       "      <th>404906</th>\n",
       "      <td>406826</td>\n",
       "      <td>581587</td>\n",
       "      <td>23254</td>\n",
       "      <td>4</td>\n",
       "      <td>2011-12-09</td>\n",
       "      <td>4.15</td>\n",
       "      <td>12680</td>\n",
       "      <td>France</td>\n",
       "      <td>2011</td>\n",
       "      <td>12</td>\n",
       "      <td>2011_12</td>\n",
       "      <td>16.60</td>\n",
       "    </tr>\n",
       "    <tr>\n",
       "      <th>404907</th>\n",
       "      <td>406827</td>\n",
       "      <td>581587</td>\n",
       "      <td>23255</td>\n",
       "      <td>4</td>\n",
       "      <td>2011-12-09</td>\n",
       "      <td>4.15</td>\n",
       "      <td>12680</td>\n",
       "      <td>France</td>\n",
       "      <td>2011</td>\n",
       "      <td>12</td>\n",
       "      <td>2011_12</td>\n",
       "      <td>16.60</td>\n",
       "    </tr>\n",
       "    <tr>\n",
       "      <th>404908</th>\n",
       "      <td>406828</td>\n",
       "      <td>581587</td>\n",
       "      <td>22138</td>\n",
       "      <td>3</td>\n",
       "      <td>2011-12-09</td>\n",
       "      <td>4.95</td>\n",
       "      <td>12680</td>\n",
       "      <td>France</td>\n",
       "      <td>2011</td>\n",
       "      <td>12</td>\n",
       "      <td>2011_12</td>\n",
       "      <td>14.85</td>\n",
       "    </tr>\n",
       "  </tbody>\n",
       "</table>\n",
       "</div>"
      ],
      "text/plain": [
       "         index InvoiceNo StockCode  Quantity        DoP  UnitPrice  \\\n",
       "404904  406824    581587     22613        12 2011-12-09       0.85   \n",
       "404905  406825    581587     22899         6 2011-12-09       2.10   \n",
       "404906  406826    581587     23254         4 2011-12-09       4.15   \n",
       "404907  406827    581587     23255         4 2011-12-09       4.15   \n",
       "404908  406828    581587     22138         3 2011-12-09       4.95   \n",
       "\n",
       "        CustomerID Country  Year  Month    TM_Id  Revenue  \n",
       "404904       12680  France  2011     12  2011_12    10.20  \n",
       "404905       12680  France  2011     12  2011_12    12.60  \n",
       "404906       12680  France  2011     12  2011_12    16.60  \n",
       "404907       12680  France  2011     12  2011_12    16.60  \n",
       "404908       12680  France  2011     12  2011_12    14.85  "
      ]
     },
     "execution_count": 8,
     "metadata": {},
     "output_type": "execute_result"
    }
   ],
   "source": [
    "rfmdm['Year'] = rfmdm['DoP'].dt.year\n",
    "rfmdm['Month'] = rfmdm['DoP'].dt.month\n",
    "rfmdm['TM_Id'] = rfmdm['Year'].astype(str) + '_' + rfmdm['Month'].astype(str)\n",
    "rfmdm['Revenue'] = rfmdm['Quantity'] * rfmdm['UnitPrice']\n",
    "rfmdm.tail()"
   ]
  },
  {
   "cell_type": "code",
   "execution_count": 13,
   "metadata": {},
   "outputs": [
    {
     "name": "stdout",
     "output_type": "stream",
     "text": [
      "Opened database successfully\n"
     ]
    },
    {
     "data": {
      "text/plain": [
       "<sqlite3.Cursor at 0x1d1d4b20>"
      ]
     },
     "execution_count": 13,
     "metadata": {},
     "output_type": "execute_result"
    },
    {
     "name": "stdout",
     "output_type": "stream",
     "text": [
      "new table got created successfully\n"
     ]
    }
   ],
   "source": [
    "conn = sqlite3.connect('C:\\\\DataSets\\\\RFMDB.db')\n",
    "print (\"Opened database successfully\")\n",
    "cursor = conn.cursor()\n",
    "cursor.execute('''DROP TABLE IF EXISTS RFMDM''')\n",
    "conn.commit()\n",
    "rfmdm.to_sql('RFMDM',conn,if_exists = 'replace')\n",
    "#rfmdm = pd.read_sql(\"select * from RFMDM\",conn)\n",
    "print (\"new table got created successfully\")\n",
    "conn.close()"
   ]
  },
  {
   "cell_type": "code",
   "execution_count": 9,
   "metadata": {},
   "outputs": [
    {
     "name": "stdout",
     "output_type": "stream",
     "text": [
      "Opened database successfully\n",
      "[(404909,)]\n"
     ]
    }
   ],
   "source": [
    "#check record exists in table\n",
    "conn = sqlite3.connect('C:\\\\DataSets\\\\RFMDB.db')\n",
    "print (\"Opened database successfully\")\n",
    "cur = conn.execute(\"select count(*) from RFMDM\")\n",
    "data = cur.fetchall()\n",
    "conn.close()\n",
    "print(data)"
   ]
  },
  {
   "cell_type": "code",
   "execution_count": 9,
   "metadata": {},
   "outputs": [
    {
     "data": {
      "text/html": [
       "<div>\n",
       "<style scoped>\n",
       "    .dataframe tbody tr th:only-of-type {\n",
       "        vertical-align: middle;\n",
       "    }\n",
       "\n",
       "    .dataframe tbody tr th {\n",
       "        vertical-align: top;\n",
       "    }\n",
       "\n",
       "    .dataframe thead th {\n",
       "        text-align: right;\n",
       "    }\n",
       "</style>\n",
       "<table border=\"1\" class=\"dataframe\">\n",
       "  <thead>\n",
       "    <tr style=\"text-align: right;\">\n",
       "      <th></th>\n",
       "      <th>index</th>\n",
       "      <th>Quantity</th>\n",
       "      <th>UnitPrice</th>\n",
       "      <th>CustomerID</th>\n",
       "      <th>Year</th>\n",
       "      <th>Month</th>\n",
       "      <th>Revenue</th>\n",
       "    </tr>\n",
       "  </thead>\n",
       "  <tbody>\n",
       "    <tr>\n",
       "      <th>count</th>\n",
       "      <td>404909.000000</td>\n",
       "      <td>404909.000000</td>\n",
       "      <td>404909.000000</td>\n",
       "      <td>404909.000000</td>\n",
       "      <td>404909.000000</td>\n",
       "      <td>404909.000000</td>\n",
       "      <td>404909.000000</td>\n",
       "    </tr>\n",
       "    <tr>\n",
       "      <th>mean</th>\n",
       "      <td>203436.614595</td>\n",
       "      <td>12.105799</td>\n",
       "      <td>2.901129</td>\n",
       "      <td>15295.168304</td>\n",
       "      <td>2010.933975</td>\n",
       "      <td>7.606902</td>\n",
       "      <td>20.465496</td>\n",
       "    </tr>\n",
       "    <tr>\n",
       "      <th>std</th>\n",
       "      <td>117452.806121</td>\n",
       "      <td>249.237543</td>\n",
       "      <td>4.430846</td>\n",
       "      <td>1710.424057</td>\n",
       "      <td>0.248326</td>\n",
       "      <td>3.418977</td>\n",
       "      <td>422.775982</td>\n",
       "    </tr>\n",
       "    <tr>\n",
       "      <th>min</th>\n",
       "      <td>0.000000</td>\n",
       "      <td>-80995.000000</td>\n",
       "      <td>0.000000</td>\n",
       "      <td>12346.000000</td>\n",
       "      <td>2010.000000</td>\n",
       "      <td>1.000000</td>\n",
       "      <td>-168469.600000</td>\n",
       "    </tr>\n",
       "    <tr>\n",
       "      <th>25%</th>\n",
       "      <td>101725.000000</td>\n",
       "      <td>2.000000</td>\n",
       "      <td>1.250000</td>\n",
       "      <td>13969.000000</td>\n",
       "      <td>2011.000000</td>\n",
       "      <td>5.000000</td>\n",
       "      <td>4.200000</td>\n",
       "    </tr>\n",
       "    <tr>\n",
       "      <th>50%</th>\n",
       "      <td>203452.000000</td>\n",
       "      <td>5.000000</td>\n",
       "      <td>1.950000</td>\n",
       "      <td>15159.000000</td>\n",
       "      <td>2011.000000</td>\n",
       "      <td>8.000000</td>\n",
       "      <td>10.900000</td>\n",
       "    </tr>\n",
       "    <tr>\n",
       "      <th>75%</th>\n",
       "      <td>305171.000000</td>\n",
       "      <td>12.000000</td>\n",
       "      <td>3.750000</td>\n",
       "      <td>16794.000000</td>\n",
       "      <td>2011.000000</td>\n",
       "      <td>11.000000</td>\n",
       "      <td>19.500000</td>\n",
       "    </tr>\n",
       "    <tr>\n",
       "      <th>max</th>\n",
       "      <td>406828.000000</td>\n",
       "      <td>80995.000000</td>\n",
       "      <td>649.500000</td>\n",
       "      <td>18287.000000</td>\n",
       "      <td>2011.000000</td>\n",
       "      <td>12.000000</td>\n",
       "      <td>168469.600000</td>\n",
       "    </tr>\n",
       "  </tbody>\n",
       "</table>\n",
       "</div>"
      ],
      "text/plain": [
       "               index       Quantity      UnitPrice     CustomerID  \\\n",
       "count  404909.000000  404909.000000  404909.000000  404909.000000   \n",
       "mean   203436.614595      12.105799       2.901129   15295.168304   \n",
       "std    117452.806121     249.237543       4.430846    1710.424057   \n",
       "min         0.000000  -80995.000000       0.000000   12346.000000   \n",
       "25%    101725.000000       2.000000       1.250000   13969.000000   \n",
       "50%    203452.000000       5.000000       1.950000   15159.000000   \n",
       "75%    305171.000000      12.000000       3.750000   16794.000000   \n",
       "max    406828.000000   80995.000000     649.500000   18287.000000   \n",
       "\n",
       "                Year          Month        Revenue  \n",
       "count  404909.000000  404909.000000  404909.000000  \n",
       "mean     2010.933975       7.606902      20.465496  \n",
       "std         0.248326       3.418977     422.775982  \n",
       "min      2010.000000       1.000000 -168469.600000  \n",
       "25%      2011.000000       5.000000       4.200000  \n",
       "50%      2011.000000       8.000000      10.900000  \n",
       "75%      2011.000000      11.000000      19.500000  \n",
       "max      2011.000000      12.000000  168469.600000  "
      ]
     },
     "execution_count": 9,
     "metadata": {},
     "output_type": "execute_result"
    }
   ],
   "source": [
    "rfmdm.describe()"
   ]
  },
  {
   "cell_type": "code",
   "execution_count": 42,
   "metadata": {},
   "outputs": [],
   "source": [
    "#rfmdm_DoPIndexed = rfmdm.copy()\n",
    "#rfmdm_DoPIndexed = rfmdm_DoPIndexed.set_index(\"DoP\")\n",
    "#rfmdm_DoPIndexed.head()"
   ]
  },
  {
   "cell_type": "markdown",
   "metadata": {},
   "source": [
    "### Create tables based on sales transaction data for Dec'10 and Jan'11"
   ]
  },
  {
   "cell_type": "markdown",
   "metadata": {},
   "source": [
    "#run following queries in sql\n",
    "select * from rfmdm\n",
    "\n",
    "select count(*) from rfmdm where TM_Id = '2010_12'\n",
    "--26734\n",
    "\n",
    "--create view for sales data in dec'2010\n",
    "drop view rfmdm_dec_2010\n",
    "create view rfmdm_dec_2010 as select * from rfmdm where TM_Id = '2010_12'\n",
    "\n",
    "select count(*) from rfmdm_dec_2010\n",
    "--26734\n",
    "\n",
    "\n",
    "--create view for sales data in jan'2011\n",
    "select count(*) from rfmdm where TM_Id = '2011_1'\n",
    "--21807\n",
    "\n",
    "drop view rfmdm_jan_2011\n",
    "create view rfmdm_jan_2011 as select * from rfmdm where TM_Id = '2011_1'\n",
    "\n",
    "select count(*) from rfmdm_jan_2011\n",
    "--21807\n",
    "\n"
   ]
  },
  {
   "cell_type": "markdown",
   "metadata": {},
   "source": [
    "### Create segmentation table for Dec'2010 and Jan'2011 group by Customer Id\n",
    "calculate recency, frequency and monetary for each month"
   ]
  },
  {
   "cell_type": "markdown",
   "metadata": {},
   "source": [
    "\n",
    "\n",
    "-- create segmentation table for dec'2010\n",
    "drop table if exists RFMSEG_2010_12\n",
    "\n",
    "CREATE TABLE RFMSEG_2010_12 (\n",
    "    CustomerID  CHAR (20),\n",
    "    RDate   DATE,\n",
    "    Frequency    INTEGER,\n",
    "    Product INTEGER,\n",
    "    TDate         DATE,\n",
    "    Monetary   FLOAT,\n",
    "    TM_Id CHAR(20))\n",
    "    \n",
    "INSERT INTO RFMSEG_2010_12\n",
    "       SELECT CustomerID, max(DoP), count(distinct(InvoiceNo)), count(distinct(StockCode)), min(DoP), sum(quantity*unitprice), TM_Id\n",
    "       FROM rfmdm_dec_2010\n",
    "       group by customerid\n",
    "       \n",
    "select count(*) from RFMSEG_2010_12\n",
    "--947\n",
    "\n",
    "select * from RFMSEG_2010_12\n",
    "\n",
    "\n",
    "drop view if exists RFMSEG_2010_12_View\n",
    "\n",
    "-- add recency \n",
    "--create a view for Dec'2010 customer data set (calculate Recency also)\n",
    "\n",
    "create view RFMSEG_2010_12_View AS select (julianday('2011-01-01') - julianday(RDate)) AS Recency, CUstomerId,RDate,Frequency,Product,TDate,Monetary,TM_Id from RFMSEG_2010_12\n",
    "\n",
    "select * from RFMSEG_2010_12_View order by Recency ASC\n",
    "\n",
    "--------------------------------\n",
    "\n",
    "-- create segmentation table for jan'2011\n",
    "drop table if exists RFMSEG_2011_01\n",
    "\n",
    "CREATE TABLE RFMSEG_2011_01 (\n",
    "    CustomerID  CHAR (20),\n",
    "    RDate   DATE,\n",
    "    Frequency    INTEGER,\n",
    "    Product INTEGER,\n",
    "    TDate         DATE,\n",
    "    Monetary   FLOAT,\n",
    "    TM_Id CHAR(20))\n",
    "    \n",
    "select * from rfmdm_jan_2011\n",
    "\n",
    "\n",
    "INSERT INTO RFMSEG_2011_01\n",
    "       SELECT CustomerID, max(DoP), count(distinct(InvoiceNo)), count(distinct(StockCode)), min(DoP), sum(quantity*unitprice), TM_Id\n",
    "       FROM rfmdm_jan_2011\n",
    "       group by customerid\n",
    "       \n",
    "select count(*) from RFMSEG_2011_01\n",
    "--780\n",
    "\n",
    "select * from RFMSEG_2011_01\n",
    "\n",
    "\n",
    "-- Add recency\n",
    "--create a view for Jna'2011 customer data set (calculate Recency also)\n",
    "\n",
    "drop view if exists RFMSEG_2011_01_View\n",
    "\n",
    "create view RFMSEG_2011_01_View AS select (julianday('2011-02-01') - julianday(RDate)) AS Recency, CUstomerId,RDate,Frequency,Product,TDate,Monetary,TM_Id from RFMSEG_2011_01\n",
    "\n",
    "select * from RFMSEG_2011_01_View order by Recency ASC"
   ]
  },
  {
   "cell_type": "code",
   "execution_count": null,
   "metadata": {},
   "outputs": [],
   "source": []
  },
  {
   "cell_type": "markdown",
   "metadata": {},
   "source": [
    "### create 3 separate views\n",
    "First view will contain details for non-repeating customers in Dec'2010\n",
    "Second view will contain details for repeating customers in Dec'2010 and Jan'2011\n",
    "Third view will contain details for non-repeating customers in Jan'2011"
   ]
  },
  {
   "cell_type": "markdown",
   "metadata": {},
   "source": [
    "drop view if exists dec_2010_non_repeat\n",
    "\n",
    "--non repeating customers in Dec'2010\n",
    "\n",
    "select count(*) from RFMSEG_2010_12_View A where A.CustomerId not in (select B.CustomerId from RFMSEG_2011_01_View B)\n",
    "\n",
    "--587\n",
    "\n",
    "create view dec_2010_non_repeat as select * from RFMSEG_2010_12_View A where A.CustomerId not in (select B.CustomerId from RFMSEG_2011_01_View B)\n",
    "\n",
    "-- repeating customers in Dec'2010 who are available in Jan'2011 also\n",
    "\n",
    "select count(*) from RFMSEG_2010_12_View A where A.CustomerId in (select B.CustomerId from RFMSEG_2011_01_View B)\n",
    "--360\n",
    "\n",
    "drop view if exists dec_2010_repeat\n",
    "\n",
    "create view dec_2010_repeat as select * from RFMSEG_2010_12_View A where A.CustomerId in (select B.CustomerId from RFMSEG_2011_01_View B)\n",
    "\n",
    "-- create view for new customers who are available only in Jan'2011 but not in Dec'2010\n",
    "\n",
    "\n",
    "select count(*) from RFMSEG_2011_01_View A where A.CustomerId not in (select B.CustomerId from RFMSEG_2010_12_View B)\n",
    "--420\n",
    "\n",
    "drop view if exists jan_2011_non_repeat\n",
    "\n",
    "create view jan_2011_non_repeat as select * from RFMSEG_2011_01_View A where A.CustomerId not in (select B.CustomerId from RFMSEG_2010_12_View B)"
   ]
  },
  {
   "cell_type": "markdown",
   "metadata": {},
   "source": [
    "#Create the dataframes based on the 3 views created above"
   ]
  },
  {
   "cell_type": "code",
   "execution_count": 11,
   "metadata": {},
   "outputs": [
    {
     "name": "stdout",
     "output_type": "stream",
     "text": [
      "Opened database successfully\n",
      "records added to dataframe successfully\n",
      "records added to dataframe successfully\n",
      "records added to dataframe successfully\n",
      "records added to dataframe successfully\n",
      "records added to dataframe successfully\n"
     ]
    }
   ],
   "source": [
    "#create the dataframes\n",
    "conn = sqlite3.connect('C:\\\\DataSets\\\\RFMDB.db')\n",
    "print (\"Opened database successfully\")\n",
    "\n",
    "jan_2011_all = pd.read_sql(\"select * from RFMSEG_2011_01_View\",conn)\n",
    "print (\"records added to dataframe successfully\")\n",
    "dec_2010_all = pd.read_sql(\"select * from RFMSEG_2010_12_View\",conn)\n",
    "print (\"records added to dataframe successfully\")\n",
    "\n",
    "dec_2010_non_repeat = pd.read_sql(\"select * from dec_2010_non_repeat\",conn)\n",
    "print (\"records added to dataframe successfully\")\n",
    "dec_2010_repeat = pd.read_sql(\"select * from dec_2010_repeat\",conn)\n",
    "print (\"records added to dataframe successfully\")\n",
    "jan_2011_non_repeat = pd.read_sql(\"select * from jan_2011_non_repeat\",conn)\n",
    "print (\"records added to dataframe successfully\")\n",
    "conn.close()"
   ]
  },
  {
   "cell_type": "markdown",
   "metadata": {},
   "source": [
    "### Calculate Recency for 2 months data (Dec'2010 and Jan'2011)"
   ]
  },
  {
   "cell_type": "code",
   "execution_count": 12,
   "metadata": {},
   "outputs": [],
   "source": [
    "#create copy of dec dataframe\n",
    "dec_2010_non_repeat_1 = dec_2010_non_repeat.copy(deep = True)"
   ]
  },
  {
   "cell_type": "code",
   "execution_count": 13,
   "metadata": {},
   "outputs": [
    {
     "name": "stdout",
     "output_type": "stream",
     "text": [
      "before update\n"
     ]
    },
    {
     "data": {
      "text/html": [
       "<div>\n",
       "<style scoped>\n",
       "    .dataframe tbody tr th:only-of-type {\n",
       "        vertical-align: middle;\n",
       "    }\n",
       "\n",
       "    .dataframe tbody tr th {\n",
       "        vertical-align: top;\n",
       "    }\n",
       "\n",
       "    .dataframe thead th {\n",
       "        text-align: right;\n",
       "    }\n",
       "</style>\n",
       "<table border=\"1\" class=\"dataframe\">\n",
       "  <thead>\n",
       "    <tr style=\"text-align: right;\">\n",
       "      <th></th>\n",
       "      <th>Recency</th>\n",
       "      <th>CustomerID</th>\n",
       "      <th>RDate</th>\n",
       "      <th>Frequency</th>\n",
       "      <th>Product</th>\n",
       "      <th>TDate</th>\n",
       "      <th>Monetary</th>\n",
       "      <th>TM_Id</th>\n",
       "    </tr>\n",
       "  </thead>\n",
       "  <tbody>\n",
       "    <tr>\n",
       "      <th>0</th>\n",
       "      <td>15.0</td>\n",
       "      <td>12370</td>\n",
       "      <td>2010-12-17 00:00:00</td>\n",
       "      <td>2</td>\n",
       "      <td>89</td>\n",
       "      <td>2010-12-14 00:00:00</td>\n",
       "      <td>1748.02</td>\n",
       "      <td>2010_12</td>\n",
       "    </tr>\n",
       "    <tr>\n",
       "      <th>1</th>\n",
       "      <td>11.0</td>\n",
       "      <td>12423</td>\n",
       "      <td>2010-12-21 00:00:00</td>\n",
       "      <td>1</td>\n",
       "      <td>15</td>\n",
       "      <td>2010-12-21 00:00:00</td>\n",
       "      <td>192.93</td>\n",
       "      <td>2010_12</td>\n",
       "    </tr>\n",
       "    <tr>\n",
       "      <th>2</th>\n",
       "      <td>9.0</td>\n",
       "      <td>12427</td>\n",
       "      <td>2010-12-23 00:00:00</td>\n",
       "      <td>2</td>\n",
       "      <td>9</td>\n",
       "      <td>2010-12-03 00:00:00</td>\n",
       "      <td>192.55</td>\n",
       "      <td>2010_12</td>\n",
       "    </tr>\n",
       "    <tr>\n",
       "      <th>3</th>\n",
       "      <td>23.0</td>\n",
       "      <td>12429</td>\n",
       "      <td>2010-12-09 00:00:00</td>\n",
       "      <td>1</td>\n",
       "      <td>19</td>\n",
       "      <td>2010-12-09 00:00:00</td>\n",
       "      <td>1137.50</td>\n",
       "      <td>2010_12</td>\n",
       "    </tr>\n",
       "    <tr>\n",
       "      <th>4</th>\n",
       "      <td>24.0</td>\n",
       "      <td>12433</td>\n",
       "      <td>2010-12-08 00:00:00</td>\n",
       "      <td>2</td>\n",
       "      <td>79</td>\n",
       "      <td>2010-12-01 00:00:00</td>\n",
       "      <td>3787.12</td>\n",
       "      <td>2010_12</td>\n",
       "    </tr>\n",
       "  </tbody>\n",
       "</table>\n",
       "</div>"
      ],
      "text/plain": [
       "   Recency CustomerID                RDate  Frequency  Product  \\\n",
       "0     15.0      12370  2010-12-17 00:00:00          2       89   \n",
       "1     11.0      12423  2010-12-21 00:00:00          1       15   \n",
       "2      9.0      12427  2010-12-23 00:00:00          2        9   \n",
       "3     23.0      12429  2010-12-09 00:00:00          1       19   \n",
       "4     24.0      12433  2010-12-08 00:00:00          2       79   \n",
       "\n",
       "                 TDate  Monetary    TM_Id  \n",
       "0  2010-12-14 00:00:00   1748.02  2010_12  \n",
       "1  2010-12-21 00:00:00    192.93  2010_12  \n",
       "2  2010-12-03 00:00:00    192.55  2010_12  \n",
       "3  2010-12-09 00:00:00   1137.50  2010_12  \n",
       "4  2010-12-01 00:00:00   3787.12  2010_12  "
      ]
     },
     "execution_count": 13,
     "metadata": {},
     "output_type": "execute_result"
    },
    {
     "name": "stdout",
     "output_type": "stream",
     "text": [
      "after update\n"
     ]
    },
    {
     "data": {
      "text/html": [
       "<div>\n",
       "<style scoped>\n",
       "    .dataframe tbody tr th:only-of-type {\n",
       "        vertical-align: middle;\n",
       "    }\n",
       "\n",
       "    .dataframe tbody tr th {\n",
       "        vertical-align: top;\n",
       "    }\n",
       "\n",
       "    .dataframe thead th {\n",
       "        text-align: right;\n",
       "    }\n",
       "</style>\n",
       "<table border=\"1\" class=\"dataframe\">\n",
       "  <thead>\n",
       "    <tr style=\"text-align: right;\">\n",
       "      <th></th>\n",
       "      <th>Recency</th>\n",
       "      <th>CustomerID</th>\n",
       "      <th>RDate</th>\n",
       "      <th>Frequency</th>\n",
       "      <th>Product</th>\n",
       "      <th>TDate</th>\n",
       "      <th>Monetary</th>\n",
       "      <th>TM_Id</th>\n",
       "    </tr>\n",
       "  </thead>\n",
       "  <tbody>\n",
       "    <tr>\n",
       "      <th>0</th>\n",
       "      <td>46.0</td>\n",
       "      <td>12370</td>\n",
       "      <td>2010-12-17 00:00:00</td>\n",
       "      <td>2</td>\n",
       "      <td>89</td>\n",
       "      <td>2010-12-14 00:00:00</td>\n",
       "      <td>1748.02</td>\n",
       "      <td>2010_12</td>\n",
       "    </tr>\n",
       "    <tr>\n",
       "      <th>1</th>\n",
       "      <td>42.0</td>\n",
       "      <td>12423</td>\n",
       "      <td>2010-12-21 00:00:00</td>\n",
       "      <td>1</td>\n",
       "      <td>15</td>\n",
       "      <td>2010-12-21 00:00:00</td>\n",
       "      <td>192.93</td>\n",
       "      <td>2010_12</td>\n",
       "    </tr>\n",
       "    <tr>\n",
       "      <th>2</th>\n",
       "      <td>40.0</td>\n",
       "      <td>12427</td>\n",
       "      <td>2010-12-23 00:00:00</td>\n",
       "      <td>2</td>\n",
       "      <td>9</td>\n",
       "      <td>2010-12-03 00:00:00</td>\n",
       "      <td>192.55</td>\n",
       "      <td>2010_12</td>\n",
       "    </tr>\n",
       "    <tr>\n",
       "      <th>3</th>\n",
       "      <td>54.0</td>\n",
       "      <td>12429</td>\n",
       "      <td>2010-12-09 00:00:00</td>\n",
       "      <td>1</td>\n",
       "      <td>19</td>\n",
       "      <td>2010-12-09 00:00:00</td>\n",
       "      <td>1137.50</td>\n",
       "      <td>2010_12</td>\n",
       "    </tr>\n",
       "    <tr>\n",
       "      <th>4</th>\n",
       "      <td>55.0</td>\n",
       "      <td>12433</td>\n",
       "      <td>2010-12-08 00:00:00</td>\n",
       "      <td>2</td>\n",
       "      <td>79</td>\n",
       "      <td>2010-12-01 00:00:00</td>\n",
       "      <td>3787.12</td>\n",
       "      <td>2010_12</td>\n",
       "    </tr>\n",
       "  </tbody>\n",
       "</table>\n",
       "</div>"
      ],
      "text/plain": [
       "   Recency CustomerID                RDate  Frequency  Product  \\\n",
       "0     46.0      12370  2010-12-17 00:00:00          2       89   \n",
       "1     42.0      12423  2010-12-21 00:00:00          1       15   \n",
       "2     40.0      12427  2010-12-23 00:00:00          2        9   \n",
       "3     54.0      12429  2010-12-09 00:00:00          1       19   \n",
       "4     55.0      12433  2010-12-08 00:00:00          2       79   \n",
       "\n",
       "                 TDate  Monetary    TM_Id  \n",
       "0  2010-12-14 00:00:00   1748.02  2010_12  \n",
       "1  2010-12-21 00:00:00    192.93  2010_12  \n",
       "2  2010-12-03 00:00:00    192.55  2010_12  \n",
       "3  2010-12-09 00:00:00   1137.50  2010_12  \n",
       "4  2010-12-01 00:00:00   3787.12  2010_12  "
      ]
     },
     "execution_count": 13,
     "metadata": {},
     "output_type": "execute_result"
    }
   ],
   "source": [
    "#update recency for the customers who visited in Dec'2010 but did not visit in Jan'2011\n",
    "print(\"before update\")\n",
    "dec_2010_non_repeat_1.head()\n",
    "dec_2010_non_repeat_1['Recency'] = dec_2010_non_repeat_1['Recency'] + 31\n",
    "print(\"after update\")\n",
    "dec_2010_non_repeat_1.head()"
   ]
  },
  {
   "cell_type": "code",
   "execution_count": 14,
   "metadata": {},
   "outputs": [
    {
     "data": {
      "text/html": [
       "<div>\n",
       "<style scoped>\n",
       "    .dataframe tbody tr th:only-of-type {\n",
       "        vertical-align: middle;\n",
       "    }\n",
       "\n",
       "    .dataframe tbody tr th {\n",
       "        vertical-align: top;\n",
       "    }\n",
       "\n",
       "    .dataframe thead th {\n",
       "        text-align: right;\n",
       "    }\n",
       "</style>\n",
       "<table border=\"1\" class=\"dataframe\">\n",
       "  <thead>\n",
       "    <tr style=\"text-align: right;\">\n",
       "      <th></th>\n",
       "      <th>Recency</th>\n",
       "      <th>CustomerID</th>\n",
       "      <th>RDate</th>\n",
       "      <th>Frequency</th>\n",
       "      <th>Product</th>\n",
       "      <th>TDate</th>\n",
       "      <th>Monetary</th>\n",
       "      <th>TM_Id</th>\n",
       "    </tr>\n",
       "  </thead>\n",
       "  <tbody>\n",
       "    <tr>\n",
       "      <th>0</th>\n",
       "      <td>14.0</td>\n",
       "      <td>12346</td>\n",
       "      <td>2011-01-18 00:00:00</td>\n",
       "      <td>2</td>\n",
       "      <td>1</td>\n",
       "      <td>2011-01-18 00:00:00</td>\n",
       "      <td>0.00</td>\n",
       "      <td>2011_1</td>\n",
       "    </tr>\n",
       "    <tr>\n",
       "      <th>1</th>\n",
       "      <td>6.0</td>\n",
       "      <td>12347</td>\n",
       "      <td>2011-01-26 00:00:00</td>\n",
       "      <td>1</td>\n",
       "      <td>29</td>\n",
       "      <td>2011-01-26 00:00:00</td>\n",
       "      <td>475.39</td>\n",
       "      <td>2011_1</td>\n",
       "    </tr>\n",
       "    <tr>\n",
       "      <th>2</th>\n",
       "      <td>7.0</td>\n",
       "      <td>12348</td>\n",
       "      <td>2011-01-25 00:00:00</td>\n",
       "      <td>1</td>\n",
       "      <td>5</td>\n",
       "      <td>2011-01-25 00:00:00</td>\n",
       "      <td>187.44</td>\n",
       "      <td>2011_1</td>\n",
       "    </tr>\n",
       "    <tr>\n",
       "      <th>3</th>\n",
       "      <td>14.0</td>\n",
       "      <td>12356</td>\n",
       "      <td>2011-01-18 00:00:00</td>\n",
       "      <td>1</td>\n",
       "      <td>35</td>\n",
       "      <td>2011-01-18 00:00:00</td>\n",
       "      <td>1947.62</td>\n",
       "      <td>2011_1</td>\n",
       "    </tr>\n",
       "    <tr>\n",
       "      <th>4</th>\n",
       "      <td>20.0</td>\n",
       "      <td>12359</td>\n",
       "      <td>2011-01-12 00:00:00</td>\n",
       "      <td>1</td>\n",
       "      <td>16</td>\n",
       "      <td>2011-01-12 00:00:00</td>\n",
       "      <td>547.50</td>\n",
       "      <td>2011_1</td>\n",
       "    </tr>\n",
       "  </tbody>\n",
       "</table>\n",
       "</div>"
      ],
      "text/plain": [
       "   Recency CustomerID                RDate  Frequency  Product  \\\n",
       "0     14.0      12346  2011-01-18 00:00:00          2        1   \n",
       "1      6.0      12347  2011-01-26 00:00:00          1       29   \n",
       "2      7.0      12348  2011-01-25 00:00:00          1        5   \n",
       "3     14.0      12356  2011-01-18 00:00:00          1       35   \n",
       "4     20.0      12359  2011-01-12 00:00:00          1       16   \n",
       "\n",
       "                 TDate  Monetary   TM_Id  \n",
       "0  2011-01-18 00:00:00      0.00  2011_1  \n",
       "1  2011-01-26 00:00:00    475.39  2011_1  \n",
       "2  2011-01-25 00:00:00    187.44  2011_1  \n",
       "3  2011-01-18 00:00:00   1947.62  2011_1  \n",
       "4  2011-01-12 00:00:00    547.50  2011_1  "
      ]
     },
     "execution_count": 14,
     "metadata": {},
     "output_type": "execute_result"
    },
    {
     "data": {
      "text/html": [
       "<div>\n",
       "<style scoped>\n",
       "    .dataframe tbody tr th:only-of-type {\n",
       "        vertical-align: middle;\n",
       "    }\n",
       "\n",
       "    .dataframe tbody tr th {\n",
       "        vertical-align: top;\n",
       "    }\n",
       "\n",
       "    .dataframe thead th {\n",
       "        text-align: right;\n",
       "    }\n",
       "</style>\n",
       "<table border=\"1\" class=\"dataframe\">\n",
       "  <thead>\n",
       "    <tr style=\"text-align: right;\">\n",
       "      <th></th>\n",
       "      <th>Recency</th>\n",
       "      <th>Frequency</th>\n",
       "      <th>Product</th>\n",
       "      <th>Monetary</th>\n",
       "    </tr>\n",
       "  </thead>\n",
       "  <tbody>\n",
       "    <tr>\n",
       "      <th>count</th>\n",
       "      <td>1367.000000</td>\n",
       "      <td>1367.000000</td>\n",
       "      <td>1367.000000</td>\n",
       "      <td>1367.000000</td>\n",
       "    </tr>\n",
       "    <tr>\n",
       "      <th>mean</th>\n",
       "      <td>29.975128</td>\n",
       "      <td>1.542794</td>\n",
       "      <td>24.212143</td>\n",
       "      <td>528.846386</td>\n",
       "    </tr>\n",
       "    <tr>\n",
       "      <th>std</th>\n",
       "      <td>20.997510</td>\n",
       "      <td>1.405190</td>\n",
       "      <td>24.937029</td>\n",
       "      <td>1518.835961</td>\n",
       "    </tr>\n",
       "    <tr>\n",
       "      <th>min</th>\n",
       "      <td>1.000000</td>\n",
       "      <td>1.000000</td>\n",
       "      <td>1.000000</td>\n",
       "      <td>-1241.430000</td>\n",
       "    </tr>\n",
       "    <tr>\n",
       "      <th>25%</th>\n",
       "      <td>10.000000</td>\n",
       "      <td>1.000000</td>\n",
       "      <td>8.000000</td>\n",
       "      <td>160.215000</td>\n",
       "    </tr>\n",
       "    <tr>\n",
       "      <th>50%</th>\n",
       "      <td>25.000000</td>\n",
       "      <td>1.000000</td>\n",
       "      <td>17.000000</td>\n",
       "      <td>300.650000</td>\n",
       "    </tr>\n",
       "    <tr>\n",
       "      <th>75%</th>\n",
       "      <td>50.000000</td>\n",
       "      <td>2.000000</td>\n",
       "      <td>32.000000</td>\n",
       "      <td>490.985000</td>\n",
       "    </tr>\n",
       "    <tr>\n",
       "      <th>max</th>\n",
       "      <td>62.000000</td>\n",
       "      <td>34.000000</td>\n",
       "      <td>212.000000</td>\n",
       "      <td>27834.610000</td>\n",
       "    </tr>\n",
       "  </tbody>\n",
       "</table>\n",
       "</div>"
      ],
      "text/plain": [
       "           Recency    Frequency      Product      Monetary\n",
       "count  1367.000000  1367.000000  1367.000000   1367.000000\n",
       "mean     29.975128     1.542794    24.212143    528.846386\n",
       "std      20.997510     1.405190    24.937029   1518.835961\n",
       "min       1.000000     1.000000     1.000000  -1241.430000\n",
       "25%      10.000000     1.000000     8.000000    160.215000\n",
       "50%      25.000000     1.000000    17.000000    300.650000\n",
       "75%      50.000000     2.000000    32.000000    490.985000\n",
       "max      62.000000    34.000000   212.000000  27834.610000"
      ]
     },
     "execution_count": 14,
     "metadata": {},
     "output_type": "execute_result"
    }
   ],
   "source": [
    "#merge the customers - Jan2011 + Non-Repeat customers of Dec2010\n",
    "rfmseg_2010_12_2011_01_R = pd.concat([jan_2011_all,dec_2010_non_repeat_1], axis=0)\n",
    "rfmseg_2010_12_2011_01_R.head()\n",
    "rfmseg_2010_12_2011_01_R.describe()"
   ]
  },
  {
   "cell_type": "code",
   "execution_count": 15,
   "metadata": {},
   "outputs": [
    {
     "data": {
      "text/plain": [
       "(780, 8)"
      ]
     },
     "execution_count": 15,
     "metadata": {},
     "output_type": "execute_result"
    },
    {
     "data": {
      "text/plain": [
       "(587, 8)"
      ]
     },
     "execution_count": 15,
     "metadata": {},
     "output_type": "execute_result"
    },
    {
     "data": {
      "text/plain": [
       "(1367, 8)"
      ]
     },
     "execution_count": 15,
     "metadata": {},
     "output_type": "execute_result"
    }
   ],
   "source": [
    "jan_2011_all.shape\n",
    "dec_2010_non_repeat_1.shape\n",
    "rfmseg_2010_12_2011_01_R.shape"
   ]
  },
  {
   "cell_type": "code",
   "execution_count": 16,
   "metadata": {},
   "outputs": [
    {
     "name": "stdout",
     "output_type": "stream",
     "text": [
      "Opened database successfully\n"
     ]
    },
    {
     "data": {
      "text/plain": [
       "<sqlite3.Cursor at 0x1188ff80>"
      ]
     },
     "execution_count": 16,
     "metadata": {},
     "output_type": "execute_result"
    },
    {
     "name": "stdout",
     "output_type": "stream",
     "text": [
      "new table got created successfully\n"
     ]
    }
   ],
   "source": [
    "#create the table\n",
    "conn = sqlite3.connect('C:\\\\DataSets\\\\RFMDB.db')\n",
    "print (\"Opened database successfully\")\n",
    "cursor = conn.cursor()\n",
    "cursor.execute('''DROP TABLE IF EXISTS RFMSEG_2010_12_2011_01_R''')\n",
    "conn.commit()\n",
    "rfmseg_2010_12_2011_01_R.to_sql('RFMSEG_2010_12_2011_01_R',conn,if_exists = 'replace')\n",
    "print (\"new table got created successfully\")\n",
    "conn.close()"
   ]
  },
  {
   "cell_type": "code",
   "execution_count": 17,
   "metadata": {},
   "outputs": [
    {
     "data": {
      "text/html": [
       "<div>\n",
       "<style scoped>\n",
       "    .dataframe tbody tr th:only-of-type {\n",
       "        vertical-align: middle;\n",
       "    }\n",
       "\n",
       "    .dataframe tbody tr th {\n",
       "        vertical-align: top;\n",
       "    }\n",
       "\n",
       "    .dataframe thead th {\n",
       "        text-align: right;\n",
       "    }\n",
       "</style>\n",
       "<table border=\"1\" class=\"dataframe\">\n",
       "  <thead>\n",
       "    <tr style=\"text-align: right;\">\n",
       "      <th></th>\n",
       "      <th>Recency</th>\n",
       "      <th>CustomerID</th>\n",
       "      <th>RDate</th>\n",
       "      <th>Frequency</th>\n",
       "      <th>Product</th>\n",
       "      <th>TDate</th>\n",
       "      <th>Monetary</th>\n",
       "      <th>TM_Id</th>\n",
       "    </tr>\n",
       "  </thead>\n",
       "  <tbody>\n",
       "    <tr>\n",
       "      <th>0</th>\n",
       "      <td>14.0</td>\n",
       "      <td>12346</td>\n",
       "      <td>2011-01-18 00:00:00</td>\n",
       "      <td>2</td>\n",
       "      <td>1</td>\n",
       "      <td>2011-01-18 00:00:00</td>\n",
       "      <td>0.00</td>\n",
       "      <td>2011_1</td>\n",
       "    </tr>\n",
       "    <tr>\n",
       "      <th>1</th>\n",
       "      <td>6.0</td>\n",
       "      <td>12347</td>\n",
       "      <td>2011-01-26 00:00:00</td>\n",
       "      <td>1</td>\n",
       "      <td>29</td>\n",
       "      <td>2011-01-26 00:00:00</td>\n",
       "      <td>475.39</td>\n",
       "      <td>2011_1</td>\n",
       "    </tr>\n",
       "    <tr>\n",
       "      <th>2</th>\n",
       "      <td>7.0</td>\n",
       "      <td>12348</td>\n",
       "      <td>2011-01-25 00:00:00</td>\n",
       "      <td>1</td>\n",
       "      <td>5</td>\n",
       "      <td>2011-01-25 00:00:00</td>\n",
       "      <td>187.44</td>\n",
       "      <td>2011_1</td>\n",
       "    </tr>\n",
       "    <tr>\n",
       "      <th>3</th>\n",
       "      <td>14.0</td>\n",
       "      <td>12356</td>\n",
       "      <td>2011-01-18 00:00:00</td>\n",
       "      <td>1</td>\n",
       "      <td>35</td>\n",
       "      <td>2011-01-18 00:00:00</td>\n",
       "      <td>1947.62</td>\n",
       "      <td>2011_1</td>\n",
       "    </tr>\n",
       "    <tr>\n",
       "      <th>4</th>\n",
       "      <td>20.0</td>\n",
       "      <td>12359</td>\n",
       "      <td>2011-01-12 00:00:00</td>\n",
       "      <td>1</td>\n",
       "      <td>16</td>\n",
       "      <td>2011-01-12 00:00:00</td>\n",
       "      <td>547.50</td>\n",
       "      <td>2011_1</td>\n",
       "    </tr>\n",
       "  </tbody>\n",
       "</table>\n",
       "</div>"
      ],
      "text/plain": [
       "   Recency CustomerID                RDate  Frequency  Product  \\\n",
       "0     14.0      12346  2011-01-18 00:00:00          2        1   \n",
       "1      6.0      12347  2011-01-26 00:00:00          1       29   \n",
       "2      7.0      12348  2011-01-25 00:00:00          1        5   \n",
       "3     14.0      12356  2011-01-18 00:00:00          1       35   \n",
       "4     20.0      12359  2011-01-12 00:00:00          1       16   \n",
       "\n",
       "                 TDate  Monetary   TM_Id  \n",
       "0  2011-01-18 00:00:00      0.00  2011_1  \n",
       "1  2011-01-26 00:00:00    475.39  2011_1  \n",
       "2  2011-01-25 00:00:00    187.44  2011_1  \n",
       "3  2011-01-18 00:00:00   1947.62  2011_1  \n",
       "4  2011-01-12 00:00:00    547.50  2011_1  "
      ]
     },
     "execution_count": 17,
     "metadata": {},
     "output_type": "execute_result"
    }
   ],
   "source": [
    "rfmseg_2010_12_2011_01_R.head()"
   ]
  },
  {
   "cell_type": "code",
   "execution_count": 18,
   "metadata": {},
   "outputs": [],
   "source": [
    "rfmseg_2010_12_2011_01_R_1 = rfmseg_2010_12_2011_01_R.filter(['CustomerID', 'Recency'], axis = 1)"
   ]
  },
  {
   "cell_type": "code",
   "execution_count": 19,
   "metadata": {},
   "outputs": [
    {
     "data": {
      "text/html": [
       "<div>\n",
       "<style scoped>\n",
       "    .dataframe tbody tr th:only-of-type {\n",
       "        vertical-align: middle;\n",
       "    }\n",
       "\n",
       "    .dataframe tbody tr th {\n",
       "        vertical-align: top;\n",
       "    }\n",
       "\n",
       "    .dataframe thead th {\n",
       "        text-align: right;\n",
       "    }\n",
       "</style>\n",
       "<table border=\"1\" class=\"dataframe\">\n",
       "  <thead>\n",
       "    <tr style=\"text-align: right;\">\n",
       "      <th></th>\n",
       "      <th>CustomerID</th>\n",
       "      <th>Recency</th>\n",
       "    </tr>\n",
       "  </thead>\n",
       "  <tbody>\n",
       "    <tr>\n",
       "      <th>0</th>\n",
       "      <td>12346</td>\n",
       "      <td>14.0</td>\n",
       "    </tr>\n",
       "    <tr>\n",
       "      <th>1</th>\n",
       "      <td>12347</td>\n",
       "      <td>6.0</td>\n",
       "    </tr>\n",
       "    <tr>\n",
       "      <th>2</th>\n",
       "      <td>12348</td>\n",
       "      <td>7.0</td>\n",
       "    </tr>\n",
       "    <tr>\n",
       "      <th>3</th>\n",
       "      <td>12356</td>\n",
       "      <td>14.0</td>\n",
       "    </tr>\n",
       "    <tr>\n",
       "      <th>4</th>\n",
       "      <td>12359</td>\n",
       "      <td>20.0</td>\n",
       "    </tr>\n",
       "  </tbody>\n",
       "</table>\n",
       "</div>"
      ],
      "text/plain": [
       "  CustomerID  Recency\n",
       "0      12346     14.0\n",
       "1      12347      6.0\n",
       "2      12348      7.0\n",
       "3      12356     14.0\n",
       "4      12359     20.0"
      ]
     },
     "execution_count": 19,
     "metadata": {},
     "output_type": "execute_result"
    }
   ],
   "source": [
    "rfmseg_2010_12_2011_01_R_1.head()"
   ]
  },
  {
   "cell_type": "markdown",
   "metadata": {},
   "source": [
    "### calculate avg monetary and frequency for 2 months (Dec'2010 and Jan'2011)"
   ]
  },
  {
   "cell_type": "code",
   "execution_count": null,
   "metadata": {},
   "outputs": [],
   "source": [
    "#run the following queries in sql"
   ]
  },
  {
   "cell_type": "code",
   "execution_count": null,
   "metadata": {},
   "outputs": [],
   "source": [
    "select count(*) from RFMSEG_2011_01_View\n",
    "--780\n",
    "\n",
    "select count(*) from RFMSEG_2010_12_View\n",
    "--947\n",
    "\n",
    "drop view if exists RFMSEG_2010_12_2011_01_M_F\n",
    "\n",
    "create view RFMSEG_2010_12_2011_01_M_F AS \n",
    "select * from RFMSEG_2011_01_View\n",
    "UNION ALL\n",
    "select * from RFMSEG_2010_12_View\n",
    "\n",
    "select count(*) from RFMSEG_2010_12_2011_01_M_F\n",
    "--1727\n",
    "\n",
    "select * from RFMSEG_2010_12_2011_01_M_F\n",
    "\n",
    "drop view if exists RFMSEG_2010_12_2011_01_M_F_aggr\n",
    "\n",
    "create view RFMSEG_2010_12_2011_01_M_F_aggr as\n",
    "select CustomerID, AVG(Frequency) as AVG_FREQ, avg(Monetary) as AVG_MONETARY\n",
    "from RFMSEG_2010_12_2011_01_M_F\n",
    "group by CustomerID\n",
    "\n",
    "select * from RFMSEG_2010_12_2011_01_M_F_aggr"
   ]
  },
  {
   "cell_type": "code",
   "execution_count": null,
   "metadata": {},
   "outputs": [],
   "source": [
    "#create dataframe based on the view created above"
   ]
  },
  {
   "cell_type": "code",
   "execution_count": 20,
   "metadata": {},
   "outputs": [
    {
     "name": "stdout",
     "output_type": "stream",
     "text": [
      "Opened database successfully\n",
      "records added to dataframe successfully\n"
     ]
    }
   ],
   "source": [
    "conn = sqlite3.connect('C:\\\\DataSets\\\\RFMDB.db')\n",
    "print (\"Opened database successfully\")\n",
    "rfmseg_2010_12_2011_01_M_F_aggr = pd.read_sql(\"select * from RFMSEG_2010_12_2011_01_M_F_aggr\",conn)\n",
    "print (\"records added to dataframe successfully\")\n",
    "conn.close()"
   ]
  },
  {
   "cell_type": "code",
   "execution_count": 21,
   "metadata": {},
   "outputs": [
    {
     "data": {
      "text/html": [
       "<div>\n",
       "<style scoped>\n",
       "    .dataframe tbody tr th:only-of-type {\n",
       "        vertical-align: middle;\n",
       "    }\n",
       "\n",
       "    .dataframe tbody tr th {\n",
       "        vertical-align: top;\n",
       "    }\n",
       "\n",
       "    .dataframe thead th {\n",
       "        text-align: right;\n",
       "    }\n",
       "</style>\n",
       "<table border=\"1\" class=\"dataframe\">\n",
       "  <thead>\n",
       "    <tr style=\"text-align: right;\">\n",
       "      <th></th>\n",
       "      <th>CustomerID</th>\n",
       "      <th>AVG_FREQ</th>\n",
       "      <th>AVG_MONETARY</th>\n",
       "    </tr>\n",
       "  </thead>\n",
       "  <tbody>\n",
       "    <tr>\n",
       "      <th>0</th>\n",
       "      <td>12346</td>\n",
       "      <td>2.0</td>\n",
       "      <td>0.00</td>\n",
       "    </tr>\n",
       "    <tr>\n",
       "      <th>1</th>\n",
       "      <td>12347</td>\n",
       "      <td>1.0</td>\n",
       "      <td>593.59</td>\n",
       "    </tr>\n",
       "    <tr>\n",
       "      <th>2</th>\n",
       "      <td>12348</td>\n",
       "      <td>1.0</td>\n",
       "      <td>420.12</td>\n",
       "    </tr>\n",
       "    <tr>\n",
       "      <th>3</th>\n",
       "      <td>12356</td>\n",
       "      <td>1.0</td>\n",
       "      <td>1947.62</td>\n",
       "    </tr>\n",
       "    <tr>\n",
       "      <th>4</th>\n",
       "      <td>12359</td>\n",
       "      <td>1.0</td>\n",
       "      <td>547.50</td>\n",
       "    </tr>\n",
       "  </tbody>\n",
       "</table>\n",
       "</div>"
      ],
      "text/plain": [
       "  CustomerID  AVG_FREQ  AVG_MONETARY\n",
       "0      12346       2.0          0.00\n",
       "1      12347       1.0        593.59\n",
       "2      12348       1.0        420.12\n",
       "3      12356       1.0       1947.62\n",
       "4      12359       1.0        547.50"
      ]
     },
     "execution_count": 21,
     "metadata": {},
     "output_type": "execute_result"
    }
   ],
   "source": [
    "rfmseg_2010_12_2011_01_M_F_aggr.head()"
   ]
  },
  {
   "cell_type": "code",
   "execution_count": 26,
   "metadata": {},
   "outputs": [
    {
     "data": {
      "text/html": [
       "<div>\n",
       "<style scoped>\n",
       "    .dataframe tbody tr th:only-of-type {\n",
       "        vertical-align: middle;\n",
       "    }\n",
       "\n",
       "    .dataframe tbody tr th {\n",
       "        vertical-align: top;\n",
       "    }\n",
       "\n",
       "    .dataframe thead th {\n",
       "        text-align: right;\n",
       "    }\n",
       "</style>\n",
       "<table border=\"1\" class=\"dataframe\">\n",
       "  <thead>\n",
       "    <tr style=\"text-align: right;\">\n",
       "      <th></th>\n",
       "      <th>CustomerID</th>\n",
       "      <th>Recency</th>\n",
       "    </tr>\n",
       "  </thead>\n",
       "  <tbody>\n",
       "    <tr>\n",
       "      <th>0</th>\n",
       "      <td>12346</td>\n",
       "      <td>14.0</td>\n",
       "    </tr>\n",
       "    <tr>\n",
       "      <th>1</th>\n",
       "      <td>12347</td>\n",
       "      <td>6.0</td>\n",
       "    </tr>\n",
       "    <tr>\n",
       "      <th>2</th>\n",
       "      <td>12348</td>\n",
       "      <td>7.0</td>\n",
       "    </tr>\n",
       "    <tr>\n",
       "      <th>3</th>\n",
       "      <td>12356</td>\n",
       "      <td>14.0</td>\n",
       "    </tr>\n",
       "    <tr>\n",
       "      <th>4</th>\n",
       "      <td>12359</td>\n",
       "      <td>20.0</td>\n",
       "    </tr>\n",
       "  </tbody>\n",
       "</table>\n",
       "</div>"
      ],
      "text/plain": [
       "  CustomerID  Recency\n",
       "0      12346     14.0\n",
       "1      12347      6.0\n",
       "2      12348      7.0\n",
       "3      12356     14.0\n",
       "4      12359     20.0"
      ]
     },
     "execution_count": 26,
     "metadata": {},
     "output_type": "execute_result"
    }
   ],
   "source": [
    "rfmseg_2010_12_2011_01_R_1.head()"
   ]
  },
  {
   "cell_type": "markdown",
   "metadata": {},
   "source": [
    "### Create a single dataframe containing Recency, Frequency and Monetary for Dec'2010 and Jan'2011"
   ]
  },
  {
   "cell_type": "code",
   "execution_count": 27,
   "metadata": {},
   "outputs": [
    {
     "data": {
      "text/plain": [
       "(1367, 3)"
      ]
     },
     "execution_count": 27,
     "metadata": {},
     "output_type": "execute_result"
    },
    {
     "data": {
      "text/plain": [
       "(1367, 2)"
      ]
     },
     "execution_count": 27,
     "metadata": {},
     "output_type": "execute_result"
    },
    {
     "data": {
      "text/plain": [
       "(1367, 4)"
      ]
     },
     "execution_count": 27,
     "metadata": {},
     "output_type": "execute_result"
    },
    {
     "data": {
      "text/html": [
       "<div>\n",
       "<style scoped>\n",
       "    .dataframe tbody tr th:only-of-type {\n",
       "        vertical-align: middle;\n",
       "    }\n",
       "\n",
       "    .dataframe tbody tr th {\n",
       "        vertical-align: top;\n",
       "    }\n",
       "\n",
       "    .dataframe thead th {\n",
       "        text-align: right;\n",
       "    }\n",
       "</style>\n",
       "<table border=\"1\" class=\"dataframe\">\n",
       "  <thead>\n",
       "    <tr style=\"text-align: right;\">\n",
       "      <th></th>\n",
       "      <th>CustomerID</th>\n",
       "      <th>AVG_FREQ</th>\n",
       "      <th>AVG_MONETARY</th>\n",
       "      <th>Recency</th>\n",
       "    </tr>\n",
       "  </thead>\n",
       "  <tbody>\n",
       "    <tr>\n",
       "      <th>0</th>\n",
       "      <td>12346</td>\n",
       "      <td>2.0</td>\n",
       "      <td>0.00</td>\n",
       "      <td>14.0</td>\n",
       "    </tr>\n",
       "    <tr>\n",
       "      <th>1</th>\n",
       "      <td>12347</td>\n",
       "      <td>1.0</td>\n",
       "      <td>593.59</td>\n",
       "      <td>6.0</td>\n",
       "    </tr>\n",
       "    <tr>\n",
       "      <th>2</th>\n",
       "      <td>12348</td>\n",
       "      <td>1.0</td>\n",
       "      <td>420.12</td>\n",
       "      <td>7.0</td>\n",
       "    </tr>\n",
       "    <tr>\n",
       "      <th>3</th>\n",
       "      <td>12356</td>\n",
       "      <td>1.0</td>\n",
       "      <td>1947.62</td>\n",
       "      <td>14.0</td>\n",
       "    </tr>\n",
       "    <tr>\n",
       "      <th>4</th>\n",
       "      <td>12359</td>\n",
       "      <td>1.0</td>\n",
       "      <td>547.50</td>\n",
       "      <td>20.0</td>\n",
       "    </tr>\n",
       "  </tbody>\n",
       "</table>\n",
       "</div>"
      ],
      "text/plain": [
       "  CustomerID  AVG_FREQ  AVG_MONETARY  Recency\n",
       "0      12346       2.0          0.00     14.0\n",
       "1      12347       1.0        593.59      6.0\n",
       "2      12348       1.0        420.12      7.0\n",
       "3      12356       1.0       1947.62     14.0\n",
       "4      12359       1.0        547.50     20.0"
      ]
     },
     "execution_count": 27,
     "metadata": {},
     "output_type": "execute_result"
    }
   ],
   "source": [
    "merged_df = pd.merge(rfmseg_2010_12_2011_01_M_F_aggr, rfmseg_2010_12_2011_01_R_1, on = 'CustomerID')\n",
    "rfmseg_2010_12_2011_01_M_F_aggr.shape\n",
    "rfmseg_2010_12_2011_01_R_1.shape\n",
    "merged_df.shape\n",
    "merged_df.head()"
   ]
  },
  {
   "cell_type": "code",
   "execution_count": null,
   "metadata": {},
   "outputs": [],
   "source": []
  }
 ],
 "metadata": {
  "kernelspec": {
   "display_name": "Python 3",
   "language": "python",
   "name": "python3"
  },
  "language_info": {
   "codemirror_mode": {
    "name": "ipython",
    "version": 3
   },
   "file_extension": ".py",
   "mimetype": "text/x-python",
   "name": "python",
   "nbconvert_exporter": "python",
   "pygments_lexer": "ipython3",
   "version": "3.6.2"
  }
 },
 "nbformat": 4,
 "nbformat_minor": 2
}
