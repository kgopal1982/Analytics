{
 "cells": [
  {
   "cell_type": "markdown",
   "metadata": {},
   "source": [
    "# There are 8000 records which are less than 0\n",
    "# there are 40 items = 0\n"
   ]
  },
  {
   "cell_type": "code",
   "execution_count": 113,
   "metadata": {},
   "outputs": [],
   "source": [
    "import sqlite3\n",
    "import datetime as dt"
   ]
  },
  {
   "cell_type": "code",
   "execution_count": 35,
   "metadata": {},
   "outputs": [],
   "source": [
    "file = open(\"C:\\\\DataSets\\\\OnlineRetail2Sample.csv\")\n",
    "data1 = file.readlines()\n",
    "data = data1[1:]"
   ]
  },
  {
   "cell_type": "code",
   "execution_count": 36,
   "metadata": {},
   "outputs": [
    {
     "name": "stdout",
     "output_type": "stream",
     "text": [
      "Opened database successfully\n"
     ]
    }
   ],
   "source": [
    "conn = sqlite3.connect('C:\\\\DataSets\\\\RFMDB.db')\n",
    "print (\"Opened database successfully\")"
   ]
  },
  {
   "cell_type": "code",
   "execution_count": null,
   "metadata": {},
   "outputs": [],
   "source": [
    "conn.execute('''CREATE TABLE RFMDM (\n",
    "    InvoiceNo   CHAR (20),\n",
    "    StockCode   CHAR (20),\n",
    "    Quantity    INTEGER,\n",
    "    DoP         DATE,\n",
    "    UnitPrice   FLOAT,\n",
    "    CustomerID  CHAR (30));''')\n",
    "print (\"Table created successfully\")\n",
    "\n",
    "#conn.close()"
   ]
  },
  {
   "cell_type": "code",
   "execution_count": 37,
   "metadata": {},
   "outputs": [
    {
     "name": "stdout",
     "output_type": "stream",
     "text": [
      "Commit successful\n"
     ]
    }
   ],
   "source": [
    "for row in data:\n",
    "    #iData = data[row].split(sep = \",\")\n",
    "    iData = row.split(sep = \",\")\n",
    "    #print(iData)\n",
    "    InvoiceNo = iData[0]\n",
    "    StockCode = iData[1]\n",
    "    Quantity = iData[2]\n",
    "    DoP = iData[3]\n",
    "    UnitPrice = iData[4]\n",
    "    CustomerID = iData[5]\n",
    "\n",
    "    #print(InvoiceNo, StockCode, Quantity, DoP, UnitPrice, CustomerID)\n",
    "\n",
    "    #sql = 'INSERT INTO RFMDM (InvoiceNo,StockCode,Quantity,DoP,UnitPrice,CustomerID) \\\n",
    "    #      VALUES (' + 536365 , 71053, 6, \\'12/1/2010\\', 3.39, 17850)\"\n",
    "\n",
    "    sql = \"INSERT INTO RFMDM (InvoiceNo,StockCode,Quantity,DoP,UnitPrice,CustomerID) \\\n",
    "          VALUES (\" + \"\\'\" + InvoiceNo + \"\\',\\'\"+ StockCode + \"\\',\"+ Quantity  + ','+ \"\\'\" + DoP + \"\\'\" +','+ UnitPrice +',' + CustomerID + \" )\"\n",
    "    #print(sql)\n",
    "    conn.execute(sql)\n",
    "conn.commit()    \n",
    "conn.close()\n",
    "print(\"Commit successful\")"
   ]
  },
  {
   "cell_type": "code",
   "execution_count": 38,
   "metadata": {},
   "outputs": [
    {
     "name": "stdout",
     "output_type": "stream",
     "text": [
      "Opened database successfully\n",
      "[('536365', '85123A', 6, '12/1/2010', 2.55, '17850'), ('536365', '71053', 6, '12/1/2010', 3.39, '17850'), ('536365', '84406B', 8, '12/1/2010', 2.75, '17850'), ('536365', '84029G', 6, '12/1/2010', 3.39, '17850'), ('536365', '84029E', 6, '12/1/2010', 3.39, '17850')]\n"
     ]
    }
   ],
   "source": [
    "conn = sqlite3.connect('C:\\\\DataSets\\\\RFMDB.db')\n",
    "print (\"Opened database successfully\")\n",
    "cur = conn.execute(\"select * from RFMDM limit 5\")\n",
    "data = cur.fetchall()\n",
    "conn.close()\n",
    "print(data)"
   ]
  },
  {
   "cell_type": "markdown",
   "metadata": {},
   "source": [
    "#Run delete query in the table rfmdm\n",
    "select count(*) from RFMDM\n",
    "-- 406829\n",
    "\n",
    "select count(*) from rfmdm where StockCode in ('POST', 'D', 'BANK CHARGES', 'C2', 'CRUK', 'DOT', 'M', 'PADS')\n",
    "\n",
    "--1920\n",
    "\n",
    "delete from rfmdm where StockCode in ('POST', 'D', 'BANK CHARGES', 'C2', 'CRUK', 'DOT', 'M', 'PADS')\n",
    "select count(*) from RFMDM where Quantity<0\n",
    "\n",
    "--8359 (2%)\n",
    "\n",
    "delete from rfmdm where quantity <0"
   ]
  },
  {
   "cell_type": "code",
   "execution_count": 103,
   "metadata": {},
   "outputs": [
    {
     "name": "stdout",
     "output_type": "stream",
     "text": [
      "Opened database successfully\n",
      "Table created successfully\n"
     ]
    }
   ],
   "source": [
    "conn = sqlite3.connect('C:\\\\DataSets\\\\RFMDB.db')\n",
    "print (\"Opened database successfully\")\n",
    "\n",
    "#conn.execute('''drop table rfmseg''')\n",
    "conn.execute('''CREATE TABLE RFMSeg (\n",
    "    CustomerID  CHAR (20),\n",
    "    RDate   DATE,\n",
    "    Frequency    INTEGER,\n",
    "    Product INTEGER,\n",
    "    TDate         DATE,\n",
    "    Monetary   FLOAT)''')\n",
    "print (\"Table created successfully\")\n",
    "\n",
    "conn.close() "
   ]
  },
  {
   "cell_type": "code",
   "execution_count": 39,
   "metadata": {},
   "outputs": [],
   "source": [
    "import pandas as pd"
   ]
  },
  {
   "cell_type": "code",
   "execution_count": 104,
   "metadata": {},
   "outputs": [
    {
     "name": "stdout",
     "output_type": "stream",
     "text": [
      "Opened database successfully\n",
      "records added to dataframe successfully\n"
     ]
    }
   ],
   "source": [
    "conn = sqlite3.connect('C:\\\\DataSets\\\\RFMDB.db')\n",
    "print (\"Opened database successfully\")\n",
    "rfmdm = pd.read_sql(\"select * from RFMDM\",conn)\n",
    "print (\"records added to dataframe successfully\")\n",
    "conn.close()"
   ]
  },
  {
   "cell_type": "code",
   "execution_count": 105,
   "metadata": {},
   "outputs": [
    {
     "data": {
      "text/html": [
       "<div>\n",
       "<style scoped>\n",
       "    .dataframe tbody tr th:only-of-type {\n",
       "        vertical-align: middle;\n",
       "    }\n",
       "\n",
       "    .dataframe tbody tr th {\n",
       "        vertical-align: top;\n",
       "    }\n",
       "\n",
       "    .dataframe thead th {\n",
       "        text-align: right;\n",
       "    }\n",
       "</style>\n",
       "<table border=\"1\" class=\"dataframe\">\n",
       "  <thead>\n",
       "    <tr style=\"text-align: right;\">\n",
       "      <th></th>\n",
       "      <th>InvoiceNo</th>\n",
       "      <th>StockCode</th>\n",
       "      <th>Quantity</th>\n",
       "      <th>DoP</th>\n",
       "      <th>UnitPrice</th>\n",
       "      <th>CustomerID</th>\n",
       "    </tr>\n",
       "  </thead>\n",
       "  <tbody>\n",
       "    <tr>\n",
       "      <th>0</th>\n",
       "      <td>536365</td>\n",
       "      <td>85123A</td>\n",
       "      <td>6</td>\n",
       "      <td>12/1/2010</td>\n",
       "      <td>2.55</td>\n",
       "      <td>17850</td>\n",
       "    </tr>\n",
       "    <tr>\n",
       "      <th>1</th>\n",
       "      <td>536365</td>\n",
       "      <td>71053</td>\n",
       "      <td>6</td>\n",
       "      <td>12/1/2010</td>\n",
       "      <td>3.39</td>\n",
       "      <td>17850</td>\n",
       "    </tr>\n",
       "    <tr>\n",
       "      <th>2</th>\n",
       "      <td>536365</td>\n",
       "      <td>84406B</td>\n",
       "      <td>8</td>\n",
       "      <td>12/1/2010</td>\n",
       "      <td>2.75</td>\n",
       "      <td>17850</td>\n",
       "    </tr>\n",
       "    <tr>\n",
       "      <th>3</th>\n",
       "      <td>536365</td>\n",
       "      <td>84029G</td>\n",
       "      <td>6</td>\n",
       "      <td>12/1/2010</td>\n",
       "      <td>3.39</td>\n",
       "      <td>17850</td>\n",
       "    </tr>\n",
       "    <tr>\n",
       "      <th>4</th>\n",
       "      <td>536365</td>\n",
       "      <td>84029E</td>\n",
       "      <td>6</td>\n",
       "      <td>12/1/2010</td>\n",
       "      <td>3.39</td>\n",
       "      <td>17850</td>\n",
       "    </tr>\n",
       "  </tbody>\n",
       "</table>\n",
       "</div>"
      ],
      "text/plain": [
       "  InvoiceNo StockCode  Quantity        DoP  UnitPrice CustomerID\n",
       "0    536365    85123A         6  12/1/2010       2.55      17850\n",
       "1    536365     71053         6  12/1/2010       3.39      17850\n",
       "2    536365    84406B         8  12/1/2010       2.75      17850\n",
       "3    536365    84029G         6  12/1/2010       3.39      17850\n",
       "4    536365    84029E         6  12/1/2010       3.39      17850"
      ]
     },
     "execution_count": 105,
     "metadata": {},
     "output_type": "execute_result"
    }
   ],
   "source": [
    "rfmdm.head()"
   ]
  },
  {
   "cell_type": "code",
   "execution_count": 106,
   "metadata": {},
   "outputs": [
    {
     "data": {
      "text/plain": [
       "InvoiceNo      object\n",
       "StockCode      object\n",
       "Quantity        int64\n",
       "DoP            object\n",
       "UnitPrice     float64\n",
       "CustomerID     object\n",
       "dtype: object"
      ]
     },
     "execution_count": 106,
     "metadata": {},
     "output_type": "execute_result"
    }
   ],
   "source": [
    "rfmdm.dtypes"
   ]
  },
  {
   "cell_type": "code",
   "execution_count": 107,
   "metadata": {},
   "outputs": [
    {
     "name": "stdout",
     "output_type": "stream",
     "text": [
      "Opened database successfully\n",
      "[('12/1/2010',), ('12/2/2010',), ('12/3/2010',), ('12/5/2010',), ('12/6/2010',)]\n"
     ]
    }
   ],
   "source": [
    "conn = sqlite3.connect('C:\\\\DataSets\\\\RFMDB.db')\n",
    "print (\"Opened database successfully\")\n",
    "cur = conn.execute(\"select distinct(DoP) from RFMDM limit 5\")\n",
    "data = cur.fetchall()\n",
    "conn.close()\n",
    "print(data)"
   ]
  },
  {
   "cell_type": "code",
   "execution_count": 108,
   "metadata": {},
   "outputs": [
    {
     "name": "stdout",
     "output_type": "stream",
     "text": [
      "Opened database successfully\n",
      "[(406829,)]\n"
     ]
    }
   ],
   "source": [
    "conn = sqlite3.connect('C:\\\\DataSets\\\\RFMDB.db')\n",
    "print (\"Opened database successfully\")\n",
    "cur = conn.execute(\"select count(*) from RFMDM\")\n",
    "data = cur.fetchall()\n",
    "conn.close()\n",
    "print(data)"
   ]
  },
  {
   "cell_type": "code",
   "execution_count": 109,
   "metadata": {},
   "outputs": [
    {
     "name": "stdout",
     "output_type": "stream",
     "text": [
      "Converted successfully\n"
     ]
    }
   ],
   "source": [
    "rfmdm['DoP'] = pd.to_datetime(rfmdm['DoP'])\n",
    "print(\"Converted successfully\")"
   ]
  },
  {
   "cell_type": "code",
   "execution_count": 110,
   "metadata": {},
   "outputs": [
    {
     "data": {
      "text/plain": [
       "InvoiceNo             object\n",
       "StockCode             object\n",
       "Quantity               int64\n",
       "DoP           datetime64[ns]\n",
       "UnitPrice            float64\n",
       "CustomerID            object\n",
       "dtype: object"
      ]
     },
     "execution_count": 110,
     "metadata": {},
     "output_type": "execute_result"
    }
   ],
   "source": [
    "rfmdm.dtypes"
   ]
  },
  {
   "cell_type": "code",
   "execution_count": null,
   "metadata": {},
   "outputs": [],
   "source": [
    "#Fix datetime format issue"
   ]
  },
  {
   "cell_type": "code",
   "execution_count": 111,
   "metadata": {},
   "outputs": [
    {
     "name": "stdout",
     "output_type": "stream",
     "text": [
      "Opened database successfully\n",
      "new table got created successfully\n"
     ]
    }
   ],
   "source": [
    "conn = sqlite3.connect('C:\\\\DataSets\\\\RFMDB.db')\n",
    "print (\"Opened database successfully\")\n",
    "rfmdm.to_sql('rfmdm_final',conn, if_exists = 'replace')\n",
    "#rfmdm = pd.read_sql(\"select * from RFMDM\",conn)\n",
    "print (\"new table got created successfully\")\n",
    "conn.close()"
   ]
  },
  {
   "cell_type": "code",
   "execution_count": 112,
   "metadata": {},
   "outputs": [
    {
     "name": "stdout",
     "output_type": "stream",
     "text": [
      "Opened database successfully\n",
      "[('2010-12-01 00:00:00',), ('2010-12-02 00:00:00',), ('2010-12-03 00:00:00',), ('2010-12-05 00:00:00',), ('2010-12-06 00:00:00',)]\n"
     ]
    }
   ],
   "source": [
    "conn = sqlite3.connect('C:\\\\DataSets\\\\RFMDB.db')\n",
    "print (\"Opened database successfully\")\n",
    "cur = conn.execute(\"select distinct(DoP) from RFMDM_final limit 5\")\n",
    "data = cur.fetchall()\n",
    "conn.close()\n",
    "print(data)"
   ]
  },
  {
   "cell_type": "code",
   "execution_count": null,
   "metadata": {},
   "outputs": [],
   "source": [
    "insert data into rfmseg table using sql\n",
    "    INSERT INTO RFMSeg\n",
    "       SELECT CustomerID, max(DoP), count(distinct(InvoiceNo)), count(distinct(StockCode)), min(DoP), sum(quantity*unitprice)\n",
    "       FROM RFMDM_final\n",
    "       group by customerid"
   ]
  },
  {
   "cell_type": "code",
   "execution_count": 114,
   "metadata": {},
   "outputs": [
    {
     "name": "stdout",
     "output_type": "stream",
     "text": [
      "Opened database successfully\n",
      "[('12346', '2011-01-18 00:00:00', 2, 1, '2011-01-18 00:00:00', 0.0), ('12347', '2011-12-07 00:00:00', 7, 103, '2010-12-07 00:00:00', 4309.999999999997), ('12348', '2011-09-25 00:00:00', 4, 22, '2010-12-16 00:00:00', 1797.24), ('12349', '2011-11-21 00:00:00', 1, 73, '2011-11-21 00:00:00', 1757.55), ('12350', '2011-02-02 00:00:00', 1, 17, '2011-02-02 00:00:00', 334.40000000000003)]\n"
     ]
    }
   ],
   "source": [
    "conn = sqlite3.connect('C:\\\\DataSets\\\\RFMDB.db')\n",
    "print (\"Opened database successfully\")\n",
    "cur = conn.execute(\"select * from RFMSEG limit 5\")\n",
    "data = cur.fetchall()\n",
    "conn.close()\n",
    "print(data)"
   ]
  },
  {
   "cell_type": "code",
   "execution_count": 85,
   "metadata": {},
   "outputs": [
    {
     "name": "stdout",
     "output_type": "stream",
     "text": [
      "2011-12-09 00:00:00\n"
     ]
    }
   ],
   "source": [
    "print(max(rfmdm['DoP']))"
   ]
  },
  {
   "cell_type": "code",
   "execution_count": 49,
   "metadata": {},
   "outputs": [
    {
     "name": "stdout",
     "output_type": "stream",
     "text": [
      "2010-12-01 00:00:00\n"
     ]
    }
   ],
   "source": [
    "print(min(rfmdm['DoP']))"
   ]
  },
  {
   "cell_type": "code",
   "execution_count": null,
   "metadata": {},
   "outputs": [],
   "source": []
  },
  {
   "cell_type": "code",
   "execution_count": 78,
   "metadata": {},
   "outputs": [
    {
     "name": "stdout",
     "output_type": "stream",
     "text": [
      "Opened database successfully\n",
      " alter table rfmseg             add column Recency INTEGER         \n",
      "Column added successfully\n"
     ]
    }
   ],
   "source": [
    "conn = sqlite3.connect('C:\\\\DataSets\\\\RFMDB.db')\n",
    "print (\"Opened database successfully\")\n",
    "\n",
    "sql = ''' alter table rfmseg \\\n",
    "            add column Recency INTEGER \\\n",
    "        '''\n",
    "print(sql)\n",
    "conn.execute(sql)\n",
    "conn.commit\n",
    "print (\"Column added successfully\")\n",
    "\n",
    "conn.close()"
   ]
  },
  {
   "cell_type": "code",
   "execution_count": 79,
   "metadata": {},
   "outputs": [
    {
     "name": "stdout",
     "output_type": "stream",
     "text": [
      "Opened database successfully\n",
      " alter table rfmseg             add column Tenure INTEGER         \n",
      "Column added successfully\n"
     ]
    }
   ],
   "source": [
    "conn = sqlite3.connect('C:\\\\DataSets\\\\RFMDB.db')\n",
    "print (\"Opened database successfully\")\n",
    "\n",
    "sql = ''' alter table rfmseg \\\n",
    "            add column Tenure INTEGER \\\n",
    "        '''\n",
    "print(sql)\n",
    "conn.execute(sql)\n",
    "conn.commit\n",
    "print (\"Column added successfully\")\n",
    "\n",
    "conn.close()"
   ]
  },
  {
   "cell_type": "code",
   "execution_count": 92,
   "metadata": {},
   "outputs": [
    {
     "name": "stdout",
     "output_type": "stream",
     "text": [
      "Opened database successfully\n",
      "records added to dataframe rfmseg successfully\n"
     ]
    }
   ],
   "source": [
    "conn = sqlite3.connect('C:\\\\DataSets\\\\RFMDB.db')\n",
    "print (\"Opened database successfully\")\n",
    "rfmseg = pd.read_sql(\"select * from RFMSEG\",conn)\n",
    "print (\"records added to dataframe rfmseg successfully\")\n",
    "conn.close()"
   ]
  },
  {
   "cell_type": "code",
   "execution_count": 116,
   "metadata": {},
   "outputs": [
    {
     "data": {
      "text/html": [
       "<div>\n",
       "<style scoped>\n",
       "    .dataframe tbody tr th:only-of-type {\n",
       "        vertical-align: middle;\n",
       "    }\n",
       "\n",
       "    .dataframe tbody tr th {\n",
       "        vertical-align: top;\n",
       "    }\n",
       "\n",
       "    .dataframe thead th {\n",
       "        text-align: right;\n",
       "    }\n",
       "</style>\n",
       "<table border=\"1\" class=\"dataframe\">\n",
       "  <thead>\n",
       "    <tr style=\"text-align: right;\">\n",
       "      <th></th>\n",
       "      <th>CustomerID</th>\n",
       "      <th>RDate</th>\n",
       "      <th>Frequency</th>\n",
       "      <th>Product</th>\n",
       "      <th>TDate</th>\n",
       "      <th>Monetary</th>\n",
       "      <th>Recency</th>\n",
       "      <th>Tenure</th>\n",
       "    </tr>\n",
       "  </thead>\n",
       "  <tbody>\n",
       "    <tr>\n",
       "      <th>0</th>\n",
       "      <td>12346</td>\n",
       "      <td>2011-01-18 00:00:00</td>\n",
       "      <td>2</td>\n",
       "      <td>1</td>\n",
       "      <td>2011-01-18 00:00:00</td>\n",
       "      <td>0.00</td>\n",
       "      <td>0</td>\n",
       "      <td>0</td>\n",
       "    </tr>\n",
       "    <tr>\n",
       "      <th>1</th>\n",
       "      <td>12347</td>\n",
       "      <td>2011-12-07 00:00:00</td>\n",
       "      <td>7</td>\n",
       "      <td>103</td>\n",
       "      <td>2010-12-07 00:00:00</td>\n",
       "      <td>4310.00</td>\n",
       "      <td>0</td>\n",
       "      <td>1</td>\n",
       "    </tr>\n",
       "    <tr>\n",
       "      <th>2</th>\n",
       "      <td>12348</td>\n",
       "      <td>2011-09-25 00:00:00</td>\n",
       "      <td>4</td>\n",
       "      <td>22</td>\n",
       "      <td>2010-12-16 00:00:00</td>\n",
       "      <td>1797.24</td>\n",
       "      <td>0</td>\n",
       "      <td>1</td>\n",
       "    </tr>\n",
       "    <tr>\n",
       "      <th>3</th>\n",
       "      <td>12349</td>\n",
       "      <td>2011-11-21 00:00:00</td>\n",
       "      <td>1</td>\n",
       "      <td>73</td>\n",
       "      <td>2011-11-21 00:00:00</td>\n",
       "      <td>1757.55</td>\n",
       "      <td>0</td>\n",
       "      <td>0</td>\n",
       "    </tr>\n",
       "    <tr>\n",
       "      <th>4</th>\n",
       "      <td>12350</td>\n",
       "      <td>2011-02-02 00:00:00</td>\n",
       "      <td>1</td>\n",
       "      <td>17</td>\n",
       "      <td>2011-02-02 00:00:00</td>\n",
       "      <td>334.40</td>\n",
       "      <td>0</td>\n",
       "      <td>0</td>\n",
       "    </tr>\n",
       "  </tbody>\n",
       "</table>\n",
       "</div>"
      ],
      "text/plain": [
       "  CustomerID                RDate  Frequency  Product                TDate  \\\n",
       "0      12346  2011-01-18 00:00:00          2        1  2011-01-18 00:00:00   \n",
       "1      12347  2011-12-07 00:00:00          7      103  2010-12-07 00:00:00   \n",
       "2      12348  2011-09-25 00:00:00          4       22  2010-12-16 00:00:00   \n",
       "3      12349  2011-11-21 00:00:00          1       73  2011-11-21 00:00:00   \n",
       "4      12350  2011-02-02 00:00:00          1       17  2011-02-02 00:00:00   \n",
       "\n",
       "   Monetary  Recency  Tenure  \n",
       "0      0.00        0       0  \n",
       "1   4310.00        0       1  \n",
       "2   1797.24        0       1  \n",
       "3   1757.55        0       0  \n",
       "4    334.40        0       0  "
      ]
     },
     "execution_count": 116,
     "metadata": {},
     "output_type": "execute_result"
    }
   ],
   "source": [
    "rfmseg.head()\n",
    "#print(rfmseg['Recency'])"
   ]
  },
  {
   "cell_type": "code",
   "execution_count": 130,
   "metadata": {},
   "outputs": [
    {
     "name": "stdout",
     "output_type": "stream",
     "text": [
      "2011-12-15 00:00:00\n"
     ]
    }
   ],
   "source": [
    "\n",
    "NOW = dt.datetime(2011,12,15)\n",
    "print(NOW)"
   ]
  },
  {
   "cell_type": "code",
   "execution_count": 131,
   "metadata": {},
   "outputs": [
    {
     "data": {
      "text/html": [
       "<div>\n",
       "<style scoped>\n",
       "    .dataframe tbody tr th:only-of-type {\n",
       "        vertical-align: middle;\n",
       "    }\n",
       "\n",
       "    .dataframe tbody tr th {\n",
       "        vertical-align: top;\n",
       "    }\n",
       "\n",
       "    .dataframe thead th {\n",
       "        text-align: right;\n",
       "    }\n",
       "</style>\n",
       "<table border=\"1\" class=\"dataframe\">\n",
       "  <thead>\n",
       "    <tr style=\"text-align: right;\">\n",
       "      <th></th>\n",
       "      <th>CustomerID</th>\n",
       "      <th>RDate</th>\n",
       "      <th>Frequency</th>\n",
       "      <th>Product</th>\n",
       "      <th>TDate</th>\n",
       "      <th>Monetary</th>\n",
       "      <th>Recency</th>\n",
       "      <th>Tenure</th>\n",
       "      <th>NOW</th>\n",
       "    </tr>\n",
       "  </thead>\n",
       "  <tbody>\n",
       "    <tr>\n",
       "      <th>0</th>\n",
       "      <td>12346</td>\n",
       "      <td>2011-01-18</td>\n",
       "      <td>2</td>\n",
       "      <td>1</td>\n",
       "      <td>2011-01-18</td>\n",
       "      <td>0.00</td>\n",
       "      <td>1427</td>\n",
       "      <td>1427</td>\n",
       "      <td>2011-12-15</td>\n",
       "    </tr>\n",
       "    <tr>\n",
       "      <th>1</th>\n",
       "      <td>12347</td>\n",
       "      <td>2011-12-07</td>\n",
       "      <td>7</td>\n",
       "      <td>103</td>\n",
       "      <td>2010-12-07</td>\n",
       "      <td>4310.00</td>\n",
       "      <td>1104</td>\n",
       "      <td>1469</td>\n",
       "      <td>2011-12-15</td>\n",
       "    </tr>\n",
       "    <tr>\n",
       "      <th>2</th>\n",
       "      <td>12348</td>\n",
       "      <td>2011-09-25</td>\n",
       "      <td>4</td>\n",
       "      <td>22</td>\n",
       "      <td>2010-12-16</td>\n",
       "      <td>1797.24</td>\n",
       "      <td>1177</td>\n",
       "      <td>1460</td>\n",
       "      <td>2011-12-15</td>\n",
       "    </tr>\n",
       "    <tr>\n",
       "      <th>3</th>\n",
       "      <td>12349</td>\n",
       "      <td>2011-11-21</td>\n",
       "      <td>1</td>\n",
       "      <td>73</td>\n",
       "      <td>2011-11-21</td>\n",
       "      <td>1757.55</td>\n",
       "      <td>1120</td>\n",
       "      <td>1120</td>\n",
       "      <td>2011-12-15</td>\n",
       "    </tr>\n",
       "    <tr>\n",
       "      <th>4</th>\n",
       "      <td>12350</td>\n",
       "      <td>2011-02-02</td>\n",
       "      <td>1</td>\n",
       "      <td>17</td>\n",
       "      <td>2011-02-02</td>\n",
       "      <td>334.40</td>\n",
       "      <td>1412</td>\n",
       "      <td>1412</td>\n",
       "      <td>2011-12-15</td>\n",
       "    </tr>\n",
       "  </tbody>\n",
       "</table>\n",
       "</div>"
      ],
      "text/plain": [
       "  CustomerID      RDate  Frequency  Product      TDate  Monetary  Recency  \\\n",
       "0      12346 2011-01-18          2        1 2011-01-18      0.00     1427   \n",
       "1      12347 2011-12-07          7      103 2010-12-07   4310.00     1104   \n",
       "2      12348 2011-09-25          4       22 2010-12-16   1797.24     1177   \n",
       "3      12349 2011-11-21          1       73 2011-11-21   1757.55     1120   \n",
       "4      12350 2011-02-02          1       17 2011-02-02    334.40     1412   \n",
       "\n",
       "   Tenure        NOW  \n",
       "0    1427 2011-12-15  \n",
       "1    1469 2011-12-15  \n",
       "2    1460 2011-12-15  \n",
       "3    1120 2011-12-15  \n",
       "4    1412 2011-12-15  "
      ]
     },
     "execution_count": 131,
     "metadata": {},
     "output_type": "execute_result"
    }
   ],
   "source": [
    "rfmseg['NOW'] = NOW\n",
    "rfmseg.head()"
   ]
  },
  {
   "cell_type": "code",
   "execution_count": 132,
   "metadata": {},
   "outputs": [
    {
     "data": {
      "text/html": [
       "<div>\n",
       "<style scoped>\n",
       "    .dataframe tbody tr th:only-of-type {\n",
       "        vertical-align: middle;\n",
       "    }\n",
       "\n",
       "    .dataframe tbody tr th {\n",
       "        vertical-align: top;\n",
       "    }\n",
       "\n",
       "    .dataframe thead th {\n",
       "        text-align: right;\n",
       "    }\n",
       "</style>\n",
       "<table border=\"1\" class=\"dataframe\">\n",
       "  <thead>\n",
       "    <tr style=\"text-align: right;\">\n",
       "      <th></th>\n",
       "      <th>CustomerID</th>\n",
       "      <th>RDate</th>\n",
       "      <th>Frequency</th>\n",
       "      <th>Product</th>\n",
       "      <th>TDate</th>\n",
       "      <th>Monetary</th>\n",
       "      <th>Recency</th>\n",
       "      <th>Tenure</th>\n",
       "      <th>NOW</th>\n",
       "    </tr>\n",
       "  </thead>\n",
       "  <tbody>\n",
       "    <tr>\n",
       "      <th>0</th>\n",
       "      <td>12346</td>\n",
       "      <td>2011-01-18</td>\n",
       "      <td>2</td>\n",
       "      <td>1</td>\n",
       "      <td>2011-01-18</td>\n",
       "      <td>0.00</td>\n",
       "      <td>1427</td>\n",
       "      <td>1427</td>\n",
       "      <td>2011-12-15</td>\n",
       "    </tr>\n",
       "    <tr>\n",
       "      <th>1</th>\n",
       "      <td>12347</td>\n",
       "      <td>2011-12-07</td>\n",
       "      <td>7</td>\n",
       "      <td>103</td>\n",
       "      <td>2010-12-07</td>\n",
       "      <td>4310.00</td>\n",
       "      <td>1104</td>\n",
       "      <td>1469</td>\n",
       "      <td>2011-12-15</td>\n",
       "    </tr>\n",
       "    <tr>\n",
       "      <th>2</th>\n",
       "      <td>12348</td>\n",
       "      <td>2011-09-25</td>\n",
       "      <td>4</td>\n",
       "      <td>22</td>\n",
       "      <td>2010-12-16</td>\n",
       "      <td>1797.24</td>\n",
       "      <td>1177</td>\n",
       "      <td>1460</td>\n",
       "      <td>2011-12-15</td>\n",
       "    </tr>\n",
       "    <tr>\n",
       "      <th>3</th>\n",
       "      <td>12349</td>\n",
       "      <td>2011-11-21</td>\n",
       "      <td>1</td>\n",
       "      <td>73</td>\n",
       "      <td>2011-11-21</td>\n",
       "      <td>1757.55</td>\n",
       "      <td>1120</td>\n",
       "      <td>1120</td>\n",
       "      <td>2011-12-15</td>\n",
       "    </tr>\n",
       "    <tr>\n",
       "      <th>4</th>\n",
       "      <td>12350</td>\n",
       "      <td>2011-02-02</td>\n",
       "      <td>1</td>\n",
       "      <td>17</td>\n",
       "      <td>2011-02-02</td>\n",
       "      <td>334.40</td>\n",
       "      <td>1412</td>\n",
       "      <td>1412</td>\n",
       "      <td>2011-12-15</td>\n",
       "    </tr>\n",
       "  </tbody>\n",
       "</table>\n",
       "</div>"
      ],
      "text/plain": [
       "  CustomerID      RDate  Frequency  Product      TDate  Monetary  Recency  \\\n",
       "0      12346 2011-01-18          2        1 2011-01-18      0.00     1427   \n",
       "1      12347 2011-12-07          7      103 2010-12-07   4310.00     1104   \n",
       "2      12348 2011-09-25          4       22 2010-12-16   1797.24     1177   \n",
       "3      12349 2011-11-21          1       73 2011-11-21   1757.55     1120   \n",
       "4      12350 2011-02-02          1       17 2011-02-02    334.40     1412   \n",
       "\n",
       "   Tenure        NOW  \n",
       "0    1427 2011-12-15  \n",
       "1    1469 2011-12-15  \n",
       "2    1460 2011-12-15  \n",
       "3    1120 2011-12-15  \n",
       "4    1412 2011-12-15  "
      ]
     },
     "execution_count": 132,
     "metadata": {},
     "output_type": "execute_result"
    }
   ],
   "source": [
    "rfmseg['NOW'] = pd.to_datetime(rfmseg['NOW'])\n",
    "rfmseg['TDate'] = pd.to_datetime(rfmseg['TDate'])\n",
    "rfmseg['RDate'] = pd.to_datetime(rfmseg['RDate'])\n",
    "rfmseg.head()"
   ]
  },
  {
   "cell_type": "code",
   "execution_count": 133,
   "metadata": {},
   "outputs": [
    {
     "data": {
      "text/plain": [
       "CustomerID            object\n",
       "RDate         datetime64[ns]\n",
       "Frequency              int64\n",
       "Product                int64\n",
       "TDate         datetime64[ns]\n",
       "Monetary             float64\n",
       "Recency                int64\n",
       "Tenure                 int64\n",
       "NOW           datetime64[ns]\n",
       "dtype: object"
      ]
     },
     "execution_count": 133,
     "metadata": {},
     "output_type": "execute_result"
    }
   ],
   "source": [
    "rfmseg.dtypes"
   ]
  },
  {
   "cell_type": "code",
   "execution_count": 134,
   "metadata": {},
   "outputs": [
    {
     "data": {
      "text/html": [
       "<div>\n",
       "<style scoped>\n",
       "    .dataframe tbody tr th:only-of-type {\n",
       "        vertical-align: middle;\n",
       "    }\n",
       "\n",
       "    .dataframe tbody tr th {\n",
       "        vertical-align: top;\n",
       "    }\n",
       "\n",
       "    .dataframe thead th {\n",
       "        text-align: right;\n",
       "    }\n",
       "</style>\n",
       "<table border=\"1\" class=\"dataframe\">\n",
       "  <thead>\n",
       "    <tr style=\"text-align: right;\">\n",
       "      <th></th>\n",
       "      <th>CustomerID</th>\n",
       "      <th>RDate</th>\n",
       "      <th>Frequency</th>\n",
       "      <th>Product</th>\n",
       "      <th>TDate</th>\n",
       "      <th>Monetary</th>\n",
       "      <th>Recency</th>\n",
       "      <th>Tenure</th>\n",
       "      <th>NOW</th>\n",
       "    </tr>\n",
       "  </thead>\n",
       "  <tbody>\n",
       "    <tr>\n",
       "      <th>0</th>\n",
       "      <td>12346</td>\n",
       "      <td>2011-01-18</td>\n",
       "      <td>2</td>\n",
       "      <td>1</td>\n",
       "      <td>2011-01-18</td>\n",
       "      <td>0.00</td>\n",
       "      <td>331</td>\n",
       "      <td>331</td>\n",
       "      <td>2011-12-15</td>\n",
       "    </tr>\n",
       "    <tr>\n",
       "      <th>1</th>\n",
       "      <td>12347</td>\n",
       "      <td>2011-12-07</td>\n",
       "      <td>7</td>\n",
       "      <td>103</td>\n",
       "      <td>2010-12-07</td>\n",
       "      <td>4310.00</td>\n",
       "      <td>8</td>\n",
       "      <td>373</td>\n",
       "      <td>2011-12-15</td>\n",
       "    </tr>\n",
       "    <tr>\n",
       "      <th>2</th>\n",
       "      <td>12348</td>\n",
       "      <td>2011-09-25</td>\n",
       "      <td>4</td>\n",
       "      <td>22</td>\n",
       "      <td>2010-12-16</td>\n",
       "      <td>1797.24</td>\n",
       "      <td>81</td>\n",
       "      <td>364</td>\n",
       "      <td>2011-12-15</td>\n",
       "    </tr>\n",
       "    <tr>\n",
       "      <th>3</th>\n",
       "      <td>12349</td>\n",
       "      <td>2011-11-21</td>\n",
       "      <td>1</td>\n",
       "      <td>73</td>\n",
       "      <td>2011-11-21</td>\n",
       "      <td>1757.55</td>\n",
       "      <td>24</td>\n",
       "      <td>24</td>\n",
       "      <td>2011-12-15</td>\n",
       "    </tr>\n",
       "    <tr>\n",
       "      <th>4</th>\n",
       "      <td>12350</td>\n",
       "      <td>2011-02-02</td>\n",
       "      <td>1</td>\n",
       "      <td>17</td>\n",
       "      <td>2011-02-02</td>\n",
       "      <td>334.40</td>\n",
       "      <td>316</td>\n",
       "      <td>316</td>\n",
       "      <td>2011-12-15</td>\n",
       "    </tr>\n",
       "  </tbody>\n",
       "</table>\n",
       "</div>"
      ],
      "text/plain": [
       "  CustomerID      RDate  Frequency  Product      TDate  Monetary  Recency  \\\n",
       "0      12346 2011-01-18          2        1 2011-01-18      0.00      331   \n",
       "1      12347 2011-12-07          7      103 2010-12-07   4310.00        8   \n",
       "2      12348 2011-09-25          4       22 2010-12-16   1797.24       81   \n",
       "3      12349 2011-11-21          1       73 2011-11-21   1757.55       24   \n",
       "4      12350 2011-02-02          1       17 2011-02-02    334.40      316   \n",
       "\n",
       "   Tenure        NOW  \n",
       "0     331 2011-12-15  \n",
       "1     373 2011-12-15  \n",
       "2     364 2011-12-15  \n",
       "3      24 2011-12-15  \n",
       "4     316 2011-12-15  "
      ]
     },
     "execution_count": 134,
     "metadata": {},
     "output_type": "execute_result"
    }
   ],
   "source": [
    "rfmseg['Recency'] = (rfmseg['NOW'] - rfmseg['RDate']).dt.days\n",
    "rfmseg['Tenure'] = (rfmseg['NOW'] - rfmseg['TDate']).dt.days\n",
    "rfmseg.head()"
   ]
  },
  {
   "cell_type": "code",
   "execution_count": 135,
   "metadata": {},
   "outputs": [
    {
     "name": "stdout",
     "output_type": "stream",
     "text": [
      "Opened database successfully\n",
      "new table got created successfully\n"
     ]
    }
   ],
   "source": [
    "conn = sqlite3.connect('C:\\\\DataSets\\\\RFMDB.db')\n",
    "print (\"Opened database successfully\")\n",
    "rfmseg.to_sql('rfmseg_final',conn, if_exists = 'replace')\n",
    "#rfmdm = pd.read_sql(\"select * from RFMDM\",conn)\n",
    "print (\"new table got created successfully\")\n",
    "conn.close()"
   ]
  },
  {
   "cell_type": "code",
   "execution_count": null,
   "metadata": {},
   "outputs": [],
   "source": []
  },
  {
   "cell_type": "code",
   "execution_count": 84,
   "metadata": {},
   "outputs": [
    {
     "name": "stdout",
     "output_type": "stream",
     "text": [
      "12/23/2010\n"
     ]
    },
    {
     "data": {
      "text/html": [
       "<div>\n",
       "<style scoped>\n",
       "    .dataframe tbody tr th:only-of-type {\n",
       "        vertical-align: middle;\n",
       "    }\n",
       "\n",
       "    .dataframe tbody tr th {\n",
       "        vertical-align: top;\n",
       "    }\n",
       "\n",
       "    .dataframe thead th {\n",
       "        text-align: right;\n",
       "    }\n",
       "</style>\n",
       "<table border=\"1\" class=\"dataframe\">\n",
       "  <thead>\n",
       "    <tr style=\"text-align: right;\">\n",
       "      <th></th>\n",
       "      <th>CustomerID</th>\n",
       "      <th>RDate</th>\n",
       "      <th>Frequency</th>\n",
       "      <th>Product</th>\n",
       "      <th>TDate</th>\n",
       "      <th>Monetary</th>\n",
       "      <th>Recency</th>\n",
       "      <th>Tenure</th>\n",
       "      <th>MAXRDATE</th>\n",
       "      <th>reportdate</th>\n",
       "    </tr>\n",
       "  </thead>\n",
       "  <tbody>\n",
       "    <tr>\n",
       "      <th>0</th>\n",
       "      <td>12346</td>\n",
       "      <td>01/18/2011</td>\n",
       "      <td>1</td>\n",
       "      <td>1</td>\n",
       "      <td>01/18/2011</td>\n",
       "      <td>77183.60</td>\n",
       "      <td>None</td>\n",
       "      <td>None</td>\n",
       "      <td>12/23/2010</td>\n",
       "      <td>2010-12-26</td>\n",
       "    </tr>\n",
       "    <tr>\n",
       "      <th>1</th>\n",
       "      <td>12347</td>\n",
       "      <td>12/07/2011</td>\n",
       "      <td>7</td>\n",
       "      <td>103</td>\n",
       "      <td>12/07/2010</td>\n",
       "      <td>4310.00</td>\n",
       "      <td>None</td>\n",
       "      <td>None</td>\n",
       "      <td>12/23/2010</td>\n",
       "      <td>2010-12-26</td>\n",
       "    </tr>\n",
       "    <tr>\n",
       "      <th>2</th>\n",
       "      <td>12348</td>\n",
       "      <td>09/25/2011</td>\n",
       "      <td>4</td>\n",
       "      <td>21</td>\n",
       "      <td>12/16/2010</td>\n",
       "      <td>1437.24</td>\n",
       "      <td>None</td>\n",
       "      <td>None</td>\n",
       "      <td>12/23/2010</td>\n",
       "      <td>2010-12-26</td>\n",
       "    </tr>\n",
       "    <tr>\n",
       "      <th>3</th>\n",
       "      <td>12349</td>\n",
       "      <td>11/21/2011</td>\n",
       "      <td>1</td>\n",
       "      <td>72</td>\n",
       "      <td>11/21/2011</td>\n",
       "      <td>1457.55</td>\n",
       "      <td>None</td>\n",
       "      <td>None</td>\n",
       "      <td>12/23/2010</td>\n",
       "      <td>2010-12-26</td>\n",
       "    </tr>\n",
       "    <tr>\n",
       "      <th>4</th>\n",
       "      <td>12350</td>\n",
       "      <td>02/02/2011</td>\n",
       "      <td>1</td>\n",
       "      <td>16</td>\n",
       "      <td>02/02/2011</td>\n",
       "      <td>294.40</td>\n",
       "      <td>None</td>\n",
       "      <td>None</td>\n",
       "      <td>12/23/2010</td>\n",
       "      <td>2010-12-26</td>\n",
       "    </tr>\n",
       "  </tbody>\n",
       "</table>\n",
       "</div>"
      ],
      "text/plain": [
       "  CustomerID       RDate  Frequency  Product       TDate  Monetary Recency  \\\n",
       "0      12346  01/18/2011          1        1  01/18/2011  77183.60    None   \n",
       "1      12347  12/07/2011          7      103  12/07/2010   4310.00    None   \n",
       "2      12348  09/25/2011          4       21  12/16/2010   1437.24    None   \n",
       "3      12349  11/21/2011          1       72  11/21/2011   1457.55    None   \n",
       "4      12350  02/02/2011          1       16  02/02/2011    294.40    None   \n",
       "\n",
       "  Tenure    MAXRDATE reportdate  \n",
       "0   None  12/23/2010 2010-12-26  \n",
       "1   None  12/23/2010 2010-12-26  \n",
       "2   None  12/23/2010 2010-12-26  \n",
       "3   None  12/23/2010 2010-12-26  \n",
       "4   None  12/23/2010 2010-12-26  "
      ]
     },
     "execution_count": 84,
     "metadata": {},
     "output_type": "execute_result"
    }
   ],
   "source": [
    "#print(max(rfmseg['RDate']))\n",
    "#rfmseg['MAXRDATE'] = max(rfmseg['RDate'])\n",
    "#rfmseg['reportdate'] = pd.to_datetime(rfmseg['MAXRDATE']).apply(pd.DateOffset(1))\n",
    "rfmseg.head()"
   ]
  },
  {
   "cell_type": "code",
   "execution_count": 24,
   "metadata": {
    "scrolled": true
   },
   "outputs": [
    {
     "data": {
      "text/html": [
       "<div>\n",
       "<style scoped>\n",
       "    .dataframe tbody tr th:only-of-type {\n",
       "        vertical-align: middle;\n",
       "    }\n",
       "\n",
       "    .dataframe tbody tr th {\n",
       "        vertical-align: top;\n",
       "    }\n",
       "\n",
       "    .dataframe thead th {\n",
       "        text-align: right;\n",
       "    }\n",
       "</style>\n",
       "<table border=\"1\" class=\"dataframe\">\n",
       "  <thead>\n",
       "    <tr style=\"text-align: right;\">\n",
       "      <th></th>\n",
       "      <th>Frequency</th>\n",
       "      <th>Product</th>\n",
       "      <th>Monetary</th>\n",
       "    </tr>\n",
       "  </thead>\n",
       "  <tbody>\n",
       "    <tr>\n",
       "      <th>count</th>\n",
       "      <td>4335.000000</td>\n",
       "      <td>4335.000000</td>\n",
       "      <td>4335.000000</td>\n",
       "    </tr>\n",
       "    <tr>\n",
       "      <th>mean</th>\n",
       "      <td>4.245675</td>\n",
       "      <td>61.413149</td>\n",
       "      <td>2021.007301</td>\n",
       "    </tr>\n",
       "    <tr>\n",
       "      <th>std</th>\n",
       "      <td>7.636337</td>\n",
       "      <td>85.304170</td>\n",
       "      <td>8906.526607</td>\n",
       "    </tr>\n",
       "    <tr>\n",
       "      <th>min</th>\n",
       "      <td>1.000000</td>\n",
       "      <td>1.000000</td>\n",
       "      <td>0.000000</td>\n",
       "    </tr>\n",
       "    <tr>\n",
       "      <th>25%</th>\n",
       "      <td>1.000000</td>\n",
       "      <td>16.000000</td>\n",
       "      <td>305.410000</td>\n",
       "    </tr>\n",
       "    <tr>\n",
       "      <th>50%</th>\n",
       "      <td>2.000000</td>\n",
       "      <td>35.000000</td>\n",
       "      <td>668.110000</td>\n",
       "    </tr>\n",
       "    <tr>\n",
       "      <th>75%</th>\n",
       "      <td>5.000000</td>\n",
       "      <td>77.000000</td>\n",
       "      <td>1631.475000</td>\n",
       "    </tr>\n",
       "    <tr>\n",
       "      <th>max</th>\n",
       "      <td>206.000000</td>\n",
       "      <td>1785.000000</td>\n",
       "      <td>279138.020000</td>\n",
       "    </tr>\n",
       "  </tbody>\n",
       "</table>\n",
       "</div>"
      ],
      "text/plain": [
       "         Frequency      Product       Monetary\n",
       "count  4335.000000  4335.000000    4335.000000\n",
       "mean      4.245675    61.413149    2021.007301\n",
       "std       7.636337    85.304170    8906.526607\n",
       "min       1.000000     1.000000       0.000000\n",
       "25%       1.000000    16.000000     305.410000\n",
       "50%       2.000000    35.000000     668.110000\n",
       "75%       5.000000    77.000000    1631.475000\n",
       "max     206.000000  1785.000000  279138.020000"
      ]
     },
     "execution_count": 24,
     "metadata": {},
     "output_type": "execute_result"
    }
   ],
   "source": [
    "rfmseg.describe()"
   ]
  },
  {
   "cell_type": "code",
   "execution_count": null,
   "metadata": {},
   "outputs": [],
   "source": [
    "rfmseg.shape"
   ]
  },
  {
   "cell_type": "code",
   "execution_count": null,
   "metadata": {},
   "outputs": [],
   "source": [
    "import matplotlib.pyplot as plt\n",
    "rfmseg.hist(figsize = (10,20))\n",
    "plt.show()"
   ]
  },
  {
   "cell_type": "code",
   "execution_count": null,
   "metadata": {},
   "outputs": [],
   "source": [
    "import matplotlib.pyplot as plt\n",
    "rfmseg.plot.box()\n",
    "plt.show()"
   ]
  },
  {
   "cell_type": "code",
   "execution_count": null,
   "metadata": {},
   "outputs": [],
   "source": [
    "plt.boxplot(rfmseg[\"Frequency\"])\n",
    "plt.show()"
   ]
  },
  {
   "cell_type": "code",
   "execution_count": null,
   "metadata": {},
   "outputs": [],
   "source": [
    "plt.boxplot(rfmseg[\"Monetary\"])\n",
    "plt.show()"
   ]
  },
  {
   "cell_type": "code",
   "execution_count": null,
   "metadata": {},
   "outputs": [],
   "source": [
    "plt.boxplot(rfmseg[\"Product\"])\n",
    "plt.show()"
   ]
  },
  {
   "cell_type": "code",
   "execution_count": null,
   "metadata": {},
   "outputs": [],
   "source": [
    "plt.boxplot(rfmseg[\"Recency\"])\n",
    "plt.show()"
   ]
  },
  {
   "cell_type": "code",
   "execution_count": null,
   "metadata": {},
   "outputs": [],
   "source": [
    "plt.boxplot(rfmseg[\"Tenure\"])\n",
    "plt.show()"
   ]
  },
  {
   "cell_type": "code",
   "execution_count": null,
   "metadata": {},
   "outputs": [],
   "source": [
    "import seaborn as sns\n",
    "sns.pairplot(rfmseg, hue = None, size=3)\n",
    "plt.show()"
   ]
  },
  {
   "cell_type": "code",
   "execution_count": null,
   "metadata": {},
   "outputs": [],
   "source": []
  }
 ],
 "metadata": {
  "kernelspec": {
   "display_name": "Python 3",
   "language": "python",
   "name": "python3"
  },
  "language_info": {
   "codemirror_mode": {
    "name": "ipython",
    "version": 3
   },
   "file_extension": ".py",
   "mimetype": "text/x-python",
   "name": "python",
   "nbconvert_exporter": "python",
   "pygments_lexer": "ipython3",
   "version": "3.6.2"
  }
 },
 "nbformat": 4,
 "nbformat_minor": 2
}
